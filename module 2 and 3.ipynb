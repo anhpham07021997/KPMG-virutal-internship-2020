{
  "nbformat": 4,
  "nbformat_minor": 0,
  "metadata": {
    "colab": {
      "name": "kpmg ban cuoi.ipynb",
      "provenance": [],
      "collapsed_sections": [
        "UYRXMKnWJ_6f",
        "PO5JAK7yNmDS",
        "kbVa4enJiYMz",
        "F1t-MP9Nvl2M",
        "KVY3w7Zliq4r",
        "XYg88qE7i0Ty",
        "9LyK0fQTi0c5",
        "LOa6Tlaui0k9",
        "s8Jahe_5jIby",
        "7vwvmOEymY9A",
        "_AhH4n3OjPYS",
        "I32TAGAEjVRv",
        "ENy4uyaYHGEh",
        "0xMPwPTGvwwk",
        "S9SxbzyJxH5R",
        "aoBh6FvK0UT7",
        "-rNPBprT2RJZ",
        "yHBDYGV85_OG",
        "gHAsDgBv4RAp",
        "7IQ39HT_Bg1R",
        "4RlQ57lZv02o",
        "gQ_GOidEd1Og",
        "YEJ2Tap7Fmyw",
        "8kY9dOdrjpht",
        "CKwff7UrzJVH",
        "XUPwrvxl1UQx",
        "isPJsaMe2_Dh",
        "iDFz1AkO60ze",
        "OP18kOK_5IET",
        "9wyj3o3QC76o",
        "LDOUbSp9C8H1",
        "ya2U9TvcCIso",
        "7bD8x6mIJaG3",
        "VkuzM3hFQSVR",
        "mlU-gUHCb91V"
      ]
    },
    "kernelspec": {
      "name": "python3",
      "display_name": "Python 3"
    }
  },
  "cells": [
    {
      "cell_type": "code",
      "metadata": {
        "id": "tf6z5_qZ2kQ0",
        "colab_type": "code",
        "colab": {}
      },
      "source": [
        "import pandas as pd\n",
        "import seaborn as sns\n",
        "sns.set()\n",
        "import matplotlib.pyplot as plt\n",
        "from sklearn.model_selection import train_test_split\n",
        "import numpy as np "
      ],
      "execution_count": 151,
      "outputs": []
    },
    {
      "cell_type": "markdown",
      "metadata": {
        "id": "ysph6kFi26PK",
        "colab_type": "text"
      },
      "source": [
        "# Import data \n"
      ]
    },
    {
      "cell_type": "code",
      "metadata": {
        "id": "8Uq9gnmM3Ftk",
        "colab_type": "code",
        "colab": {}
      },
      "source": [
        "xlsx = pd.ExcelFile('KPMG_VI_New_raw_data_update_final.xlsx')\n",
        "cus_transaction=pd.read_excel(xlsx, 'Transactions')\n",
        "cus_list = pd.read_excel(xlsx, 'NewCustomerList')\n",
        "cus_demographic= pd.read_excel(xlsx, 'CustomerDemographic')\n",
        "cus_address = pd. read_excel(xlsx,'CustomerAddress')"
      ],
      "execution_count": 152,
      "outputs": []
    },
    {
      "cell_type": "markdown",
      "metadata": {
        "id": "QCdagjWUxyqQ",
        "colab_type": "text"
      },
      "source": [
        "# Access customer's address \n"
      ]
    },
    {
      "cell_type": "code",
      "metadata": {
        "id": "c3S_maKjsGGx",
        "colab_type": "code",
        "colab": {
          "base_uri": "https://localhost:8080/",
          "height": 419
        },
        "outputId": "d95ed996-19c2-4ecf-f4aa-efab3c307531"
      },
      "source": [
        "cus_address = pd. read_excel(xlsx,'CustomerAddress')\n",
        "cus_address"
      ],
      "execution_count": 153,
      "outputs": [
        {
          "output_type": "execute_result",
          "data": {
            "text/html": [
              "<div>\n",
              "<style scoped>\n",
              "    .dataframe tbody tr th:only-of-type {\n",
              "        vertical-align: middle;\n",
              "    }\n",
              "\n",
              "    .dataframe tbody tr th {\n",
              "        vertical-align: top;\n",
              "    }\n",
              "\n",
              "    .dataframe thead th {\n",
              "        text-align: right;\n",
              "    }\n",
              "</style>\n",
              "<table border=\"1\" class=\"dataframe\">\n",
              "  <thead>\n",
              "    <tr style=\"text-align: right;\">\n",
              "      <th></th>\n",
              "      <th>customer_id</th>\n",
              "      <th>address</th>\n",
              "      <th>postcode</th>\n",
              "      <th>state</th>\n",
              "      <th>country</th>\n",
              "      <th>property_valuation</th>\n",
              "    </tr>\n",
              "  </thead>\n",
              "  <tbody>\n",
              "    <tr>\n",
              "      <th>0</th>\n",
              "      <td>819</td>\n",
              "      <td>84 Loomis Pass</td>\n",
              "      <td>2000</td>\n",
              "      <td>NSW</td>\n",
              "      <td>Australia</td>\n",
              "      <td>12</td>\n",
              "    </tr>\n",
              "    <tr>\n",
              "      <th>1</th>\n",
              "      <td>1815</td>\n",
              "      <td>1508 Hooker Avenue</td>\n",
              "      <td>2000</td>\n",
              "      <td>NSW</td>\n",
              "      <td>Australia</td>\n",
              "      <td>8</td>\n",
              "    </tr>\n",
              "    <tr>\n",
              "      <th>2</th>\n",
              "      <td>2560</td>\n",
              "      <td>583 Eagle Crest Road</td>\n",
              "      <td>2000</td>\n",
              "      <td>NSW</td>\n",
              "      <td>Australia</td>\n",
              "      <td>8</td>\n",
              "    </tr>\n",
              "    <tr>\n",
              "      <th>3</th>\n",
              "      <td>2629</td>\n",
              "      <td>2 Beilfuss Plaza</td>\n",
              "      <td>2000</td>\n",
              "      <td>NSW</td>\n",
              "      <td>Australia</td>\n",
              "      <td>9</td>\n",
              "    </tr>\n",
              "    <tr>\n",
              "      <th>4</th>\n",
              "      <td>2636</td>\n",
              "      <td>701 Talisman Crossing</td>\n",
              "      <td>2000</td>\n",
              "      <td>NSW</td>\n",
              "      <td>Australia</td>\n",
              "      <td>10</td>\n",
              "    </tr>\n",
              "    <tr>\n",
              "      <th>...</th>\n",
              "      <td>...</td>\n",
              "      <td>...</td>\n",
              "      <td>...</td>\n",
              "      <td>...</td>\n",
              "      <td>...</td>\n",
              "      <td>...</td>\n",
              "    </tr>\n",
              "    <tr>\n",
              "      <th>3994</th>\n",
              "      <td>1794</td>\n",
              "      <td>59 Old Gate Drive</td>\n",
              "      <td>4878</td>\n",
              "      <td>QLD</td>\n",
              "      <td>Australia</td>\n",
              "      <td>5</td>\n",
              "    </tr>\n",
              "    <tr>\n",
              "      <th>3995</th>\n",
              "      <td>2688</td>\n",
              "      <td>22 Moulton Place</td>\n",
              "      <td>4878</td>\n",
              "      <td>QLD</td>\n",
              "      <td>Australia</td>\n",
              "      <td>4</td>\n",
              "    </tr>\n",
              "    <tr>\n",
              "      <th>3996</th>\n",
              "      <td>2406</td>\n",
              "      <td>645 Thackeray Street</td>\n",
              "      <td>4879</td>\n",
              "      <td>QLD</td>\n",
              "      <td>Australia</td>\n",
              "      <td>6</td>\n",
              "    </tr>\n",
              "    <tr>\n",
              "      <th>3997</th>\n",
              "      <td>2424</td>\n",
              "      <td>9 Northwestern Pass</td>\n",
              "      <td>4879</td>\n",
              "      <td>QLD</td>\n",
              "      <td>Australia</td>\n",
              "      <td>6</td>\n",
              "    </tr>\n",
              "    <tr>\n",
              "      <th>3998</th>\n",
              "      <td>2929</td>\n",
              "      <td>415 Walton Lane</td>\n",
              "      <td>4883</td>\n",
              "      <td>QLD</td>\n",
              "      <td>Australia</td>\n",
              "      <td>3</td>\n",
              "    </tr>\n",
              "  </tbody>\n",
              "</table>\n",
              "<p>3999 rows × 6 columns</p>\n",
              "</div>"
            ],
            "text/plain": [
              "      customer_id                address  ...    country property_valuation\n",
              "0             819         84 Loomis Pass  ...  Australia                 12\n",
              "1            1815     1508 Hooker Avenue  ...  Australia                  8\n",
              "2            2560   583 Eagle Crest Road  ...  Australia                  8\n",
              "3            2629       2 Beilfuss Plaza  ...  Australia                  9\n",
              "4            2636  701 Talisman Crossing  ...  Australia                 10\n",
              "...           ...                    ...  ...        ...                ...\n",
              "3994         1794      59 Old Gate Drive  ...  Australia                  5\n",
              "3995         2688       22 Moulton Place  ...  Australia                  4\n",
              "3996         2406   645 Thackeray Street  ...  Australia                  6\n",
              "3997         2424    9 Northwestern Pass  ...  Australia                  6\n",
              "3998         2929        415 Walton Lane  ...  Australia                  3\n",
              "\n",
              "[3999 rows x 6 columns]"
            ]
          },
          "metadata": {
            "tags": []
          },
          "execution_count": 153
        }
      ]
    },
    {
      "cell_type": "code",
      "metadata": {
        "id": "m0oKtyZDsj6g",
        "colab_type": "code",
        "colab": {}
      },
      "source": [
        "cus_address.state.replace({\"New South Wales\":\"NSW\",\"Victoria\":\"VIC\"},inplace=True)\n"
      ],
      "execution_count": 154,
      "outputs": []
    },
    {
      "cell_type": "code",
      "metadata": {
        "id": "VyeBmD1ntO_s",
        "colab_type": "code",
        "colab": {
          "base_uri": "https://localhost:8080/",
          "height": 419
        },
        "outputId": "07a9014e-0937-461e-824f-c35c107f3e2c"
      },
      "source": [
        "cus_address"
      ],
      "execution_count": 155,
      "outputs": [
        {
          "output_type": "execute_result",
          "data": {
            "text/html": [
              "<div>\n",
              "<style scoped>\n",
              "    .dataframe tbody tr th:only-of-type {\n",
              "        vertical-align: middle;\n",
              "    }\n",
              "\n",
              "    .dataframe tbody tr th {\n",
              "        vertical-align: top;\n",
              "    }\n",
              "\n",
              "    .dataframe thead th {\n",
              "        text-align: right;\n",
              "    }\n",
              "</style>\n",
              "<table border=\"1\" class=\"dataframe\">\n",
              "  <thead>\n",
              "    <tr style=\"text-align: right;\">\n",
              "      <th></th>\n",
              "      <th>customer_id</th>\n",
              "      <th>address</th>\n",
              "      <th>postcode</th>\n",
              "      <th>state</th>\n",
              "      <th>country</th>\n",
              "      <th>property_valuation</th>\n",
              "    </tr>\n",
              "  </thead>\n",
              "  <tbody>\n",
              "    <tr>\n",
              "      <th>0</th>\n",
              "      <td>819</td>\n",
              "      <td>84 Loomis Pass</td>\n",
              "      <td>2000</td>\n",
              "      <td>NSW</td>\n",
              "      <td>Australia</td>\n",
              "      <td>12</td>\n",
              "    </tr>\n",
              "    <tr>\n",
              "      <th>1</th>\n",
              "      <td>1815</td>\n",
              "      <td>1508 Hooker Avenue</td>\n",
              "      <td>2000</td>\n",
              "      <td>NSW</td>\n",
              "      <td>Australia</td>\n",
              "      <td>8</td>\n",
              "    </tr>\n",
              "    <tr>\n",
              "      <th>2</th>\n",
              "      <td>2560</td>\n",
              "      <td>583 Eagle Crest Road</td>\n",
              "      <td>2000</td>\n",
              "      <td>NSW</td>\n",
              "      <td>Australia</td>\n",
              "      <td>8</td>\n",
              "    </tr>\n",
              "    <tr>\n",
              "      <th>3</th>\n",
              "      <td>2629</td>\n",
              "      <td>2 Beilfuss Plaza</td>\n",
              "      <td>2000</td>\n",
              "      <td>NSW</td>\n",
              "      <td>Australia</td>\n",
              "      <td>9</td>\n",
              "    </tr>\n",
              "    <tr>\n",
              "      <th>4</th>\n",
              "      <td>2636</td>\n",
              "      <td>701 Talisman Crossing</td>\n",
              "      <td>2000</td>\n",
              "      <td>NSW</td>\n",
              "      <td>Australia</td>\n",
              "      <td>10</td>\n",
              "    </tr>\n",
              "    <tr>\n",
              "      <th>...</th>\n",
              "      <td>...</td>\n",
              "      <td>...</td>\n",
              "      <td>...</td>\n",
              "      <td>...</td>\n",
              "      <td>...</td>\n",
              "      <td>...</td>\n",
              "    </tr>\n",
              "    <tr>\n",
              "      <th>3994</th>\n",
              "      <td>1794</td>\n",
              "      <td>59 Old Gate Drive</td>\n",
              "      <td>4878</td>\n",
              "      <td>QLD</td>\n",
              "      <td>Australia</td>\n",
              "      <td>5</td>\n",
              "    </tr>\n",
              "    <tr>\n",
              "      <th>3995</th>\n",
              "      <td>2688</td>\n",
              "      <td>22 Moulton Place</td>\n",
              "      <td>4878</td>\n",
              "      <td>QLD</td>\n",
              "      <td>Australia</td>\n",
              "      <td>4</td>\n",
              "    </tr>\n",
              "    <tr>\n",
              "      <th>3996</th>\n",
              "      <td>2406</td>\n",
              "      <td>645 Thackeray Street</td>\n",
              "      <td>4879</td>\n",
              "      <td>QLD</td>\n",
              "      <td>Australia</td>\n",
              "      <td>6</td>\n",
              "    </tr>\n",
              "    <tr>\n",
              "      <th>3997</th>\n",
              "      <td>2424</td>\n",
              "      <td>9 Northwestern Pass</td>\n",
              "      <td>4879</td>\n",
              "      <td>QLD</td>\n",
              "      <td>Australia</td>\n",
              "      <td>6</td>\n",
              "    </tr>\n",
              "    <tr>\n",
              "      <th>3998</th>\n",
              "      <td>2929</td>\n",
              "      <td>415 Walton Lane</td>\n",
              "      <td>4883</td>\n",
              "      <td>QLD</td>\n",
              "      <td>Australia</td>\n",
              "      <td>3</td>\n",
              "    </tr>\n",
              "  </tbody>\n",
              "</table>\n",
              "<p>3999 rows × 6 columns</p>\n",
              "</div>"
            ],
            "text/plain": [
              "      customer_id                address  ...    country property_valuation\n",
              "0             819         84 Loomis Pass  ...  Australia                 12\n",
              "1            1815     1508 Hooker Avenue  ...  Australia                  8\n",
              "2            2560   583 Eagle Crest Road  ...  Australia                  8\n",
              "3            2629       2 Beilfuss Plaza  ...  Australia                  9\n",
              "4            2636  701 Talisman Crossing  ...  Australia                 10\n",
              "...           ...                    ...  ...        ...                ...\n",
              "3994         1794      59 Old Gate Drive  ...  Australia                  5\n",
              "3995         2688       22 Moulton Place  ...  Australia                  4\n",
              "3996         2406   645 Thackeray Street  ...  Australia                  6\n",
              "3997         2424    9 Northwestern Pass  ...  Australia                  6\n",
              "3998         2929        415 Walton Lane  ...  Australia                  3\n",
              "\n",
              "[3999 rows x 6 columns]"
            ]
          },
          "metadata": {
            "tags": []
          },
          "execution_count": 155
        }
      ]
    },
    {
      "cell_type": "markdown",
      "metadata": {
        "id": "kRiBiCs03IQO",
        "colab_type": "text"
      },
      "source": [
        "# RFM model "
      ]
    },
    {
      "cell_type": "markdown",
      "metadata": {
        "id": "j-vWKJ53vQMt",
        "colab_type": "text"
      },
      "source": [
        "### choose 100 customers who are worthy to be retained. "
      ]
    },
    {
      "cell_type": "code",
      "metadata": {
        "id": "AuxUu1b-3gmD",
        "colab_type": "code",
        "colab": {
          "base_uri": "https://localhost:8080/",
          "height": 558
        },
        "outputId": "4edb2d7b-228f-4dcb-84c1-9ca085bb50e3"
      },
      "source": [
        "cus_transaction"
      ],
      "execution_count": 156,
      "outputs": [
        {
          "output_type": "execute_result",
          "data": {
            "text/html": [
              "<div>\n",
              "<style scoped>\n",
              "    .dataframe tbody tr th:only-of-type {\n",
              "        vertical-align: middle;\n",
              "    }\n",
              "\n",
              "    .dataframe tbody tr th {\n",
              "        vertical-align: top;\n",
              "    }\n",
              "\n",
              "    .dataframe thead th {\n",
              "        text-align: right;\n",
              "    }\n",
              "</style>\n",
              "<table border=\"1\" class=\"dataframe\">\n",
              "  <thead>\n",
              "    <tr style=\"text-align: right;\">\n",
              "      <th></th>\n",
              "      <th>transaction_id</th>\n",
              "      <th>product_id</th>\n",
              "      <th>customer_id</th>\n",
              "      <th>transaction_date</th>\n",
              "      <th>online_order</th>\n",
              "      <th>order_status</th>\n",
              "      <th>brand</th>\n",
              "      <th>product_line</th>\n",
              "      <th>product_class</th>\n",
              "      <th>product_size</th>\n",
              "      <th>list_price</th>\n",
              "      <th>standard_cost</th>\n",
              "      <th>product_first_sold_date</th>\n",
              "      <th>Profits</th>\n",
              "    </tr>\n",
              "  </thead>\n",
              "  <tbody>\n",
              "    <tr>\n",
              "      <th>0</th>\n",
              "      <td>140</td>\n",
              "      <td>11</td>\n",
              "      <td>462</td>\n",
              "      <td>2017-01-01</td>\n",
              "      <td>0.0</td>\n",
              "      <td>Approved</td>\n",
              "      <td>Giant Bicycles</td>\n",
              "      <td>Standard</td>\n",
              "      <td>high</td>\n",
              "      <td>medium</td>\n",
              "      <td>1274.93</td>\n",
              "      <td>764.96</td>\n",
              "      <td>42560.0</td>\n",
              "      <td>509.97</td>\n",
              "    </tr>\n",
              "    <tr>\n",
              "      <th>1</th>\n",
              "      <td>517</td>\n",
              "      <td>77</td>\n",
              "      <td>311</td>\n",
              "      <td>2017-01-01</td>\n",
              "      <td>1.0</td>\n",
              "      <td>Approved</td>\n",
              "      <td>WeareA2B</td>\n",
              "      <td>Standard</td>\n",
              "      <td>medium</td>\n",
              "      <td>medium</td>\n",
              "      <td>1769.64</td>\n",
              "      <td>108.76</td>\n",
              "      <td>40672.0</td>\n",
              "      <td>1660.88</td>\n",
              "    </tr>\n",
              "    <tr>\n",
              "      <th>2</th>\n",
              "      <td>561</td>\n",
              "      <td>65</td>\n",
              "      <td>2298</td>\n",
              "      <td>2017-01-01</td>\n",
              "      <td>0.0</td>\n",
              "      <td>Approved</td>\n",
              "      <td>WeareA2B</td>\n",
              "      <td>Standard</td>\n",
              "      <td>medium</td>\n",
              "      <td>medium</td>\n",
              "      <td>1807.45</td>\n",
              "      <td>778.69</td>\n",
              "      <td>40410.0</td>\n",
              "      <td>1028.76</td>\n",
              "    </tr>\n",
              "    <tr>\n",
              "      <th>3</th>\n",
              "      <td>1293</td>\n",
              "      <td>67</td>\n",
              "      <td>1931</td>\n",
              "      <td>2017-01-01</td>\n",
              "      <td>1.0</td>\n",
              "      <td>Approved</td>\n",
              "      <td>Norco Bicycles</td>\n",
              "      <td>Road</td>\n",
              "      <td>medium</td>\n",
              "      <td>medium</td>\n",
              "      <td>544.05</td>\n",
              "      <td>376.84</td>\n",
              "      <td>38647.0</td>\n",
              "      <td>167.21</td>\n",
              "    </tr>\n",
              "    <tr>\n",
              "      <th>4</th>\n",
              "      <td>1403</td>\n",
              "      <td>0</td>\n",
              "      <td>2891</td>\n",
              "      <td>2017-01-01</td>\n",
              "      <td>1.0</td>\n",
              "      <td>Approved</td>\n",
              "      <td>OHM Cycles</td>\n",
              "      <td>Standard</td>\n",
              "      <td>medium</td>\n",
              "      <td>medium</td>\n",
              "      <td>183.86</td>\n",
              "      <td>137.90</td>\n",
              "      <td>34170.0</td>\n",
              "      <td>45.96</td>\n",
              "    </tr>\n",
              "    <tr>\n",
              "      <th>...</th>\n",
              "      <td>...</td>\n",
              "      <td>...</td>\n",
              "      <td>...</td>\n",
              "      <td>...</td>\n",
              "      <td>...</td>\n",
              "      <td>...</td>\n",
              "      <td>...</td>\n",
              "      <td>...</td>\n",
              "      <td>...</td>\n",
              "      <td>...</td>\n",
              "      <td>...</td>\n",
              "      <td>...</td>\n",
              "      <td>...</td>\n",
              "      <td>...</td>\n",
              "    </tr>\n",
              "    <tr>\n",
              "      <th>19995</th>\n",
              "      <td>17394</td>\n",
              "      <td>20</td>\n",
              "      <td>933</td>\n",
              "      <td>2017-12-30</td>\n",
              "      <td>0.0</td>\n",
              "      <td>Approved</td>\n",
              "      <td>Trek Bicycles</td>\n",
              "      <td>Standard</td>\n",
              "      <td>medium</td>\n",
              "      <td>small</td>\n",
              "      <td>1775.81</td>\n",
              "      <td>1580.47</td>\n",
              "      <td>35160.0</td>\n",
              "      <td>195.34</td>\n",
              "    </tr>\n",
              "    <tr>\n",
              "      <th>19996</th>\n",
              "      <td>18609</td>\n",
              "      <td>27</td>\n",
              "      <td>2372</td>\n",
              "      <td>2017-12-30</td>\n",
              "      <td>0.0</td>\n",
              "      <td>Approved</td>\n",
              "      <td>Trek Bicycles</td>\n",
              "      <td>Standard</td>\n",
              "      <td>medium</td>\n",
              "      <td>medium</td>\n",
              "      <td>499.53</td>\n",
              "      <td>388.72</td>\n",
              "      <td>36334.0</td>\n",
              "      <td>110.81</td>\n",
              "    </tr>\n",
              "    <tr>\n",
              "      <th>19997</th>\n",
              "      <td>19346</td>\n",
              "      <td>4</td>\n",
              "      <td>543</td>\n",
              "      <td>2017-12-30</td>\n",
              "      <td>0.0</td>\n",
              "      <td>Approved</td>\n",
              "      <td>Giant Bicycles</td>\n",
              "      <td>Standard</td>\n",
              "      <td>high</td>\n",
              "      <td>medium</td>\n",
              "      <td>1129.13</td>\n",
              "      <td>677.48</td>\n",
              "      <td>40649.0</td>\n",
              "      <td>451.65</td>\n",
              "    </tr>\n",
              "    <tr>\n",
              "      <th>19998</th>\n",
              "      <td>19907</td>\n",
              "      <td>41</td>\n",
              "      <td>1721</td>\n",
              "      <td>2017-12-30</td>\n",
              "      <td>0.0</td>\n",
              "      <td>Approved</td>\n",
              "      <td>Norco Bicycles</td>\n",
              "      <td>Standard</td>\n",
              "      <td>low</td>\n",
              "      <td>medium</td>\n",
              "      <td>958.74</td>\n",
              "      <td>748.90</td>\n",
              "      <td>38693.0</td>\n",
              "      <td>209.84</td>\n",
              "    </tr>\n",
              "    <tr>\n",
              "      <th>19999</th>\n",
              "      <td>19959</td>\n",
              "      <td>4</td>\n",
              "      <td>1787</td>\n",
              "      <td>2017-12-30</td>\n",
              "      <td>0.0</td>\n",
              "      <td>Approved</td>\n",
              "      <td>Solex</td>\n",
              "      <td>Standard</td>\n",
              "      <td>medium</td>\n",
              "      <td>medium</td>\n",
              "      <td>1483.20</td>\n",
              "      <td>99.59</td>\n",
              "      <td>38647.0</td>\n",
              "      <td>1383.61</td>\n",
              "    </tr>\n",
              "  </tbody>\n",
              "</table>\n",
              "<p>20000 rows × 14 columns</p>\n",
              "</div>"
            ],
            "text/plain": [
              "       transaction_id  product_id  ...  product_first_sold_date  Profits\n",
              "0                 140          11  ...                  42560.0   509.97\n",
              "1                 517          77  ...                  40672.0  1660.88\n",
              "2                 561          65  ...                  40410.0  1028.76\n",
              "3                1293          67  ...                  38647.0   167.21\n",
              "4                1403           0  ...                  34170.0    45.96\n",
              "...               ...         ...  ...                      ...      ...\n",
              "19995           17394          20  ...                  35160.0   195.34\n",
              "19996           18609          27  ...                  36334.0   110.81\n",
              "19997           19346           4  ...                  40649.0   451.65\n",
              "19998           19907          41  ...                  38693.0   209.84\n",
              "19999           19959           4  ...                  38647.0  1383.61\n",
              "\n",
              "[20000 rows x 14 columns]"
            ]
          },
          "metadata": {
            "tags": []
          },
          "execution_count": 156
        }
      ]
    },
    {
      "cell_type": "code",
      "metadata": {
        "id": "VFeerwwR4uWH",
        "colab_type": "code",
        "colab": {
          "base_uri": "https://localhost:8080/",
          "height": 374
        },
        "outputId": "c5cb1f7c-36fa-4e52-9d51-394104426ca5"
      },
      "source": [
        "cus_transaction.info()"
      ],
      "execution_count": 157,
      "outputs": [
        {
          "output_type": "stream",
          "text": [
            "<class 'pandas.core.frame.DataFrame'>\n",
            "RangeIndex: 20000 entries, 0 to 19999\n",
            "Data columns (total 14 columns):\n",
            " #   Column                   Non-Null Count  Dtype         \n",
            "---  ------                   --------------  -----         \n",
            " 0   transaction_id           20000 non-null  int64         \n",
            " 1   product_id               20000 non-null  int64         \n",
            " 2   customer_id              20000 non-null  int64         \n",
            " 3   transaction_date         20000 non-null  datetime64[ns]\n",
            " 4   online_order             19640 non-null  float64       \n",
            " 5   order_status             20000 non-null  object        \n",
            " 6   brand                    19803 non-null  object        \n",
            " 7   product_line             19803 non-null  object        \n",
            " 8   product_class            19803 non-null  object        \n",
            " 9   product_size             19803 non-null  object        \n",
            " 10  list_price               20000 non-null  float64       \n",
            " 11  standard_cost            19803 non-null  float64       \n",
            " 12  product_first_sold_date  19803 non-null  float64       \n",
            " 13  Profits                  20000 non-null  float64       \n",
            "dtypes: datetime64[ns](1), float64(5), int64(3), object(5)\n",
            "memory usage: 2.1+ MB\n"
          ],
          "name": "stdout"
        }
      ]
    },
    {
      "cell_type": "code",
      "metadata": {
        "id": "sgeSDjTu5g9r",
        "colab_type": "code",
        "colab": {
          "base_uri": "https://localhost:8080/",
          "height": 34
        },
        "outputId": "689b3e1e-5416-46f7-b406-f8e4905d19ce"
      },
      "source": [
        "# last data \n",
        "cus_transaction[\"transaction_date\"].max()"
      ],
      "execution_count": 158,
      "outputs": [
        {
          "output_type": "execute_result",
          "data": {
            "text/plain": [
              "Timestamp('2017-12-30 00:00:00')"
            ]
          },
          "metadata": {
            "tags": []
          },
          "execution_count": 158
        }
      ]
    },
    {
      "cell_type": "code",
      "metadata": {
        "id": "xTwsIfj351yb",
        "colab_type": "code",
        "colab": {}
      },
      "source": [
        "# import library data\n",
        "import datetime as dt \n",
        "# set lastest date as 2017-12-30 \n",
        "Lastestdate=dt.datetime(2017,12,30)\n",
        "# RFM model \n",
        "RFM_model=cus_transaction.groupby(\"customer_id\").agg({\"transaction_date\": (lambda x: (x.max()-Lastestdate).days),\"transaction_id\":(lambda x: len(x)),'Profits': (lambda x: x.sum())})\n",
        "# rename\n",
        "RFM_model.rename(columns={'transaction_date': 'Recency', \n",
        "                         'transaction_id': 'Frequency', \n",
        "                         'Profits': 'Monetary'}, inplace=True)"
      ],
      "execution_count": 159,
      "outputs": []
    },
    {
      "cell_type": "code",
      "metadata": {
        "id": "dT804HEL_BW8",
        "colab_type": "code",
        "colab": {
          "base_uri": "https://localhost:8080/",
          "height": 450
        },
        "outputId": "930db3b3-46b6-4cb4-d197-1536f11040d2"
      },
      "source": [
        "RFM_model"
      ],
      "execution_count": 160,
      "outputs": [
        {
          "output_type": "execute_result",
          "data": {
            "text/html": [
              "<div>\n",
              "<style scoped>\n",
              "    .dataframe tbody tr th:only-of-type {\n",
              "        vertical-align: middle;\n",
              "    }\n",
              "\n",
              "    .dataframe tbody tr th {\n",
              "        vertical-align: top;\n",
              "    }\n",
              "\n",
              "    .dataframe thead th {\n",
              "        text-align: right;\n",
              "    }\n",
              "</style>\n",
              "<table border=\"1\" class=\"dataframe\">\n",
              "  <thead>\n",
              "    <tr style=\"text-align: right;\">\n",
              "      <th></th>\n",
              "      <th>Recency</th>\n",
              "      <th>Frequency</th>\n",
              "      <th>Monetary</th>\n",
              "    </tr>\n",
              "    <tr>\n",
              "      <th>customer_id</th>\n",
              "      <th></th>\n",
              "      <th></th>\n",
              "      <th></th>\n",
              "    </tr>\n",
              "  </thead>\n",
              "  <tbody>\n",
              "    <tr>\n",
              "      <th>1</th>\n",
              "      <td>-7</td>\n",
              "      <td>11</td>\n",
              "      <td>3018.090000</td>\n",
              "    </tr>\n",
              "    <tr>\n",
              "      <th>2</th>\n",
              "      <td>-128</td>\n",
              "      <td>3</td>\n",
              "      <td>2226.260000</td>\n",
              "    </tr>\n",
              "    <tr>\n",
              "      <th>3</th>\n",
              "      <td>-102</td>\n",
              "      <td>8</td>\n",
              "      <td>3362.810000</td>\n",
              "    </tr>\n",
              "    <tr>\n",
              "      <th>4</th>\n",
              "      <td>-195</td>\n",
              "      <td>2</td>\n",
              "      <td>220.570000</td>\n",
              "    </tr>\n",
              "    <tr>\n",
              "      <th>5</th>\n",
              "      <td>-16</td>\n",
              "      <td>6</td>\n",
              "      <td>2394.940000</td>\n",
              "    </tr>\n",
              "    <tr>\n",
              "      <th>...</th>\n",
              "      <td>...</td>\n",
              "      <td>...</td>\n",
              "      <td>...</td>\n",
              "    </tr>\n",
              "    <tr>\n",
              "      <th>3497</th>\n",
              "      <td>-52</td>\n",
              "      <td>3</td>\n",
              "      <td>1648.320000</td>\n",
              "    </tr>\n",
              "    <tr>\n",
              "      <th>3498</th>\n",
              "      <td>-127</td>\n",
              "      <td>6</td>\n",
              "      <td>3147.330000</td>\n",
              "    </tr>\n",
              "    <tr>\n",
              "      <th>3499</th>\n",
              "      <td>-51</td>\n",
              "      <td>7</td>\n",
              "      <td>4955.250000</td>\n",
              "    </tr>\n",
              "    <tr>\n",
              "      <th>3500</th>\n",
              "      <td>-144</td>\n",
              "      <td>6</td>\n",
              "      <td>1785.860000</td>\n",
              "    </tr>\n",
              "    <tr>\n",
              "      <th>5034</th>\n",
              "      <td>-84</td>\n",
              "      <td>3</td>\n",
              "      <td>269.484972</td>\n",
              "    </tr>\n",
              "  </tbody>\n",
              "</table>\n",
              "<p>3494 rows × 3 columns</p>\n",
              "</div>"
            ],
            "text/plain": [
              "             Recency  Frequency     Monetary\n",
              "customer_id                                 \n",
              "1                 -7         11  3018.090000\n",
              "2               -128          3  2226.260000\n",
              "3               -102          8  3362.810000\n",
              "4               -195          2   220.570000\n",
              "5                -16          6  2394.940000\n",
              "...              ...        ...          ...\n",
              "3497             -52          3  1648.320000\n",
              "3498            -127          6  3147.330000\n",
              "3499             -51          7  4955.250000\n",
              "3500            -144          6  1785.860000\n",
              "5034             -84          3   269.484972\n",
              "\n",
              "[3494 rows x 3 columns]"
            ]
          },
          "metadata": {
            "tags": []
          },
          "execution_count": 160
        }
      ]
    },
    {
      "cell_type": "code",
      "metadata": {
        "id": "fhpOB7nlDjQz",
        "colab_type": "code",
        "colab": {
          "base_uri": "https://localhost:8080/",
          "height": 34
        },
        "outputId": "2fe72daf-5c25-4db0-a08f-c3f878487c77"
      },
      "source": [
        "len(RFM_model)"
      ],
      "execution_count": 161,
      "outputs": [
        {
          "output_type": "execute_result",
          "data": {
            "text/plain": [
              "3494"
            ]
          },
          "metadata": {
            "tags": []
          },
          "execution_count": 161
        }
      ]
    },
    {
      "cell_type": "code",
      "metadata": {
        "id": "s9xK9l1w_Iwy",
        "colab_type": "code",
        "colab": {
          "base_uri": "https://localhost:8080/",
          "height": 297
        },
        "outputId": "224b984b-4efb-4cdb-b7b1-14f270fad609"
      },
      "source": [
        "RFM_model.describe()"
      ],
      "execution_count": 162,
      "outputs": [
        {
          "output_type": "execute_result",
          "data": {
            "text/html": [
              "<div>\n",
              "<style scoped>\n",
              "    .dataframe tbody tr th:only-of-type {\n",
              "        vertical-align: middle;\n",
              "    }\n",
              "\n",
              "    .dataframe tbody tr th {\n",
              "        vertical-align: top;\n",
              "    }\n",
              "\n",
              "    .dataframe thead th {\n",
              "        text-align: right;\n",
              "    }\n",
              "</style>\n",
              "<table border=\"1\" class=\"dataframe\">\n",
              "  <thead>\n",
              "    <tr style=\"text-align: right;\">\n",
              "      <th></th>\n",
              "      <th>Recency</th>\n",
              "      <th>Frequency</th>\n",
              "      <th>Monetary</th>\n",
              "    </tr>\n",
              "  </thead>\n",
              "  <tbody>\n",
              "    <tr>\n",
              "      <th>count</th>\n",
              "      <td>3494.000000</td>\n",
              "      <td>3494.000000</td>\n",
              "      <td>3494.000000</td>\n",
              "    </tr>\n",
              "    <tr>\n",
              "      <th>mean</th>\n",
              "      <td>-60.813681</td>\n",
              "      <td>5.724098</td>\n",
              "      <td>3189.808588</td>\n",
              "    </tr>\n",
              "    <tr>\n",
              "      <th>std</th>\n",
              "      <td>57.787120</td>\n",
              "      <td>2.325873</td>\n",
              "      <td>1794.440980</td>\n",
              "    </tr>\n",
              "    <tr>\n",
              "      <th>min</th>\n",
              "      <td>-353.000000</td>\n",
              "      <td>1.000000</td>\n",
              "      <td>15.080000</td>\n",
              "    </tr>\n",
              "    <tr>\n",
              "      <th>25%</th>\n",
              "      <td>-85.000000</td>\n",
              "      <td>4.000000</td>\n",
              "      <td>1905.947500</td>\n",
              "    </tr>\n",
              "    <tr>\n",
              "      <th>50%</th>\n",
              "      <td>-44.000000</td>\n",
              "      <td>6.000000</td>\n",
              "      <td>2918.195000</td>\n",
              "    </tr>\n",
              "    <tr>\n",
              "      <th>75%</th>\n",
              "      <td>-17.000000</td>\n",
              "      <td>7.000000</td>\n",
              "      <td>4273.397500</td>\n",
              "    </tr>\n",
              "    <tr>\n",
              "      <th>max</th>\n",
              "      <td>0.000000</td>\n",
              "      <td>14.000000</td>\n",
              "      <td>11668.950000</td>\n",
              "    </tr>\n",
              "  </tbody>\n",
              "</table>\n",
              "</div>"
            ],
            "text/plain": [
              "           Recency    Frequency      Monetary\n",
              "count  3494.000000  3494.000000   3494.000000\n",
              "mean    -60.813681     5.724098   3189.808588\n",
              "std      57.787120     2.325873   1794.440980\n",
              "min    -353.000000     1.000000     15.080000\n",
              "25%     -85.000000     4.000000   1905.947500\n",
              "50%     -44.000000     6.000000   2918.195000\n",
              "75%     -17.000000     7.000000   4273.397500\n",
              "max       0.000000    14.000000  11668.950000"
            ]
          },
          "metadata": {
            "tags": []
          },
          "execution_count": 162
        }
      ]
    },
    {
      "cell_type": "code",
      "metadata": {
        "id": "b5nEtDZaF6yy",
        "colab_type": "code",
        "colab": {
          "base_uri": "https://localhost:8080/",
          "height": 102
        },
        "outputId": "623afa54-74da-4075-a27b-cbfa139c7b38"
      },
      "source": [
        "# split into four segment \n",
        "quantiles=RFM_model.quantile(q=[0.25,0.5,0.75])\n",
        "quantiles=quantiles.to_dict()\n",
        "quantiles"
      ],
      "execution_count": 163,
      "outputs": [
        {
          "output_type": "execute_result",
          "data": {
            "text/plain": [
              "{'Frequency': {0.25: 4.0, 0.5: 6.0, 0.75: 7.0},\n",
              " 'Monetary': {0.25: 1905.9475,\n",
              "  0.5: 2918.1949999999997,\n",
              "  0.75: 4273.397499999999},\n",
              " 'Recency': {0.25: -85.0, 0.5: -44.0, 0.75: -17.0}}"
            ]
          },
          "metadata": {
            "tags": []
          },
          "execution_count": 163
        }
      ]
    },
    {
      "cell_type": "code",
      "metadata": {
        "id": "_7PzsNkYFn27",
        "colab_type": "code",
        "colab": {}
      },
      "source": [
        "# fuctnion to creat score \n",
        "def RScore(recency,keys,values):\n",
        "  if recency<=values[keys][0.25]:\n",
        "    return 4\n",
        "  elif recency<=values[keys][0.5]:\n",
        "    return 3\n",
        "  elif recency<=values[keys][0.75]:\n",
        "    return 2 \n",
        "  else:\n",
        "    return 1\n",
        "def FnMScore(frequencynmoney,keys,values):\n",
        "  if frequencynmoney<=values[keys][0.25]:\n",
        "    return 1\n",
        "  elif frequencynmoney<=values[keys][0.5]:\n",
        "    return 2 \n",
        "  elif frequencynmoney<=values[keys][0.75]:\n",
        "    return 3\n",
        "  else:\n",
        "    return 4"
      ],
      "execution_count": 164,
      "outputs": []
    },
    {
      "cell_type": "code",
      "metadata": {
        "id": "2Vt0jXvDF-WT",
        "colab_type": "code",
        "colab": {
          "base_uri": "https://localhost:8080/",
          "height": 119
        },
        "outputId": "ef2ec498-120d-4221-fd82-45113f0bafe4"
      },
      "source": [
        "args=('Recency',quantiles,)\n",
        "args"
      ],
      "execution_count": 165,
      "outputs": [
        {
          "output_type": "execute_result",
          "data": {
            "text/plain": [
              "('Recency',\n",
              " {'Frequency': {0.25: 4.0, 0.5: 6.0, 0.75: 7.0},\n",
              "  'Monetary': {0.25: 1905.9475,\n",
              "   0.5: 2918.1949999999997,\n",
              "   0.75: 4273.397499999999},\n",
              "  'Recency': {0.25: -85.0, 0.5: -44.0, 0.75: -17.0}})"
            ]
          },
          "metadata": {
            "tags": []
          },
          "execution_count": 165
        }
      ]
    },
    {
      "cell_type": "code",
      "metadata": {
        "id": "Psvc_R2LGA9b",
        "colab_type": "code",
        "colab": {}
      },
      "source": [
        "\n",
        "RFM_model[\"R\"]=RFM_model[\"Recency\"].apply(RScore,args=('Recency',quantiles,))\n",
        "RFM_model[\"F\"]=RFM_model[\"Frequency\"].apply(FnMScore,args=(\"Frequency\",quantiles,))\n",
        "RFM_model[\"M\"]=RFM_model[\"Monetary\"].apply(FnMScore,args=(\"Monetary\",quantiles,))"
      ],
      "execution_count": 166,
      "outputs": []
    },
    {
      "cell_type": "code",
      "metadata": {
        "id": "RTFrbYugGD5B",
        "colab_type": "code",
        "colab": {
          "base_uri": "https://localhost:8080/",
          "height": 450
        },
        "outputId": "2912b5fa-0ed2-4dd3-bd25-bdb1c7ffbb8d"
      },
      "source": [
        "RFM_model"
      ],
      "execution_count": 167,
      "outputs": [
        {
          "output_type": "execute_result",
          "data": {
            "text/html": [
              "<div>\n",
              "<style scoped>\n",
              "    .dataframe tbody tr th:only-of-type {\n",
              "        vertical-align: middle;\n",
              "    }\n",
              "\n",
              "    .dataframe tbody tr th {\n",
              "        vertical-align: top;\n",
              "    }\n",
              "\n",
              "    .dataframe thead th {\n",
              "        text-align: right;\n",
              "    }\n",
              "</style>\n",
              "<table border=\"1\" class=\"dataframe\">\n",
              "  <thead>\n",
              "    <tr style=\"text-align: right;\">\n",
              "      <th></th>\n",
              "      <th>Recency</th>\n",
              "      <th>Frequency</th>\n",
              "      <th>Monetary</th>\n",
              "      <th>R</th>\n",
              "      <th>F</th>\n",
              "      <th>M</th>\n",
              "    </tr>\n",
              "    <tr>\n",
              "      <th>customer_id</th>\n",
              "      <th></th>\n",
              "      <th></th>\n",
              "      <th></th>\n",
              "      <th></th>\n",
              "      <th></th>\n",
              "      <th></th>\n",
              "    </tr>\n",
              "  </thead>\n",
              "  <tbody>\n",
              "    <tr>\n",
              "      <th>1</th>\n",
              "      <td>-7</td>\n",
              "      <td>11</td>\n",
              "      <td>3018.090000</td>\n",
              "      <td>1</td>\n",
              "      <td>4</td>\n",
              "      <td>3</td>\n",
              "    </tr>\n",
              "    <tr>\n",
              "      <th>2</th>\n",
              "      <td>-128</td>\n",
              "      <td>3</td>\n",
              "      <td>2226.260000</td>\n",
              "      <td>4</td>\n",
              "      <td>1</td>\n",
              "      <td>2</td>\n",
              "    </tr>\n",
              "    <tr>\n",
              "      <th>3</th>\n",
              "      <td>-102</td>\n",
              "      <td>8</td>\n",
              "      <td>3362.810000</td>\n",
              "      <td>4</td>\n",
              "      <td>4</td>\n",
              "      <td>3</td>\n",
              "    </tr>\n",
              "    <tr>\n",
              "      <th>4</th>\n",
              "      <td>-195</td>\n",
              "      <td>2</td>\n",
              "      <td>220.570000</td>\n",
              "      <td>4</td>\n",
              "      <td>1</td>\n",
              "      <td>1</td>\n",
              "    </tr>\n",
              "    <tr>\n",
              "      <th>5</th>\n",
              "      <td>-16</td>\n",
              "      <td>6</td>\n",
              "      <td>2394.940000</td>\n",
              "      <td>1</td>\n",
              "      <td>2</td>\n",
              "      <td>2</td>\n",
              "    </tr>\n",
              "    <tr>\n",
              "      <th>...</th>\n",
              "      <td>...</td>\n",
              "      <td>...</td>\n",
              "      <td>...</td>\n",
              "      <td>...</td>\n",
              "      <td>...</td>\n",
              "      <td>...</td>\n",
              "    </tr>\n",
              "    <tr>\n",
              "      <th>3497</th>\n",
              "      <td>-52</td>\n",
              "      <td>3</td>\n",
              "      <td>1648.320000</td>\n",
              "      <td>3</td>\n",
              "      <td>1</td>\n",
              "      <td>1</td>\n",
              "    </tr>\n",
              "    <tr>\n",
              "      <th>3498</th>\n",
              "      <td>-127</td>\n",
              "      <td>6</td>\n",
              "      <td>3147.330000</td>\n",
              "      <td>4</td>\n",
              "      <td>2</td>\n",
              "      <td>3</td>\n",
              "    </tr>\n",
              "    <tr>\n",
              "      <th>3499</th>\n",
              "      <td>-51</td>\n",
              "      <td>7</td>\n",
              "      <td>4955.250000</td>\n",
              "      <td>3</td>\n",
              "      <td>3</td>\n",
              "      <td>4</td>\n",
              "    </tr>\n",
              "    <tr>\n",
              "      <th>3500</th>\n",
              "      <td>-144</td>\n",
              "      <td>6</td>\n",
              "      <td>1785.860000</td>\n",
              "      <td>4</td>\n",
              "      <td>2</td>\n",
              "      <td>1</td>\n",
              "    </tr>\n",
              "    <tr>\n",
              "      <th>5034</th>\n",
              "      <td>-84</td>\n",
              "      <td>3</td>\n",
              "      <td>269.484972</td>\n",
              "      <td>3</td>\n",
              "      <td>1</td>\n",
              "      <td>1</td>\n",
              "    </tr>\n",
              "  </tbody>\n",
              "</table>\n",
              "<p>3494 rows × 6 columns</p>\n",
              "</div>"
            ],
            "text/plain": [
              "             Recency  Frequency     Monetary  R  F  M\n",
              "customer_id                                          \n",
              "1                 -7         11  3018.090000  1  4  3\n",
              "2               -128          3  2226.260000  4  1  2\n",
              "3               -102          8  3362.810000  4  4  3\n",
              "4               -195          2   220.570000  4  1  1\n",
              "5                -16          6  2394.940000  1  2  2\n",
              "...              ...        ...          ... .. .. ..\n",
              "3497             -52          3  1648.320000  3  1  1\n",
              "3498            -127          6  3147.330000  4  2  3\n",
              "3499             -51          7  4955.250000  3  3  4\n",
              "3500            -144          6  1785.860000  4  2  1\n",
              "5034             -84          3   269.484972  3  1  1\n",
              "\n",
              "[3494 rows x 6 columns]"
            ]
          },
          "metadata": {
            "tags": []
          },
          "execution_count": 167
        }
      ]
    },
    {
      "cell_type": "code",
      "metadata": {
        "id": "JHhs7hQDGFCw",
        "colab_type": "code",
        "colab": {
          "base_uri": "https://localhost:8080/",
          "height": 450
        },
        "outputId": "8292e044-f40c-4d67-a554-5a3509a233c9"
      },
      "source": [
        "# RFMGroup is comebine number as string as R F M\n",
        "RFM_model[\"RFMGroup\"]=RFM_model[\"R\"].map(str)+RFM_model[\"F\"].map(str)+RFM_model[\"M\"].map(str)\n",
        "# RFMScore is sum all R F M\n",
        "RFM_model[\"RFMScore\"]=RFM_model[\"R\"]+RFM_model[\"F\"]+RFM_model[\"M\"]\n",
        "RFM_model"
      ],
      "execution_count": 168,
      "outputs": [
        {
          "output_type": "execute_result",
          "data": {
            "text/html": [
              "<div>\n",
              "<style scoped>\n",
              "    .dataframe tbody tr th:only-of-type {\n",
              "        vertical-align: middle;\n",
              "    }\n",
              "\n",
              "    .dataframe tbody tr th {\n",
              "        vertical-align: top;\n",
              "    }\n",
              "\n",
              "    .dataframe thead th {\n",
              "        text-align: right;\n",
              "    }\n",
              "</style>\n",
              "<table border=\"1\" class=\"dataframe\">\n",
              "  <thead>\n",
              "    <tr style=\"text-align: right;\">\n",
              "      <th></th>\n",
              "      <th>Recency</th>\n",
              "      <th>Frequency</th>\n",
              "      <th>Monetary</th>\n",
              "      <th>R</th>\n",
              "      <th>F</th>\n",
              "      <th>M</th>\n",
              "      <th>RFMGroup</th>\n",
              "      <th>RFMScore</th>\n",
              "    </tr>\n",
              "    <tr>\n",
              "      <th>customer_id</th>\n",
              "      <th></th>\n",
              "      <th></th>\n",
              "      <th></th>\n",
              "      <th></th>\n",
              "      <th></th>\n",
              "      <th></th>\n",
              "      <th></th>\n",
              "      <th></th>\n",
              "    </tr>\n",
              "  </thead>\n",
              "  <tbody>\n",
              "    <tr>\n",
              "      <th>1</th>\n",
              "      <td>-7</td>\n",
              "      <td>11</td>\n",
              "      <td>3018.090000</td>\n",
              "      <td>1</td>\n",
              "      <td>4</td>\n",
              "      <td>3</td>\n",
              "      <td>143</td>\n",
              "      <td>8</td>\n",
              "    </tr>\n",
              "    <tr>\n",
              "      <th>2</th>\n",
              "      <td>-128</td>\n",
              "      <td>3</td>\n",
              "      <td>2226.260000</td>\n",
              "      <td>4</td>\n",
              "      <td>1</td>\n",
              "      <td>2</td>\n",
              "      <td>412</td>\n",
              "      <td>7</td>\n",
              "    </tr>\n",
              "    <tr>\n",
              "      <th>3</th>\n",
              "      <td>-102</td>\n",
              "      <td>8</td>\n",
              "      <td>3362.810000</td>\n",
              "      <td>4</td>\n",
              "      <td>4</td>\n",
              "      <td>3</td>\n",
              "      <td>443</td>\n",
              "      <td>11</td>\n",
              "    </tr>\n",
              "    <tr>\n",
              "      <th>4</th>\n",
              "      <td>-195</td>\n",
              "      <td>2</td>\n",
              "      <td>220.570000</td>\n",
              "      <td>4</td>\n",
              "      <td>1</td>\n",
              "      <td>1</td>\n",
              "      <td>411</td>\n",
              "      <td>6</td>\n",
              "    </tr>\n",
              "    <tr>\n",
              "      <th>5</th>\n",
              "      <td>-16</td>\n",
              "      <td>6</td>\n",
              "      <td>2394.940000</td>\n",
              "      <td>1</td>\n",
              "      <td>2</td>\n",
              "      <td>2</td>\n",
              "      <td>122</td>\n",
              "      <td>5</td>\n",
              "    </tr>\n",
              "    <tr>\n",
              "      <th>...</th>\n",
              "      <td>...</td>\n",
              "      <td>...</td>\n",
              "      <td>...</td>\n",
              "      <td>...</td>\n",
              "      <td>...</td>\n",
              "      <td>...</td>\n",
              "      <td>...</td>\n",
              "      <td>...</td>\n",
              "    </tr>\n",
              "    <tr>\n",
              "      <th>3497</th>\n",
              "      <td>-52</td>\n",
              "      <td>3</td>\n",
              "      <td>1648.320000</td>\n",
              "      <td>3</td>\n",
              "      <td>1</td>\n",
              "      <td>1</td>\n",
              "      <td>311</td>\n",
              "      <td>5</td>\n",
              "    </tr>\n",
              "    <tr>\n",
              "      <th>3498</th>\n",
              "      <td>-127</td>\n",
              "      <td>6</td>\n",
              "      <td>3147.330000</td>\n",
              "      <td>4</td>\n",
              "      <td>2</td>\n",
              "      <td>3</td>\n",
              "      <td>423</td>\n",
              "      <td>9</td>\n",
              "    </tr>\n",
              "    <tr>\n",
              "      <th>3499</th>\n",
              "      <td>-51</td>\n",
              "      <td>7</td>\n",
              "      <td>4955.250000</td>\n",
              "      <td>3</td>\n",
              "      <td>3</td>\n",
              "      <td>4</td>\n",
              "      <td>334</td>\n",
              "      <td>10</td>\n",
              "    </tr>\n",
              "    <tr>\n",
              "      <th>3500</th>\n",
              "      <td>-144</td>\n",
              "      <td>6</td>\n",
              "      <td>1785.860000</td>\n",
              "      <td>4</td>\n",
              "      <td>2</td>\n",
              "      <td>1</td>\n",
              "      <td>421</td>\n",
              "      <td>7</td>\n",
              "    </tr>\n",
              "    <tr>\n",
              "      <th>5034</th>\n",
              "      <td>-84</td>\n",
              "      <td>3</td>\n",
              "      <td>269.484972</td>\n",
              "      <td>3</td>\n",
              "      <td>1</td>\n",
              "      <td>1</td>\n",
              "      <td>311</td>\n",
              "      <td>5</td>\n",
              "    </tr>\n",
              "  </tbody>\n",
              "</table>\n",
              "<p>3494 rows × 8 columns</p>\n",
              "</div>"
            ],
            "text/plain": [
              "             Recency  Frequency     Monetary  R  F  M RFMGroup  RFMScore\n",
              "customer_id                                                             \n",
              "1                 -7         11  3018.090000  1  4  3      143         8\n",
              "2               -128          3  2226.260000  4  1  2      412         7\n",
              "3               -102          8  3362.810000  4  4  3      443        11\n",
              "4               -195          2   220.570000  4  1  1      411         6\n",
              "5                -16          6  2394.940000  1  2  2      122         5\n",
              "...              ...        ...          ... .. .. ..      ...       ...\n",
              "3497             -52          3  1648.320000  3  1  1      311         5\n",
              "3498            -127          6  3147.330000  4  2  3      423         9\n",
              "3499             -51          7  4955.250000  3  3  4      334        10\n",
              "3500            -144          6  1785.860000  4  2  1      421         7\n",
              "5034             -84          3   269.484972  3  1  1      311         5\n",
              "\n",
              "[3494 rows x 8 columns]"
            ]
          },
          "metadata": {
            "tags": []
          },
          "execution_count": 168
        }
      ]
    },
    {
      "cell_type": "code",
      "metadata": {
        "id": "fwtB2DNnGLC3",
        "colab_type": "code",
        "colab": {
          "base_uri": "https://localhost:8080/",
          "height": 419
        },
        "outputId": "8ad84825-19d1-479c-e18d-21119fe9c8c7"
      },
      "source": [
        "# Assign level of loyalty \n",
        "loyal_level=[\"Broze\",\"Siver\",\"Gold\",\"Platinum\"]\n",
        "Score_cut=pd.cut(RFM_model.RFMScore,bins=4,labels=loyal_level)\n",
        "RFM_model[\"loyal_level\"]=Score_cut.values\n",
        "RFM_model.reset_index()"
      ],
      "execution_count": 169,
      "outputs": [
        {
          "output_type": "execute_result",
          "data": {
            "text/html": [
              "<div>\n",
              "<style scoped>\n",
              "    .dataframe tbody tr th:only-of-type {\n",
              "        vertical-align: middle;\n",
              "    }\n",
              "\n",
              "    .dataframe tbody tr th {\n",
              "        vertical-align: top;\n",
              "    }\n",
              "\n",
              "    .dataframe thead th {\n",
              "        text-align: right;\n",
              "    }\n",
              "</style>\n",
              "<table border=\"1\" class=\"dataframe\">\n",
              "  <thead>\n",
              "    <tr style=\"text-align: right;\">\n",
              "      <th></th>\n",
              "      <th>customer_id</th>\n",
              "      <th>Recency</th>\n",
              "      <th>Frequency</th>\n",
              "      <th>Monetary</th>\n",
              "      <th>R</th>\n",
              "      <th>F</th>\n",
              "      <th>M</th>\n",
              "      <th>RFMGroup</th>\n",
              "      <th>RFMScore</th>\n",
              "      <th>loyal_level</th>\n",
              "    </tr>\n",
              "  </thead>\n",
              "  <tbody>\n",
              "    <tr>\n",
              "      <th>0</th>\n",
              "      <td>1</td>\n",
              "      <td>-7</td>\n",
              "      <td>11</td>\n",
              "      <td>3018.090000</td>\n",
              "      <td>1</td>\n",
              "      <td>4</td>\n",
              "      <td>3</td>\n",
              "      <td>143</td>\n",
              "      <td>8</td>\n",
              "      <td>Gold</td>\n",
              "    </tr>\n",
              "    <tr>\n",
              "      <th>1</th>\n",
              "      <td>2</td>\n",
              "      <td>-128</td>\n",
              "      <td>3</td>\n",
              "      <td>2226.260000</td>\n",
              "      <td>4</td>\n",
              "      <td>1</td>\n",
              "      <td>2</td>\n",
              "      <td>412</td>\n",
              "      <td>7</td>\n",
              "      <td>Siver</td>\n",
              "    </tr>\n",
              "    <tr>\n",
              "      <th>2</th>\n",
              "      <td>3</td>\n",
              "      <td>-102</td>\n",
              "      <td>8</td>\n",
              "      <td>3362.810000</td>\n",
              "      <td>4</td>\n",
              "      <td>4</td>\n",
              "      <td>3</td>\n",
              "      <td>443</td>\n",
              "      <td>11</td>\n",
              "      <td>Platinum</td>\n",
              "    </tr>\n",
              "    <tr>\n",
              "      <th>3</th>\n",
              "      <td>4</td>\n",
              "      <td>-195</td>\n",
              "      <td>2</td>\n",
              "      <td>220.570000</td>\n",
              "      <td>4</td>\n",
              "      <td>1</td>\n",
              "      <td>1</td>\n",
              "      <td>411</td>\n",
              "      <td>6</td>\n",
              "      <td>Siver</td>\n",
              "    </tr>\n",
              "    <tr>\n",
              "      <th>4</th>\n",
              "      <td>5</td>\n",
              "      <td>-16</td>\n",
              "      <td>6</td>\n",
              "      <td>2394.940000</td>\n",
              "      <td>1</td>\n",
              "      <td>2</td>\n",
              "      <td>2</td>\n",
              "      <td>122</td>\n",
              "      <td>5</td>\n",
              "      <td>Broze</td>\n",
              "    </tr>\n",
              "    <tr>\n",
              "      <th>...</th>\n",
              "      <td>...</td>\n",
              "      <td>...</td>\n",
              "      <td>...</td>\n",
              "      <td>...</td>\n",
              "      <td>...</td>\n",
              "      <td>...</td>\n",
              "      <td>...</td>\n",
              "      <td>...</td>\n",
              "      <td>...</td>\n",
              "      <td>...</td>\n",
              "    </tr>\n",
              "    <tr>\n",
              "      <th>3489</th>\n",
              "      <td>3497</td>\n",
              "      <td>-52</td>\n",
              "      <td>3</td>\n",
              "      <td>1648.320000</td>\n",
              "      <td>3</td>\n",
              "      <td>1</td>\n",
              "      <td>1</td>\n",
              "      <td>311</td>\n",
              "      <td>5</td>\n",
              "      <td>Broze</td>\n",
              "    </tr>\n",
              "    <tr>\n",
              "      <th>3490</th>\n",
              "      <td>3498</td>\n",
              "      <td>-127</td>\n",
              "      <td>6</td>\n",
              "      <td>3147.330000</td>\n",
              "      <td>4</td>\n",
              "      <td>2</td>\n",
              "      <td>3</td>\n",
              "      <td>423</td>\n",
              "      <td>9</td>\n",
              "      <td>Gold</td>\n",
              "    </tr>\n",
              "    <tr>\n",
              "      <th>3491</th>\n",
              "      <td>3499</td>\n",
              "      <td>-51</td>\n",
              "      <td>7</td>\n",
              "      <td>4955.250000</td>\n",
              "      <td>3</td>\n",
              "      <td>3</td>\n",
              "      <td>4</td>\n",
              "      <td>334</td>\n",
              "      <td>10</td>\n",
              "      <td>Platinum</td>\n",
              "    </tr>\n",
              "    <tr>\n",
              "      <th>3492</th>\n",
              "      <td>3500</td>\n",
              "      <td>-144</td>\n",
              "      <td>6</td>\n",
              "      <td>1785.860000</td>\n",
              "      <td>4</td>\n",
              "      <td>2</td>\n",
              "      <td>1</td>\n",
              "      <td>421</td>\n",
              "      <td>7</td>\n",
              "      <td>Siver</td>\n",
              "    </tr>\n",
              "    <tr>\n",
              "      <th>3493</th>\n",
              "      <td>5034</td>\n",
              "      <td>-84</td>\n",
              "      <td>3</td>\n",
              "      <td>269.484972</td>\n",
              "      <td>3</td>\n",
              "      <td>1</td>\n",
              "      <td>1</td>\n",
              "      <td>311</td>\n",
              "      <td>5</td>\n",
              "      <td>Broze</td>\n",
              "    </tr>\n",
              "  </tbody>\n",
              "</table>\n",
              "<p>3494 rows × 10 columns</p>\n",
              "</div>"
            ],
            "text/plain": [
              "      customer_id  Recency  Frequency  ...  RFMGroup  RFMScore  loyal_level\n",
              "0               1       -7         11  ...       143         8         Gold\n",
              "1               2     -128          3  ...       412         7        Siver\n",
              "2               3     -102          8  ...       443        11     Platinum\n",
              "3               4     -195          2  ...       411         6        Siver\n",
              "4               5      -16          6  ...       122         5        Broze\n",
              "...           ...      ...        ...  ...       ...       ...          ...\n",
              "3489         3497      -52          3  ...       311         5        Broze\n",
              "3490         3498     -127          6  ...       423         9         Gold\n",
              "3491         3499      -51          7  ...       334        10     Platinum\n",
              "3492         3500     -144          6  ...       421         7        Siver\n",
              "3493         5034      -84          3  ...       311         5        Broze\n",
              "\n",
              "[3494 rows x 10 columns]"
            ]
          },
          "metadata": {
            "tags": []
          },
          "execution_count": 169
        }
      ]
    },
    {
      "cell_type": "code",
      "metadata": {
        "id": "MVc3Hs7dGO9H",
        "colab_type": "code",
        "colab": {
          "base_uri": "https://localhost:8080/",
          "height": 450
        },
        "outputId": "bd1651a1-b7d8-4b23-dd74-f6de2629befe"
      },
      "source": [
        "RFM_model=RFM_model.sort_values([\"RFMScore\",\"Monetary\"],ascending=False)\n",
        "RFM_model.head(100)"
      ],
      "execution_count": 170,
      "outputs": [
        {
          "output_type": "execute_result",
          "data": {
            "text/html": [
              "<div>\n",
              "<style scoped>\n",
              "    .dataframe tbody tr th:only-of-type {\n",
              "        vertical-align: middle;\n",
              "    }\n",
              "\n",
              "    .dataframe tbody tr th {\n",
              "        vertical-align: top;\n",
              "    }\n",
              "\n",
              "    .dataframe thead th {\n",
              "        text-align: right;\n",
              "    }\n",
              "</style>\n",
              "<table border=\"1\" class=\"dataframe\">\n",
              "  <thead>\n",
              "    <tr style=\"text-align: right;\">\n",
              "      <th></th>\n",
              "      <th>Recency</th>\n",
              "      <th>Frequency</th>\n",
              "      <th>Monetary</th>\n",
              "      <th>R</th>\n",
              "      <th>F</th>\n",
              "      <th>M</th>\n",
              "      <th>RFMGroup</th>\n",
              "      <th>RFMScore</th>\n",
              "      <th>loyal_level</th>\n",
              "    </tr>\n",
              "    <tr>\n",
              "      <th>customer_id</th>\n",
              "      <th></th>\n",
              "      <th></th>\n",
              "      <th></th>\n",
              "      <th></th>\n",
              "      <th></th>\n",
              "      <th></th>\n",
              "      <th></th>\n",
              "      <th></th>\n",
              "      <th></th>\n",
              "    </tr>\n",
              "  </thead>\n",
              "  <tbody>\n",
              "    <tr>\n",
              "      <th>1043</th>\n",
              "      <td>-130</td>\n",
              "      <td>10</td>\n",
              "      <td>10252.74</td>\n",
              "      <td>4</td>\n",
              "      <td>4</td>\n",
              "      <td>4</td>\n",
              "      <td>444</td>\n",
              "      <td>12</td>\n",
              "      <td>Platinum</td>\n",
              "    </tr>\n",
              "    <tr>\n",
              "      <th>3212</th>\n",
              "      <td>-99</td>\n",
              "      <td>8</td>\n",
              "      <td>8830.42</td>\n",
              "      <td>4</td>\n",
              "      <td>4</td>\n",
              "      <td>4</td>\n",
              "      <td>444</td>\n",
              "      <td>12</td>\n",
              "      <td>Platinum</td>\n",
              "    </tr>\n",
              "    <tr>\n",
              "      <th>473</th>\n",
              "      <td>-115</td>\n",
              "      <td>9</td>\n",
              "      <td>8364.66</td>\n",
              "      <td>4</td>\n",
              "      <td>4</td>\n",
              "      <td>4</td>\n",
              "      <td>444</td>\n",
              "      <td>12</td>\n",
              "      <td>Platinum</td>\n",
              "    </tr>\n",
              "    <tr>\n",
              "      <th>2894</th>\n",
              "      <td>-86</td>\n",
              "      <td>9</td>\n",
              "      <td>7544.08</td>\n",
              "      <td>4</td>\n",
              "      <td>4</td>\n",
              "      <td>4</td>\n",
              "      <td>444</td>\n",
              "      <td>12</td>\n",
              "      <td>Platinum</td>\n",
              "    </tr>\n",
              "    <tr>\n",
              "      <th>168</th>\n",
              "      <td>-136</td>\n",
              "      <td>9</td>\n",
              "      <td>7372.43</td>\n",
              "      <td>4</td>\n",
              "      <td>4</td>\n",
              "      <td>4</td>\n",
              "      <td>444</td>\n",
              "      <td>12</td>\n",
              "      <td>Platinum</td>\n",
              "    </tr>\n",
              "    <tr>\n",
              "      <th>...</th>\n",
              "      <td>...</td>\n",
              "      <td>...</td>\n",
              "      <td>...</td>\n",
              "      <td>...</td>\n",
              "      <td>...</td>\n",
              "      <td>...</td>\n",
              "      <td>...</td>\n",
              "      <td>...</td>\n",
              "      <td>...</td>\n",
              "    </tr>\n",
              "    <tr>\n",
              "      <th>48</th>\n",
              "      <td>-82</td>\n",
              "      <td>8</td>\n",
              "      <td>5561.08</td>\n",
              "      <td>3</td>\n",
              "      <td>4</td>\n",
              "      <td>4</td>\n",
              "      <td>344</td>\n",
              "      <td>11</td>\n",
              "      <td>Platinum</td>\n",
              "    </tr>\n",
              "    <tr>\n",
              "      <th>2615</th>\n",
              "      <td>-55</td>\n",
              "      <td>9</td>\n",
              "      <td>5517.12</td>\n",
              "      <td>3</td>\n",
              "      <td>4</td>\n",
              "      <td>4</td>\n",
              "      <td>344</td>\n",
              "      <td>11</td>\n",
              "      <td>Platinum</td>\n",
              "    </tr>\n",
              "    <tr>\n",
              "      <th>294</th>\n",
              "      <td>-115</td>\n",
              "      <td>7</td>\n",
              "      <td>5509.67</td>\n",
              "      <td>4</td>\n",
              "      <td>3</td>\n",
              "      <td>4</td>\n",
              "      <td>434</td>\n",
              "      <td>11</td>\n",
              "      <td>Platinum</td>\n",
              "    </tr>\n",
              "    <tr>\n",
              "      <th>3406</th>\n",
              "      <td>-46</td>\n",
              "      <td>10</td>\n",
              "      <td>5463.64</td>\n",
              "      <td>3</td>\n",
              "      <td>4</td>\n",
              "      <td>4</td>\n",
              "      <td>344</td>\n",
              "      <td>11</td>\n",
              "      <td>Platinum</td>\n",
              "    </tr>\n",
              "    <tr>\n",
              "      <th>394</th>\n",
              "      <td>-45</td>\n",
              "      <td>8</td>\n",
              "      <td>5445.46</td>\n",
              "      <td>3</td>\n",
              "      <td>4</td>\n",
              "      <td>4</td>\n",
              "      <td>344</td>\n",
              "      <td>11</td>\n",
              "      <td>Platinum</td>\n",
              "    </tr>\n",
              "  </tbody>\n",
              "</table>\n",
              "<p>100 rows × 9 columns</p>\n",
              "</div>"
            ],
            "text/plain": [
              "             Recency  Frequency  Monetary  R  ...  M  RFMGroup RFMScore  loyal_level\n",
              "customer_id                                   ...                                   \n",
              "1043            -130         10  10252.74  4  ...  4       444       12     Platinum\n",
              "3212             -99          8   8830.42  4  ...  4       444       12     Platinum\n",
              "473             -115          9   8364.66  4  ...  4       444       12     Platinum\n",
              "2894             -86          9   7544.08  4  ...  4       444       12     Platinum\n",
              "168             -136          9   7372.43  4  ...  4       444       12     Platinum\n",
              "...              ...        ...       ... ..  ... ..       ...      ...          ...\n",
              "48               -82          8   5561.08  3  ...  4       344       11     Platinum\n",
              "2615             -55          9   5517.12  3  ...  4       344       11     Platinum\n",
              "294             -115          7   5509.67  4  ...  4       434       11     Platinum\n",
              "3406             -46         10   5463.64  3  ...  4       344       11     Platinum\n",
              "394              -45          8   5445.46  3  ...  4       344       11     Platinum\n",
              "\n",
              "[100 rows x 9 columns]"
            ]
          },
          "metadata": {
            "tags": []
          },
          "execution_count": 170
        }
      ]
    },
    {
      "cell_type": "markdown",
      "metadata": {
        "id": "jBIo2ikKvllD",
        "colab_type": "text"
      },
      "source": [
        "## 100 customers make the most profit "
      ]
    },
    {
      "cell_type": "code",
      "metadata": {
        "id": "G15qooDHLC5Q",
        "colab_type": "code",
        "colab": {
          "base_uri": "https://localhost:8080/",
          "height": 450
        },
        "outputId": "5f38d553-52ee-4190-c786-d48d356dea88"
      },
      "source": [
        "RFM_model=RFM_model.iloc[0:100]\n",
        "RFM_model"
      ],
      "execution_count": 171,
      "outputs": [
        {
          "output_type": "execute_result",
          "data": {
            "text/html": [
              "<div>\n",
              "<style scoped>\n",
              "    .dataframe tbody tr th:only-of-type {\n",
              "        vertical-align: middle;\n",
              "    }\n",
              "\n",
              "    .dataframe tbody tr th {\n",
              "        vertical-align: top;\n",
              "    }\n",
              "\n",
              "    .dataframe thead th {\n",
              "        text-align: right;\n",
              "    }\n",
              "</style>\n",
              "<table border=\"1\" class=\"dataframe\">\n",
              "  <thead>\n",
              "    <tr style=\"text-align: right;\">\n",
              "      <th></th>\n",
              "      <th>Recency</th>\n",
              "      <th>Frequency</th>\n",
              "      <th>Monetary</th>\n",
              "      <th>R</th>\n",
              "      <th>F</th>\n",
              "      <th>M</th>\n",
              "      <th>RFMGroup</th>\n",
              "      <th>RFMScore</th>\n",
              "      <th>loyal_level</th>\n",
              "    </tr>\n",
              "    <tr>\n",
              "      <th>customer_id</th>\n",
              "      <th></th>\n",
              "      <th></th>\n",
              "      <th></th>\n",
              "      <th></th>\n",
              "      <th></th>\n",
              "      <th></th>\n",
              "      <th></th>\n",
              "      <th></th>\n",
              "      <th></th>\n",
              "    </tr>\n",
              "  </thead>\n",
              "  <tbody>\n",
              "    <tr>\n",
              "      <th>1043</th>\n",
              "      <td>-130</td>\n",
              "      <td>10</td>\n",
              "      <td>10252.74</td>\n",
              "      <td>4</td>\n",
              "      <td>4</td>\n",
              "      <td>4</td>\n",
              "      <td>444</td>\n",
              "      <td>12</td>\n",
              "      <td>Platinum</td>\n",
              "    </tr>\n",
              "    <tr>\n",
              "      <th>3212</th>\n",
              "      <td>-99</td>\n",
              "      <td>8</td>\n",
              "      <td>8830.42</td>\n",
              "      <td>4</td>\n",
              "      <td>4</td>\n",
              "      <td>4</td>\n",
              "      <td>444</td>\n",
              "      <td>12</td>\n",
              "      <td>Platinum</td>\n",
              "    </tr>\n",
              "    <tr>\n",
              "      <th>473</th>\n",
              "      <td>-115</td>\n",
              "      <td>9</td>\n",
              "      <td>8364.66</td>\n",
              "      <td>4</td>\n",
              "      <td>4</td>\n",
              "      <td>4</td>\n",
              "      <td>444</td>\n",
              "      <td>12</td>\n",
              "      <td>Platinum</td>\n",
              "    </tr>\n",
              "    <tr>\n",
              "      <th>2894</th>\n",
              "      <td>-86</td>\n",
              "      <td>9</td>\n",
              "      <td>7544.08</td>\n",
              "      <td>4</td>\n",
              "      <td>4</td>\n",
              "      <td>4</td>\n",
              "      <td>444</td>\n",
              "      <td>12</td>\n",
              "      <td>Platinum</td>\n",
              "    </tr>\n",
              "    <tr>\n",
              "      <th>168</th>\n",
              "      <td>-136</td>\n",
              "      <td>9</td>\n",
              "      <td>7372.43</td>\n",
              "      <td>4</td>\n",
              "      <td>4</td>\n",
              "      <td>4</td>\n",
              "      <td>444</td>\n",
              "      <td>12</td>\n",
              "      <td>Platinum</td>\n",
              "    </tr>\n",
              "    <tr>\n",
              "      <th>...</th>\n",
              "      <td>...</td>\n",
              "      <td>...</td>\n",
              "      <td>...</td>\n",
              "      <td>...</td>\n",
              "      <td>...</td>\n",
              "      <td>...</td>\n",
              "      <td>...</td>\n",
              "      <td>...</td>\n",
              "      <td>...</td>\n",
              "    </tr>\n",
              "    <tr>\n",
              "      <th>48</th>\n",
              "      <td>-82</td>\n",
              "      <td>8</td>\n",
              "      <td>5561.08</td>\n",
              "      <td>3</td>\n",
              "      <td>4</td>\n",
              "      <td>4</td>\n",
              "      <td>344</td>\n",
              "      <td>11</td>\n",
              "      <td>Platinum</td>\n",
              "    </tr>\n",
              "    <tr>\n",
              "      <th>2615</th>\n",
              "      <td>-55</td>\n",
              "      <td>9</td>\n",
              "      <td>5517.12</td>\n",
              "      <td>3</td>\n",
              "      <td>4</td>\n",
              "      <td>4</td>\n",
              "      <td>344</td>\n",
              "      <td>11</td>\n",
              "      <td>Platinum</td>\n",
              "    </tr>\n",
              "    <tr>\n",
              "      <th>294</th>\n",
              "      <td>-115</td>\n",
              "      <td>7</td>\n",
              "      <td>5509.67</td>\n",
              "      <td>4</td>\n",
              "      <td>3</td>\n",
              "      <td>4</td>\n",
              "      <td>434</td>\n",
              "      <td>11</td>\n",
              "      <td>Platinum</td>\n",
              "    </tr>\n",
              "    <tr>\n",
              "      <th>3406</th>\n",
              "      <td>-46</td>\n",
              "      <td>10</td>\n",
              "      <td>5463.64</td>\n",
              "      <td>3</td>\n",
              "      <td>4</td>\n",
              "      <td>4</td>\n",
              "      <td>344</td>\n",
              "      <td>11</td>\n",
              "      <td>Platinum</td>\n",
              "    </tr>\n",
              "    <tr>\n",
              "      <th>394</th>\n",
              "      <td>-45</td>\n",
              "      <td>8</td>\n",
              "      <td>5445.46</td>\n",
              "      <td>3</td>\n",
              "      <td>4</td>\n",
              "      <td>4</td>\n",
              "      <td>344</td>\n",
              "      <td>11</td>\n",
              "      <td>Platinum</td>\n",
              "    </tr>\n",
              "  </tbody>\n",
              "</table>\n",
              "<p>100 rows × 9 columns</p>\n",
              "</div>"
            ],
            "text/plain": [
              "             Recency  Frequency  Monetary  R  ...  M  RFMGroup RFMScore  loyal_level\n",
              "customer_id                                   ...                                   \n",
              "1043            -130         10  10252.74  4  ...  4       444       12     Platinum\n",
              "3212             -99          8   8830.42  4  ...  4       444       12     Platinum\n",
              "473             -115          9   8364.66  4  ...  4       444       12     Platinum\n",
              "2894             -86          9   7544.08  4  ...  4       444       12     Platinum\n",
              "168             -136          9   7372.43  4  ...  4       444       12     Platinum\n",
              "...              ...        ...       ... ..  ... ..       ...      ...          ...\n",
              "48               -82          8   5561.08  3  ...  4       344       11     Platinum\n",
              "2615             -55          9   5517.12  3  ...  4       344       11     Platinum\n",
              "294             -115          7   5509.67  4  ...  4       434       11     Platinum\n",
              "3406             -46         10   5463.64  3  ...  4       344       11     Platinum\n",
              "394              -45          8   5445.46  3  ...  4       344       11     Platinum\n",
              "\n",
              "[100 rows x 9 columns]"
            ]
          },
          "metadata": {
            "tags": []
          },
          "execution_count": 171
        }
      ]
    },
    {
      "cell_type": "markdown",
      "metadata": {
        "id": "OrggZ3LFB_F-",
        "colab_type": "text"
      },
      "source": [
        "# Analyse customer's demographic "
      ]
    },
    {
      "cell_type": "code",
      "metadata": {
        "id": "kHbs0tkoB0mq",
        "colab_type": "code",
        "colab": {
          "base_uri": "https://localhost:8080/",
          "height": 326
        },
        "outputId": "6463be11-ae20-43a4-c60f-ddbff9808722"
      },
      "source": [
        "cus_demographic= pd.read_excel(xlsx, 'CustomerDemographic')\n",
        "cus_demographic.head()"
      ],
      "execution_count": 172,
      "outputs": [
        {
          "output_type": "execute_result",
          "data": {
            "text/html": [
              "<div>\n",
              "<style scoped>\n",
              "    .dataframe tbody tr th:only-of-type {\n",
              "        vertical-align: middle;\n",
              "    }\n",
              "\n",
              "    .dataframe tbody tr th {\n",
              "        vertical-align: top;\n",
              "    }\n",
              "\n",
              "    .dataframe thead th {\n",
              "        text-align: right;\n",
              "    }\n",
              "</style>\n",
              "<table border=\"1\" class=\"dataframe\">\n",
              "  <thead>\n",
              "    <tr style=\"text-align: right;\">\n",
              "      <th></th>\n",
              "      <th>customer_id</th>\n",
              "      <th>first_name</th>\n",
              "      <th>last_name</th>\n",
              "      <th>gender</th>\n",
              "      <th>past_3_years_bike_related_purchases</th>\n",
              "      <th>DOB</th>\n",
              "      <th>job_title</th>\n",
              "      <th>job_industry_category</th>\n",
              "      <th>wealth_segment</th>\n",
              "      <th>deceased_indicator</th>\n",
              "      <th>default</th>\n",
              "      <th>owns_car</th>\n",
              "      <th>tenure</th>\n",
              "    </tr>\n",
              "  </thead>\n",
              "  <tbody>\n",
              "    <tr>\n",
              "      <th>0</th>\n",
              "      <td>1</td>\n",
              "      <td>Laraine</td>\n",
              "      <td>Medendorp</td>\n",
              "      <td>F</td>\n",
              "      <td>93</td>\n",
              "      <td>1953-10-12</td>\n",
              "      <td>Executive Secretary</td>\n",
              "      <td>Health</td>\n",
              "      <td>Mass Customer</td>\n",
              "      <td>N</td>\n",
              "      <td>\"'</td>\n",
              "      <td>Yes</td>\n",
              "      <td>11.0</td>\n",
              "    </tr>\n",
              "    <tr>\n",
              "      <th>1</th>\n",
              "      <td>2</td>\n",
              "      <td>Eli</td>\n",
              "      <td>Bockman</td>\n",
              "      <td>Male</td>\n",
              "      <td>81</td>\n",
              "      <td>1980-12-16</td>\n",
              "      <td>Administrative Officer</td>\n",
              "      <td>Financial Services</td>\n",
              "      <td>Mass Customer</td>\n",
              "      <td>N</td>\n",
              "      <td>&lt;script&gt;alert('hi')&lt;/script&gt;</td>\n",
              "      <td>Yes</td>\n",
              "      <td>16.0</td>\n",
              "    </tr>\n",
              "    <tr>\n",
              "      <th>2</th>\n",
              "      <td>3</td>\n",
              "      <td>Arlin</td>\n",
              "      <td>Dearle</td>\n",
              "      <td>Male</td>\n",
              "      <td>61</td>\n",
              "      <td>1954-01-20</td>\n",
              "      <td>Recruiting Manager</td>\n",
              "      <td>Property</td>\n",
              "      <td>Mass Customer</td>\n",
              "      <td>N</td>\n",
              "      <td>2018-02-01 00:00:00</td>\n",
              "      <td>Yes</td>\n",
              "      <td>15.0</td>\n",
              "    </tr>\n",
              "    <tr>\n",
              "      <th>3</th>\n",
              "      <td>4</td>\n",
              "      <td>Talbot</td>\n",
              "      <td>NaN</td>\n",
              "      <td>Male</td>\n",
              "      <td>33</td>\n",
              "      <td>1961-10-03</td>\n",
              "      <td>NaN</td>\n",
              "      <td>IT</td>\n",
              "      <td>Mass Customer</td>\n",
              "      <td>N</td>\n",
              "      <td>() { _; } &gt;_[$($())] { touch /tmp/blns.shellsh...</td>\n",
              "      <td>No</td>\n",
              "      <td>7.0</td>\n",
              "    </tr>\n",
              "    <tr>\n",
              "      <th>4</th>\n",
              "      <td>5</td>\n",
              "      <td>Sheila-kathryn</td>\n",
              "      <td>Calton</td>\n",
              "      <td>Female</td>\n",
              "      <td>56</td>\n",
              "      <td>1977-05-13</td>\n",
              "      <td>Senior Editor</td>\n",
              "      <td>NaN</td>\n",
              "      <td>Affluent Customer</td>\n",
              "      <td>N</td>\n",
              "      <td>NIL</td>\n",
              "      <td>Yes</td>\n",
              "      <td>8.0</td>\n",
              "    </tr>\n",
              "  </tbody>\n",
              "</table>\n",
              "</div>"
            ],
            "text/plain": [
              "   customer_id      first_name  ... owns_car tenure\n",
              "0            1         Laraine  ...      Yes   11.0\n",
              "1            2             Eli  ...      Yes   16.0\n",
              "2            3           Arlin  ...      Yes   15.0\n",
              "3            4          Talbot  ...       No    7.0\n",
              "4            5  Sheila-kathryn  ...      Yes    8.0\n",
              "\n",
              "[5 rows x 13 columns]"
            ]
          },
          "metadata": {
            "tags": []
          },
          "execution_count": 172
        }
      ]
    },
    {
      "cell_type": "code",
      "metadata": {
        "id": "FrckEd_yChJx",
        "colab_type": "code",
        "colab": {
          "base_uri": "https://localhost:8080/",
          "height": 677
        },
        "outputId": "2a136d45-02c3-4cfd-c0d9-993a66e916b6"
      },
      "source": [
        "# left join\n",
        "cus_info = pd.merge(RFM_model,cus_demographic , how='left', on=['customer_id'])\n",
        "cus_info"
      ],
      "execution_count": 173,
      "outputs": [
        {
          "output_type": "execute_result",
          "data": {
            "text/html": [
              "<div>\n",
              "<style scoped>\n",
              "    .dataframe tbody tr th:only-of-type {\n",
              "        vertical-align: middle;\n",
              "    }\n",
              "\n",
              "    .dataframe tbody tr th {\n",
              "        vertical-align: top;\n",
              "    }\n",
              "\n",
              "    .dataframe thead th {\n",
              "        text-align: right;\n",
              "    }\n",
              "</style>\n",
              "<table border=\"1\" class=\"dataframe\">\n",
              "  <thead>\n",
              "    <tr style=\"text-align: right;\">\n",
              "      <th></th>\n",
              "      <th>customer_id</th>\n",
              "      <th>Recency</th>\n",
              "      <th>Frequency</th>\n",
              "      <th>Monetary</th>\n",
              "      <th>R</th>\n",
              "      <th>F</th>\n",
              "      <th>M</th>\n",
              "      <th>RFMGroup</th>\n",
              "      <th>RFMScore</th>\n",
              "      <th>loyal_level</th>\n",
              "      <th>first_name</th>\n",
              "      <th>last_name</th>\n",
              "      <th>gender</th>\n",
              "      <th>past_3_years_bike_related_purchases</th>\n",
              "      <th>DOB</th>\n",
              "      <th>job_title</th>\n",
              "      <th>job_industry_category</th>\n",
              "      <th>wealth_segment</th>\n",
              "      <th>deceased_indicator</th>\n",
              "      <th>default</th>\n",
              "      <th>owns_car</th>\n",
              "      <th>tenure</th>\n",
              "    </tr>\n",
              "  </thead>\n",
              "  <tbody>\n",
              "    <tr>\n",
              "      <th>0</th>\n",
              "      <td>1043</td>\n",
              "      <td>-130</td>\n",
              "      <td>10</td>\n",
              "      <td>10252.74</td>\n",
              "      <td>4</td>\n",
              "      <td>4</td>\n",
              "      <td>4</td>\n",
              "      <td>444</td>\n",
              "      <td>12</td>\n",
              "      <td>Platinum</td>\n",
              "      <td>Giorgi</td>\n",
              "      <td>Hurford</td>\n",
              "      <td>Male</td>\n",
              "      <td>34</td>\n",
              "      <td>1986-10-20</td>\n",
              "      <td>Sales Associate</td>\n",
              "      <td>Financial Services</td>\n",
              "      <td>Mass Customer</td>\n",
              "      <td>N</td>\n",
              "      <td>ã»(ï¿£âï¿£)ã»:*:</td>\n",
              "      <td>Yes</td>\n",
              "      <td>16.0</td>\n",
              "    </tr>\n",
              "    <tr>\n",
              "      <th>1</th>\n",
              "      <td>3212</td>\n",
              "      <td>-99</td>\n",
              "      <td>8</td>\n",
              "      <td>8830.42</td>\n",
              "      <td>4</td>\n",
              "      <td>4</td>\n",
              "      <td>4</td>\n",
              "      <td>444</td>\n",
              "      <td>12</td>\n",
              "      <td>Platinum</td>\n",
              "      <td>Corella</td>\n",
              "      <td>Bartomeu</td>\n",
              "      <td>Female</td>\n",
              "      <td>62</td>\n",
              "      <td>1981-01-15</td>\n",
              "      <td>Analog Circuit Design manager</td>\n",
              "      <td>Financial Services</td>\n",
              "      <td>Affluent Customer</td>\n",
              "      <td>N</td>\n",
              "      <td>ï¼ï¼ï¼</td>\n",
              "      <td>No</td>\n",
              "      <td>13.0</td>\n",
              "    </tr>\n",
              "    <tr>\n",
              "      <th>2</th>\n",
              "      <td>473</td>\n",
              "      <td>-115</td>\n",
              "      <td>9</td>\n",
              "      <td>8364.66</td>\n",
              "      <td>4</td>\n",
              "      <td>4</td>\n",
              "      <td>4</td>\n",
              "      <td>444</td>\n",
              "      <td>12</td>\n",
              "      <td>Platinum</td>\n",
              "      <td>Benji</td>\n",
              "      <td>O'Shirine</td>\n",
              "      <td>Male</td>\n",
              "      <td>2</td>\n",
              "      <td>1977-03-13</td>\n",
              "      <td>Junior Executive</td>\n",
              "      <td>Health</td>\n",
              "      <td>Mass Customer</td>\n",
              "      <td>N</td>\n",
              "      <td>(ï½¡â â âï½¡)</td>\n",
              "      <td>Yes</td>\n",
              "      <td>20.0</td>\n",
              "    </tr>\n",
              "    <tr>\n",
              "      <th>3</th>\n",
              "      <td>2894</td>\n",
              "      <td>-86</td>\n",
              "      <td>9</td>\n",
              "      <td>7544.08</td>\n",
              "      <td>4</td>\n",
              "      <td>4</td>\n",
              "      <td>4</td>\n",
              "      <td>444</td>\n",
              "      <td>12</td>\n",
              "      <td>Platinum</td>\n",
              "      <td>Gilburt</td>\n",
              "      <td>NaN</td>\n",
              "      <td>Male</td>\n",
              "      <td>91</td>\n",
              "      <td>1977-04-19</td>\n",
              "      <td>Geologist III</td>\n",
              "      <td>Financial Services</td>\n",
              "      <td>Mass Customer</td>\n",
              "      <td>N</td>\n",
              "      <td>-100</td>\n",
              "      <td>Yes</td>\n",
              "      <td>22.0</td>\n",
              "    </tr>\n",
              "    <tr>\n",
              "      <th>4</th>\n",
              "      <td>168</td>\n",
              "      <td>-136</td>\n",
              "      <td>9</td>\n",
              "      <td>7372.43</td>\n",
              "      <td>4</td>\n",
              "      <td>4</td>\n",
              "      <td>4</td>\n",
              "      <td>444</td>\n",
              "      <td>12</td>\n",
              "      <td>Platinum</td>\n",
              "      <td>Reggie</td>\n",
              "      <td>Broggetti</td>\n",
              "      <td>U</td>\n",
              "      <td>8</td>\n",
              "      <td>NaT</td>\n",
              "      <td>General Manager</td>\n",
              "      <td>IT</td>\n",
              "      <td>Affluent Customer</td>\n",
              "      <td>N</td>\n",
              "      <td>NaN</td>\n",
              "      <td>Yes</td>\n",
              "      <td>NaN</td>\n",
              "    </tr>\n",
              "    <tr>\n",
              "      <th>...</th>\n",
              "      <td>...</td>\n",
              "      <td>...</td>\n",
              "      <td>...</td>\n",
              "      <td>...</td>\n",
              "      <td>...</td>\n",
              "      <td>...</td>\n",
              "      <td>...</td>\n",
              "      <td>...</td>\n",
              "      <td>...</td>\n",
              "      <td>...</td>\n",
              "      <td>...</td>\n",
              "      <td>...</td>\n",
              "      <td>...</td>\n",
              "      <td>...</td>\n",
              "      <td>...</td>\n",
              "      <td>...</td>\n",
              "      <td>...</td>\n",
              "      <td>...</td>\n",
              "      <td>...</td>\n",
              "      <td>...</td>\n",
              "      <td>...</td>\n",
              "      <td>...</td>\n",
              "    </tr>\n",
              "    <tr>\n",
              "      <th>95</th>\n",
              "      <td>48</td>\n",
              "      <td>-82</td>\n",
              "      <td>8</td>\n",
              "      <td>5561.08</td>\n",
              "      <td>3</td>\n",
              "      <td>4</td>\n",
              "      <td>4</td>\n",
              "      <td>344</td>\n",
              "      <td>11</td>\n",
              "      <td>Platinum</td>\n",
              "      <td>Rebbecca</td>\n",
              "      <td>Casone</td>\n",
              "      <td>Female</td>\n",
              "      <td>46</td>\n",
              "      <td>1975-08-15</td>\n",
              "      <td>Biostatistician II</td>\n",
              "      <td>NaN</td>\n",
              "      <td>Mass Customer</td>\n",
              "      <td>N</td>\n",
              "      <td>../../../../../../../../../../../etc/hosts</td>\n",
              "      <td>Yes</td>\n",
              "      <td>8.0</td>\n",
              "    </tr>\n",
              "    <tr>\n",
              "      <th>96</th>\n",
              "      <td>2615</td>\n",
              "      <td>-55</td>\n",
              "      <td>9</td>\n",
              "      <td>5517.12</td>\n",
              "      <td>3</td>\n",
              "      <td>4</td>\n",
              "      <td>4</td>\n",
              "      <td>344</td>\n",
              "      <td>11</td>\n",
              "      <td>Platinum</td>\n",
              "      <td>Cordelia</td>\n",
              "      <td>NaN</td>\n",
              "      <td>Female</td>\n",
              "      <td>23</td>\n",
              "      <td>1998-08-13</td>\n",
              "      <td>Nurse</td>\n",
              "      <td>Financial Services</td>\n",
              "      <td>Mass Customer</td>\n",
              "      <td>N</td>\n",
              "      <td>Ù¡Ù¢Ù£</td>\n",
              "      <td>Yes</td>\n",
              "      <td>1.0</td>\n",
              "    </tr>\n",
              "    <tr>\n",
              "      <th>97</th>\n",
              "      <td>294</td>\n",
              "      <td>-115</td>\n",
              "      <td>7</td>\n",
              "      <td>5509.67</td>\n",
              "      <td>4</td>\n",
              "      <td>3</td>\n",
              "      <td>4</td>\n",
              "      <td>434</td>\n",
              "      <td>11</td>\n",
              "      <td>Platinum</td>\n",
              "      <td>Magnum</td>\n",
              "      <td>Slowan</td>\n",
              "      <td>Male</td>\n",
              "      <td>39</td>\n",
              "      <td>1959-04-01</td>\n",
              "      <td>Recruiting Manager</td>\n",
              "      <td>NaN</td>\n",
              "      <td>High Net Worth</td>\n",
              "      <td>N</td>\n",
              "      <td>ZÌ®ÌÍÌ ÍÍAÌ¥ÌÌÍÌ»ÌLÌ£ÍÍÌ¯Ì¹ÌÍGÌ»OÌ­ÌÌ®</td>\n",
              "      <td>No</td>\n",
              "      <td>5.0</td>\n",
              "    </tr>\n",
              "    <tr>\n",
              "      <th>98</th>\n",
              "      <td>3406</td>\n",
              "      <td>-46</td>\n",
              "      <td>10</td>\n",
              "      <td>5463.64</td>\n",
              "      <td>3</td>\n",
              "      <td>4</td>\n",
              "      <td>4</td>\n",
              "      <td>344</td>\n",
              "      <td>11</td>\n",
              "      <td>Platinum</td>\n",
              "      <td>Lucy</td>\n",
              "      <td>Lackmann</td>\n",
              "      <td>Female</td>\n",
              "      <td>35</td>\n",
              "      <td>1979-04-28</td>\n",
              "      <td>Business Systems Development Analyst</td>\n",
              "      <td>IT</td>\n",
              "      <td>Mass Customer</td>\n",
              "      <td>N</td>\n",
              "      <td>ã»(ï¿£âï¿£)ã»:*:</td>\n",
              "      <td>Yes</td>\n",
              "      <td>10.0</td>\n",
              "    </tr>\n",
              "    <tr>\n",
              "      <th>99</th>\n",
              "      <td>394</td>\n",
              "      <td>-45</td>\n",
              "      <td>8</td>\n",
              "      <td>5445.46</td>\n",
              "      <td>3</td>\n",
              "      <td>4</td>\n",
              "      <td>4</td>\n",
              "      <td>344</td>\n",
              "      <td>11</td>\n",
              "      <td>Platinum</td>\n",
              "      <td>Roanne</td>\n",
              "      <td>Cowthard</td>\n",
              "      <td>Female</td>\n",
              "      <td>70</td>\n",
              "      <td>1977-06-06</td>\n",
              "      <td>Legal Assistant</td>\n",
              "      <td>Health</td>\n",
              "      <td>High Net Worth</td>\n",
              "      <td>N</td>\n",
              "      <td>(â¯Â°â¡Â°ï¼â¯ï¸µ â»ââ»)</td>\n",
              "      <td>Yes</td>\n",
              "      <td>16.0</td>\n",
              "    </tr>\n",
              "  </tbody>\n",
              "</table>\n",
              "<p>100 rows × 22 columns</p>\n",
              "</div>"
            ],
            "text/plain": [
              "    customer_id  Recency  ...  owns_car  tenure\n",
              "0          1043     -130  ...       Yes    16.0\n",
              "1          3212      -99  ...        No    13.0\n",
              "2           473     -115  ...       Yes    20.0\n",
              "3          2894      -86  ...       Yes    22.0\n",
              "4           168     -136  ...       Yes     NaN\n",
              "..          ...      ...  ...       ...     ...\n",
              "95           48      -82  ...       Yes     8.0\n",
              "96         2615      -55  ...       Yes     1.0\n",
              "97          294     -115  ...        No     5.0\n",
              "98         3406      -46  ...       Yes    10.0\n",
              "99          394      -45  ...       Yes    16.0\n",
              "\n",
              "[100 rows x 22 columns]"
            ]
          },
          "metadata": {
            "tags": []
          },
          "execution_count": 173
        }
      ]
    },
    {
      "cell_type": "markdown",
      "metadata": {
        "id": "uiegm8KBEkVs",
        "colab_type": "text"
      },
      "source": [
        "**1)Replace M, F, U in `gender` to Male, Female, Unknown**"
      ]
    },
    {
      "cell_type": "code",
      "metadata": {
        "id": "OtFhxyBOD6dY",
        "colab_type": "code",
        "colab": {}
      },
      "source": [
        "cus_info.gender.replace({'U':'Unknown','F':\"Female\",\"M\":\"Male\"},inplace=True)"
      ],
      "execution_count": 174,
      "outputs": []
    },
    {
      "cell_type": "markdown",
      "metadata": {
        "id": "w1JQy9AMErtD",
        "colab_type": "text"
      },
      "source": [
        "**4)drop `default` columns**"
      ]
    },
    {
      "cell_type": "code",
      "metadata": {
        "id": "xzQsEluvEvjL",
        "colab_type": "code",
        "colab": {}
      },
      "source": [
        "cus_info.drop(\"default\",axis=1,inplace=True)"
      ],
      "execution_count": 175,
      "outputs": []
    },
    {
      "cell_type": "code",
      "metadata": {
        "id": "pRTGwn1ME71k",
        "colab_type": "code",
        "colab": {
          "base_uri": "https://localhost:8080/",
          "height": 677
        },
        "outputId": "ec1f0104-088a-4b22-9337-6330334d7b64"
      },
      "source": [
        "cus_info"
      ],
      "execution_count": 176,
      "outputs": [
        {
          "output_type": "execute_result",
          "data": {
            "text/html": [
              "<div>\n",
              "<style scoped>\n",
              "    .dataframe tbody tr th:only-of-type {\n",
              "        vertical-align: middle;\n",
              "    }\n",
              "\n",
              "    .dataframe tbody tr th {\n",
              "        vertical-align: top;\n",
              "    }\n",
              "\n",
              "    .dataframe thead th {\n",
              "        text-align: right;\n",
              "    }\n",
              "</style>\n",
              "<table border=\"1\" class=\"dataframe\">\n",
              "  <thead>\n",
              "    <tr style=\"text-align: right;\">\n",
              "      <th></th>\n",
              "      <th>customer_id</th>\n",
              "      <th>Recency</th>\n",
              "      <th>Frequency</th>\n",
              "      <th>Monetary</th>\n",
              "      <th>R</th>\n",
              "      <th>F</th>\n",
              "      <th>M</th>\n",
              "      <th>RFMGroup</th>\n",
              "      <th>RFMScore</th>\n",
              "      <th>loyal_level</th>\n",
              "      <th>first_name</th>\n",
              "      <th>last_name</th>\n",
              "      <th>gender</th>\n",
              "      <th>past_3_years_bike_related_purchases</th>\n",
              "      <th>DOB</th>\n",
              "      <th>job_title</th>\n",
              "      <th>job_industry_category</th>\n",
              "      <th>wealth_segment</th>\n",
              "      <th>deceased_indicator</th>\n",
              "      <th>owns_car</th>\n",
              "      <th>tenure</th>\n",
              "    </tr>\n",
              "  </thead>\n",
              "  <tbody>\n",
              "    <tr>\n",
              "      <th>0</th>\n",
              "      <td>1043</td>\n",
              "      <td>-130</td>\n",
              "      <td>10</td>\n",
              "      <td>10252.74</td>\n",
              "      <td>4</td>\n",
              "      <td>4</td>\n",
              "      <td>4</td>\n",
              "      <td>444</td>\n",
              "      <td>12</td>\n",
              "      <td>Platinum</td>\n",
              "      <td>Giorgi</td>\n",
              "      <td>Hurford</td>\n",
              "      <td>Male</td>\n",
              "      <td>34</td>\n",
              "      <td>1986-10-20</td>\n",
              "      <td>Sales Associate</td>\n",
              "      <td>Financial Services</td>\n",
              "      <td>Mass Customer</td>\n",
              "      <td>N</td>\n",
              "      <td>Yes</td>\n",
              "      <td>16.0</td>\n",
              "    </tr>\n",
              "    <tr>\n",
              "      <th>1</th>\n",
              "      <td>3212</td>\n",
              "      <td>-99</td>\n",
              "      <td>8</td>\n",
              "      <td>8830.42</td>\n",
              "      <td>4</td>\n",
              "      <td>4</td>\n",
              "      <td>4</td>\n",
              "      <td>444</td>\n",
              "      <td>12</td>\n",
              "      <td>Platinum</td>\n",
              "      <td>Corella</td>\n",
              "      <td>Bartomeu</td>\n",
              "      <td>Female</td>\n",
              "      <td>62</td>\n",
              "      <td>1981-01-15</td>\n",
              "      <td>Analog Circuit Design manager</td>\n",
              "      <td>Financial Services</td>\n",
              "      <td>Affluent Customer</td>\n",
              "      <td>N</td>\n",
              "      <td>No</td>\n",
              "      <td>13.0</td>\n",
              "    </tr>\n",
              "    <tr>\n",
              "      <th>2</th>\n",
              "      <td>473</td>\n",
              "      <td>-115</td>\n",
              "      <td>9</td>\n",
              "      <td>8364.66</td>\n",
              "      <td>4</td>\n",
              "      <td>4</td>\n",
              "      <td>4</td>\n",
              "      <td>444</td>\n",
              "      <td>12</td>\n",
              "      <td>Platinum</td>\n",
              "      <td>Benji</td>\n",
              "      <td>O'Shirine</td>\n",
              "      <td>Male</td>\n",
              "      <td>2</td>\n",
              "      <td>1977-03-13</td>\n",
              "      <td>Junior Executive</td>\n",
              "      <td>Health</td>\n",
              "      <td>Mass Customer</td>\n",
              "      <td>N</td>\n",
              "      <td>Yes</td>\n",
              "      <td>20.0</td>\n",
              "    </tr>\n",
              "    <tr>\n",
              "      <th>3</th>\n",
              "      <td>2894</td>\n",
              "      <td>-86</td>\n",
              "      <td>9</td>\n",
              "      <td>7544.08</td>\n",
              "      <td>4</td>\n",
              "      <td>4</td>\n",
              "      <td>4</td>\n",
              "      <td>444</td>\n",
              "      <td>12</td>\n",
              "      <td>Platinum</td>\n",
              "      <td>Gilburt</td>\n",
              "      <td>NaN</td>\n",
              "      <td>Male</td>\n",
              "      <td>91</td>\n",
              "      <td>1977-04-19</td>\n",
              "      <td>Geologist III</td>\n",
              "      <td>Financial Services</td>\n",
              "      <td>Mass Customer</td>\n",
              "      <td>N</td>\n",
              "      <td>Yes</td>\n",
              "      <td>22.0</td>\n",
              "    </tr>\n",
              "    <tr>\n",
              "      <th>4</th>\n",
              "      <td>168</td>\n",
              "      <td>-136</td>\n",
              "      <td>9</td>\n",
              "      <td>7372.43</td>\n",
              "      <td>4</td>\n",
              "      <td>4</td>\n",
              "      <td>4</td>\n",
              "      <td>444</td>\n",
              "      <td>12</td>\n",
              "      <td>Platinum</td>\n",
              "      <td>Reggie</td>\n",
              "      <td>Broggetti</td>\n",
              "      <td>Unknown</td>\n",
              "      <td>8</td>\n",
              "      <td>NaT</td>\n",
              "      <td>General Manager</td>\n",
              "      <td>IT</td>\n",
              "      <td>Affluent Customer</td>\n",
              "      <td>N</td>\n",
              "      <td>Yes</td>\n",
              "      <td>NaN</td>\n",
              "    </tr>\n",
              "    <tr>\n",
              "      <th>...</th>\n",
              "      <td>...</td>\n",
              "      <td>...</td>\n",
              "      <td>...</td>\n",
              "      <td>...</td>\n",
              "      <td>...</td>\n",
              "      <td>...</td>\n",
              "      <td>...</td>\n",
              "      <td>...</td>\n",
              "      <td>...</td>\n",
              "      <td>...</td>\n",
              "      <td>...</td>\n",
              "      <td>...</td>\n",
              "      <td>...</td>\n",
              "      <td>...</td>\n",
              "      <td>...</td>\n",
              "      <td>...</td>\n",
              "      <td>...</td>\n",
              "      <td>...</td>\n",
              "      <td>...</td>\n",
              "      <td>...</td>\n",
              "      <td>...</td>\n",
              "    </tr>\n",
              "    <tr>\n",
              "      <th>95</th>\n",
              "      <td>48</td>\n",
              "      <td>-82</td>\n",
              "      <td>8</td>\n",
              "      <td>5561.08</td>\n",
              "      <td>3</td>\n",
              "      <td>4</td>\n",
              "      <td>4</td>\n",
              "      <td>344</td>\n",
              "      <td>11</td>\n",
              "      <td>Platinum</td>\n",
              "      <td>Rebbecca</td>\n",
              "      <td>Casone</td>\n",
              "      <td>Female</td>\n",
              "      <td>46</td>\n",
              "      <td>1975-08-15</td>\n",
              "      <td>Biostatistician II</td>\n",
              "      <td>NaN</td>\n",
              "      <td>Mass Customer</td>\n",
              "      <td>N</td>\n",
              "      <td>Yes</td>\n",
              "      <td>8.0</td>\n",
              "    </tr>\n",
              "    <tr>\n",
              "      <th>96</th>\n",
              "      <td>2615</td>\n",
              "      <td>-55</td>\n",
              "      <td>9</td>\n",
              "      <td>5517.12</td>\n",
              "      <td>3</td>\n",
              "      <td>4</td>\n",
              "      <td>4</td>\n",
              "      <td>344</td>\n",
              "      <td>11</td>\n",
              "      <td>Platinum</td>\n",
              "      <td>Cordelia</td>\n",
              "      <td>NaN</td>\n",
              "      <td>Female</td>\n",
              "      <td>23</td>\n",
              "      <td>1998-08-13</td>\n",
              "      <td>Nurse</td>\n",
              "      <td>Financial Services</td>\n",
              "      <td>Mass Customer</td>\n",
              "      <td>N</td>\n",
              "      <td>Yes</td>\n",
              "      <td>1.0</td>\n",
              "    </tr>\n",
              "    <tr>\n",
              "      <th>97</th>\n",
              "      <td>294</td>\n",
              "      <td>-115</td>\n",
              "      <td>7</td>\n",
              "      <td>5509.67</td>\n",
              "      <td>4</td>\n",
              "      <td>3</td>\n",
              "      <td>4</td>\n",
              "      <td>434</td>\n",
              "      <td>11</td>\n",
              "      <td>Platinum</td>\n",
              "      <td>Magnum</td>\n",
              "      <td>Slowan</td>\n",
              "      <td>Male</td>\n",
              "      <td>39</td>\n",
              "      <td>1959-04-01</td>\n",
              "      <td>Recruiting Manager</td>\n",
              "      <td>NaN</td>\n",
              "      <td>High Net Worth</td>\n",
              "      <td>N</td>\n",
              "      <td>No</td>\n",
              "      <td>5.0</td>\n",
              "    </tr>\n",
              "    <tr>\n",
              "      <th>98</th>\n",
              "      <td>3406</td>\n",
              "      <td>-46</td>\n",
              "      <td>10</td>\n",
              "      <td>5463.64</td>\n",
              "      <td>3</td>\n",
              "      <td>4</td>\n",
              "      <td>4</td>\n",
              "      <td>344</td>\n",
              "      <td>11</td>\n",
              "      <td>Platinum</td>\n",
              "      <td>Lucy</td>\n",
              "      <td>Lackmann</td>\n",
              "      <td>Female</td>\n",
              "      <td>35</td>\n",
              "      <td>1979-04-28</td>\n",
              "      <td>Business Systems Development Analyst</td>\n",
              "      <td>IT</td>\n",
              "      <td>Mass Customer</td>\n",
              "      <td>N</td>\n",
              "      <td>Yes</td>\n",
              "      <td>10.0</td>\n",
              "    </tr>\n",
              "    <tr>\n",
              "      <th>99</th>\n",
              "      <td>394</td>\n",
              "      <td>-45</td>\n",
              "      <td>8</td>\n",
              "      <td>5445.46</td>\n",
              "      <td>3</td>\n",
              "      <td>4</td>\n",
              "      <td>4</td>\n",
              "      <td>344</td>\n",
              "      <td>11</td>\n",
              "      <td>Platinum</td>\n",
              "      <td>Roanne</td>\n",
              "      <td>Cowthard</td>\n",
              "      <td>Female</td>\n",
              "      <td>70</td>\n",
              "      <td>1977-06-06</td>\n",
              "      <td>Legal Assistant</td>\n",
              "      <td>Health</td>\n",
              "      <td>High Net Worth</td>\n",
              "      <td>N</td>\n",
              "      <td>Yes</td>\n",
              "      <td>16.0</td>\n",
              "    </tr>\n",
              "  </tbody>\n",
              "</table>\n",
              "<p>100 rows × 21 columns</p>\n",
              "</div>"
            ],
            "text/plain": [
              "    customer_id  Recency  Frequency  ...  deceased_indicator  owns_car  tenure\n",
              "0          1043     -130         10  ...                   N       Yes    16.0\n",
              "1          3212      -99          8  ...                   N        No    13.0\n",
              "2           473     -115          9  ...                   N       Yes    20.0\n",
              "3          2894      -86          9  ...                   N       Yes    22.0\n",
              "4           168     -136          9  ...                   N       Yes     NaN\n",
              "..          ...      ...        ...  ...                 ...       ...     ...\n",
              "95           48      -82          8  ...                   N       Yes     8.0\n",
              "96         2615      -55          9  ...                   N       Yes     1.0\n",
              "97          294     -115          7  ...                   N        No     5.0\n",
              "98         3406      -46         10  ...                   N       Yes    10.0\n",
              "99          394      -45          8  ...                   N       Yes    16.0\n",
              "\n",
              "[100 rows x 21 columns]"
            ]
          },
          "metadata": {
            "tags": []
          },
          "execution_count": 176
        }
      ]
    },
    {
      "cell_type": "code",
      "metadata": {
        "id": "_0hNOustTJtg",
        "colab_type": "code",
        "colab": {}
      },
      "source": [
        ""
      ],
      "execution_count": 176,
      "outputs": []
    },
    {
      "cell_type": "markdown",
      "metadata": {
        "id": "tMRLycuUTItm",
        "colab_type": "text"
      },
      "source": [
        "# merge customer info with customer address\n",
        "\n",
        "\n"
      ]
    },
    {
      "cell_type": "code",
      "metadata": {
        "id": "PDP08kbOSl-q",
        "colab_type": "code",
        "colab": {}
      },
      "source": [
        "\n",
        "cus_info = pd.merge(cus_info,cus_address , how='left', on=['customer_id'])"
      ],
      "execution_count": 177,
      "outputs": []
    },
    {
      "cell_type": "code",
      "metadata": {
        "id": "ghPS2WKMS7cW",
        "colab_type": "code",
        "colab": {
          "base_uri": "https://localhost:8080/",
          "height": 782
        },
        "outputId": "eda0b3f3-649d-4723-bb6c-fb5e3100fa48"
      },
      "source": [
        "cus_info"
      ],
      "execution_count": 178,
      "outputs": [
        {
          "output_type": "execute_result",
          "data": {
            "text/html": [
              "<div>\n",
              "<style scoped>\n",
              "    .dataframe tbody tr th:only-of-type {\n",
              "        vertical-align: middle;\n",
              "    }\n",
              "\n",
              "    .dataframe tbody tr th {\n",
              "        vertical-align: top;\n",
              "    }\n",
              "\n",
              "    .dataframe thead th {\n",
              "        text-align: right;\n",
              "    }\n",
              "</style>\n",
              "<table border=\"1\" class=\"dataframe\">\n",
              "  <thead>\n",
              "    <tr style=\"text-align: right;\">\n",
              "      <th></th>\n",
              "      <th>customer_id</th>\n",
              "      <th>Recency</th>\n",
              "      <th>Frequency</th>\n",
              "      <th>Monetary</th>\n",
              "      <th>R</th>\n",
              "      <th>F</th>\n",
              "      <th>M</th>\n",
              "      <th>RFMGroup</th>\n",
              "      <th>RFMScore</th>\n",
              "      <th>loyal_level</th>\n",
              "      <th>first_name</th>\n",
              "      <th>last_name</th>\n",
              "      <th>gender</th>\n",
              "      <th>past_3_years_bike_related_purchases</th>\n",
              "      <th>DOB</th>\n",
              "      <th>job_title</th>\n",
              "      <th>job_industry_category</th>\n",
              "      <th>wealth_segment</th>\n",
              "      <th>deceased_indicator</th>\n",
              "      <th>owns_car</th>\n",
              "      <th>tenure</th>\n",
              "      <th>address</th>\n",
              "      <th>postcode</th>\n",
              "      <th>state</th>\n",
              "      <th>country</th>\n",
              "      <th>property_valuation</th>\n",
              "    </tr>\n",
              "  </thead>\n",
              "  <tbody>\n",
              "    <tr>\n",
              "      <th>0</th>\n",
              "      <td>1043</td>\n",
              "      <td>-130</td>\n",
              "      <td>10</td>\n",
              "      <td>10252.74</td>\n",
              "      <td>4</td>\n",
              "      <td>4</td>\n",
              "      <td>4</td>\n",
              "      <td>444</td>\n",
              "      <td>12</td>\n",
              "      <td>Platinum</td>\n",
              "      <td>Giorgi</td>\n",
              "      <td>Hurford</td>\n",
              "      <td>Male</td>\n",
              "      <td>34</td>\n",
              "      <td>1986-10-20</td>\n",
              "      <td>Sales Associate</td>\n",
              "      <td>Financial Services</td>\n",
              "      <td>Mass Customer</td>\n",
              "      <td>N</td>\n",
              "      <td>Yes</td>\n",
              "      <td>16.0</td>\n",
              "      <td>91 Spohn Plaza</td>\n",
              "      <td>4573.0</td>\n",
              "      <td>QLD</td>\n",
              "      <td>Australia</td>\n",
              "      <td>7.0</td>\n",
              "    </tr>\n",
              "    <tr>\n",
              "      <th>1</th>\n",
              "      <td>3212</td>\n",
              "      <td>-99</td>\n",
              "      <td>8</td>\n",
              "      <td>8830.42</td>\n",
              "      <td>4</td>\n",
              "      <td>4</td>\n",
              "      <td>4</td>\n",
              "      <td>444</td>\n",
              "      <td>12</td>\n",
              "      <td>Platinum</td>\n",
              "      <td>Corella</td>\n",
              "      <td>Bartomeu</td>\n",
              "      <td>Female</td>\n",
              "      <td>62</td>\n",
              "      <td>1981-01-15</td>\n",
              "      <td>Analog Circuit Design manager</td>\n",
              "      <td>Financial Services</td>\n",
              "      <td>Affluent Customer</td>\n",
              "      <td>N</td>\n",
              "      <td>No</td>\n",
              "      <td>13.0</td>\n",
              "      <td>4 Farragut Center</td>\n",
              "      <td>2065.0</td>\n",
              "      <td>NSW</td>\n",
              "      <td>Australia</td>\n",
              "      <td>12.0</td>\n",
              "    </tr>\n",
              "    <tr>\n",
              "      <th>2</th>\n",
              "      <td>473</td>\n",
              "      <td>-115</td>\n",
              "      <td>9</td>\n",
              "      <td>8364.66</td>\n",
              "      <td>4</td>\n",
              "      <td>4</td>\n",
              "      <td>4</td>\n",
              "      <td>444</td>\n",
              "      <td>12</td>\n",
              "      <td>Platinum</td>\n",
              "      <td>Benji</td>\n",
              "      <td>O'Shirine</td>\n",
              "      <td>Male</td>\n",
              "      <td>2</td>\n",
              "      <td>1977-03-13</td>\n",
              "      <td>Junior Executive</td>\n",
              "      <td>Health</td>\n",
              "      <td>Mass Customer</td>\n",
              "      <td>N</td>\n",
              "      <td>Yes</td>\n",
              "      <td>20.0</td>\n",
              "      <td>29 South Point</td>\n",
              "      <td>3111.0</td>\n",
              "      <td>VIC</td>\n",
              "      <td>Australia</td>\n",
              "      <td>9.0</td>\n",
              "    </tr>\n",
              "    <tr>\n",
              "      <th>3</th>\n",
              "      <td>2894</td>\n",
              "      <td>-86</td>\n",
              "      <td>9</td>\n",
              "      <td>7544.08</td>\n",
              "      <td>4</td>\n",
              "      <td>4</td>\n",
              "      <td>4</td>\n",
              "      <td>444</td>\n",
              "      <td>12</td>\n",
              "      <td>Platinum</td>\n",
              "      <td>Gilburt</td>\n",
              "      <td>NaN</td>\n",
              "      <td>Male</td>\n",
              "      <td>91</td>\n",
              "      <td>1977-04-19</td>\n",
              "      <td>Geologist III</td>\n",
              "      <td>Financial Services</td>\n",
              "      <td>Mass Customer</td>\n",
              "      <td>N</td>\n",
              "      <td>Yes</td>\n",
              "      <td>22.0</td>\n",
              "      <td>666 Holy Cross Parkway</td>\n",
              "      <td>4818.0</td>\n",
              "      <td>QLD</td>\n",
              "      <td>Australia</td>\n",
              "      <td>4.0</td>\n",
              "    </tr>\n",
              "    <tr>\n",
              "      <th>4</th>\n",
              "      <td>168</td>\n",
              "      <td>-136</td>\n",
              "      <td>9</td>\n",
              "      <td>7372.43</td>\n",
              "      <td>4</td>\n",
              "      <td>4</td>\n",
              "      <td>4</td>\n",
              "      <td>444</td>\n",
              "      <td>12</td>\n",
              "      <td>Platinum</td>\n",
              "      <td>Reggie</td>\n",
              "      <td>Broggetti</td>\n",
              "      <td>Unknown</td>\n",
              "      <td>8</td>\n",
              "      <td>NaT</td>\n",
              "      <td>General Manager</td>\n",
              "      <td>IT</td>\n",
              "      <td>Affluent Customer</td>\n",
              "      <td>N</td>\n",
              "      <td>Yes</td>\n",
              "      <td>NaN</td>\n",
              "      <td>16 Golf View Center</td>\n",
              "      <td>3020.0</td>\n",
              "      <td>VIC</td>\n",
              "      <td>Australia</td>\n",
              "      <td>6.0</td>\n",
              "    </tr>\n",
              "    <tr>\n",
              "      <th>...</th>\n",
              "      <td>...</td>\n",
              "      <td>...</td>\n",
              "      <td>...</td>\n",
              "      <td>...</td>\n",
              "      <td>...</td>\n",
              "      <td>...</td>\n",
              "      <td>...</td>\n",
              "      <td>...</td>\n",
              "      <td>...</td>\n",
              "      <td>...</td>\n",
              "      <td>...</td>\n",
              "      <td>...</td>\n",
              "      <td>...</td>\n",
              "      <td>...</td>\n",
              "      <td>...</td>\n",
              "      <td>...</td>\n",
              "      <td>...</td>\n",
              "      <td>...</td>\n",
              "      <td>...</td>\n",
              "      <td>...</td>\n",
              "      <td>...</td>\n",
              "      <td>...</td>\n",
              "      <td>...</td>\n",
              "      <td>...</td>\n",
              "      <td>...</td>\n",
              "      <td>...</td>\n",
              "    </tr>\n",
              "    <tr>\n",
              "      <th>95</th>\n",
              "      <td>48</td>\n",
              "      <td>-82</td>\n",
              "      <td>8</td>\n",
              "      <td>5561.08</td>\n",
              "      <td>3</td>\n",
              "      <td>4</td>\n",
              "      <td>4</td>\n",
              "      <td>344</td>\n",
              "      <td>11</td>\n",
              "      <td>Platinum</td>\n",
              "      <td>Rebbecca</td>\n",
              "      <td>Casone</td>\n",
              "      <td>Female</td>\n",
              "      <td>46</td>\n",
              "      <td>1975-08-15</td>\n",
              "      <td>Biostatistician II</td>\n",
              "      <td>NaN</td>\n",
              "      <td>Mass Customer</td>\n",
              "      <td>N</td>\n",
              "      <td>Yes</td>\n",
              "      <td>8.0</td>\n",
              "      <td>22125 Ramsey Drive</td>\n",
              "      <td>3198.0</td>\n",
              "      <td>VIC</td>\n",
              "      <td>Australia</td>\n",
              "      <td>9.0</td>\n",
              "    </tr>\n",
              "    <tr>\n",
              "      <th>96</th>\n",
              "      <td>2615</td>\n",
              "      <td>-55</td>\n",
              "      <td>9</td>\n",
              "      <td>5517.12</td>\n",
              "      <td>3</td>\n",
              "      <td>4</td>\n",
              "      <td>4</td>\n",
              "      <td>344</td>\n",
              "      <td>11</td>\n",
              "      <td>Platinum</td>\n",
              "      <td>Cordelia</td>\n",
              "      <td>NaN</td>\n",
              "      <td>Female</td>\n",
              "      <td>23</td>\n",
              "      <td>1998-08-13</td>\n",
              "      <td>Nurse</td>\n",
              "      <td>Financial Services</td>\n",
              "      <td>Mass Customer</td>\n",
              "      <td>N</td>\n",
              "      <td>Yes</td>\n",
              "      <td>1.0</td>\n",
              "      <td>51313 Fulton Junction</td>\n",
              "      <td>2580.0</td>\n",
              "      <td>NSW</td>\n",
              "      <td>Australia</td>\n",
              "      <td>7.0</td>\n",
              "    </tr>\n",
              "    <tr>\n",
              "      <th>97</th>\n",
              "      <td>294</td>\n",
              "      <td>-115</td>\n",
              "      <td>7</td>\n",
              "      <td>5509.67</td>\n",
              "      <td>4</td>\n",
              "      <td>3</td>\n",
              "      <td>4</td>\n",
              "      <td>434</td>\n",
              "      <td>11</td>\n",
              "      <td>Platinum</td>\n",
              "      <td>Magnum</td>\n",
              "      <td>Slowan</td>\n",
              "      <td>Male</td>\n",
              "      <td>39</td>\n",
              "      <td>1959-04-01</td>\n",
              "      <td>Recruiting Manager</td>\n",
              "      <td>NaN</td>\n",
              "      <td>High Net Worth</td>\n",
              "      <td>N</td>\n",
              "      <td>No</td>\n",
              "      <td>5.0</td>\n",
              "      <td>807 Beilfuss Crossing</td>\n",
              "      <td>3030.0</td>\n",
              "      <td>VIC</td>\n",
              "      <td>Australia</td>\n",
              "      <td>7.0</td>\n",
              "    </tr>\n",
              "    <tr>\n",
              "      <th>98</th>\n",
              "      <td>3406</td>\n",
              "      <td>-46</td>\n",
              "      <td>10</td>\n",
              "      <td>5463.64</td>\n",
              "      <td>3</td>\n",
              "      <td>4</td>\n",
              "      <td>4</td>\n",
              "      <td>344</td>\n",
              "      <td>11</td>\n",
              "      <td>Platinum</td>\n",
              "      <td>Lucy</td>\n",
              "      <td>Lackmann</td>\n",
              "      <td>Female</td>\n",
              "      <td>35</td>\n",
              "      <td>1979-04-28</td>\n",
              "      <td>Business Systems Development Analyst</td>\n",
              "      <td>IT</td>\n",
              "      <td>Mass Customer</td>\n",
              "      <td>N</td>\n",
              "      <td>Yes</td>\n",
              "      <td>10.0</td>\n",
              "      <td>5 Northland Plaza</td>\n",
              "      <td>2096.0</td>\n",
              "      <td>NSW</td>\n",
              "      <td>Australia</td>\n",
              "      <td>9.0</td>\n",
              "    </tr>\n",
              "    <tr>\n",
              "      <th>99</th>\n",
              "      <td>394</td>\n",
              "      <td>-45</td>\n",
              "      <td>8</td>\n",
              "      <td>5445.46</td>\n",
              "      <td>3</td>\n",
              "      <td>4</td>\n",
              "      <td>4</td>\n",
              "      <td>344</td>\n",
              "      <td>11</td>\n",
              "      <td>Platinum</td>\n",
              "      <td>Roanne</td>\n",
              "      <td>Cowthard</td>\n",
              "      <td>Female</td>\n",
              "      <td>70</td>\n",
              "      <td>1977-06-06</td>\n",
              "      <td>Legal Assistant</td>\n",
              "      <td>Health</td>\n",
              "      <td>High Net Worth</td>\n",
              "      <td>N</td>\n",
              "      <td>Yes</td>\n",
              "      <td>16.0</td>\n",
              "      <td>7343 Washington Road</td>\n",
              "      <td>2287.0</td>\n",
              "      <td>NSW</td>\n",
              "      <td>Australia</td>\n",
              "      <td>5.0</td>\n",
              "    </tr>\n",
              "  </tbody>\n",
              "</table>\n",
              "<p>100 rows × 26 columns</p>\n",
              "</div>"
            ],
            "text/plain": [
              "    customer_id  Recency  Frequency  ...  state    country  property_valuation\n",
              "0          1043     -130         10  ...    QLD  Australia                 7.0\n",
              "1          3212      -99          8  ...    NSW  Australia                12.0\n",
              "2           473     -115          9  ...    VIC  Australia                 9.0\n",
              "3          2894      -86          9  ...    QLD  Australia                 4.0\n",
              "4           168     -136          9  ...    VIC  Australia                 6.0\n",
              "..          ...      ...        ...  ...    ...        ...                 ...\n",
              "95           48      -82          8  ...    VIC  Australia                 9.0\n",
              "96         2615      -55          9  ...    NSW  Australia                 7.0\n",
              "97          294     -115          7  ...    VIC  Australia                 7.0\n",
              "98         3406      -46         10  ...    NSW  Australia                 9.0\n",
              "99          394      -45          8  ...    NSW  Australia                 5.0\n",
              "\n",
              "[100 rows x 26 columns]"
            ]
          },
          "metadata": {
            "tags": []
          },
          "execution_count": 178
        }
      ]
    },
    {
      "cell_type": "markdown",
      "metadata": {
        "id": "RhtonMuVJmQq",
        "colab_type": "text"
      },
      "source": [
        "# Merge with transaction data "
      ]
    },
    {
      "cell_type": "code",
      "metadata": {
        "id": "ZJAX1zMTJlT6",
        "colab_type": "code",
        "colab": {
          "base_uri": "https://localhost:8080/",
          "height": 696
        },
        "outputId": "70e6b353-f175-4169-eb99-a462f9780815"
      },
      "source": [
        "cus_info=pd.merge(cus_info, cus_transaction, on=\"customer_id\")\n",
        "cus_info"
      ],
      "execution_count": 179,
      "outputs": [
        {
          "output_type": "execute_result",
          "data": {
            "text/html": [
              "<div>\n",
              "<style scoped>\n",
              "    .dataframe tbody tr th:only-of-type {\n",
              "        vertical-align: middle;\n",
              "    }\n",
              "\n",
              "    .dataframe tbody tr th {\n",
              "        vertical-align: top;\n",
              "    }\n",
              "\n",
              "    .dataframe thead th {\n",
              "        text-align: right;\n",
              "    }\n",
              "</style>\n",
              "<table border=\"1\" class=\"dataframe\">\n",
              "  <thead>\n",
              "    <tr style=\"text-align: right;\">\n",
              "      <th></th>\n",
              "      <th>customer_id</th>\n",
              "      <th>Recency</th>\n",
              "      <th>Frequency</th>\n",
              "      <th>Monetary</th>\n",
              "      <th>R</th>\n",
              "      <th>F</th>\n",
              "      <th>M</th>\n",
              "      <th>RFMGroup</th>\n",
              "      <th>RFMScore</th>\n",
              "      <th>loyal_level</th>\n",
              "      <th>first_name</th>\n",
              "      <th>last_name</th>\n",
              "      <th>gender</th>\n",
              "      <th>past_3_years_bike_related_purchases</th>\n",
              "      <th>DOB</th>\n",
              "      <th>job_title</th>\n",
              "      <th>job_industry_category</th>\n",
              "      <th>wealth_segment</th>\n",
              "      <th>deceased_indicator</th>\n",
              "      <th>owns_car</th>\n",
              "      <th>tenure</th>\n",
              "      <th>address</th>\n",
              "      <th>postcode</th>\n",
              "      <th>state</th>\n",
              "      <th>country</th>\n",
              "      <th>property_valuation</th>\n",
              "      <th>transaction_id</th>\n",
              "      <th>product_id</th>\n",
              "      <th>transaction_date</th>\n",
              "      <th>online_order</th>\n",
              "      <th>order_status</th>\n",
              "      <th>brand</th>\n",
              "      <th>product_line</th>\n",
              "      <th>product_class</th>\n",
              "      <th>product_size</th>\n",
              "      <th>list_price</th>\n",
              "      <th>standard_cost</th>\n",
              "      <th>product_first_sold_date</th>\n",
              "      <th>Profits</th>\n",
              "    </tr>\n",
              "  </thead>\n",
              "  <tbody>\n",
              "    <tr>\n",
              "      <th>0</th>\n",
              "      <td>1043</td>\n",
              "      <td>-130</td>\n",
              "      <td>10</td>\n",
              "      <td>10252.74</td>\n",
              "      <td>4</td>\n",
              "      <td>4</td>\n",
              "      <td>4</td>\n",
              "      <td>444</td>\n",
              "      <td>12</td>\n",
              "      <td>Platinum</td>\n",
              "      <td>Giorgi</td>\n",
              "      <td>Hurford</td>\n",
              "      <td>Male</td>\n",
              "      <td>34</td>\n",
              "      <td>1986-10-20</td>\n",
              "      <td>Sales Associate</td>\n",
              "      <td>Financial Services</td>\n",
              "      <td>Mass Customer</td>\n",
              "      <td>N</td>\n",
              "      <td>Yes</td>\n",
              "      <td>16.0</td>\n",
              "      <td>91 Spohn Plaza</td>\n",
              "      <td>4573.0</td>\n",
              "      <td>QLD</td>\n",
              "      <td>Australia</td>\n",
              "      <td>7.0</td>\n",
              "      <td>13078</td>\n",
              "      <td>68</td>\n",
              "      <td>2017-03-01</td>\n",
              "      <td>0.0</td>\n",
              "      <td>Approved</td>\n",
              "      <td>OHM Cycles</td>\n",
              "      <td>Standard</td>\n",
              "      <td>medium</td>\n",
              "      <td>medium</td>\n",
              "      <td>1636.90</td>\n",
              "      <td>44.71</td>\n",
              "      <td>34996.0</td>\n",
              "      <td>1592.19</td>\n",
              "    </tr>\n",
              "    <tr>\n",
              "      <th>1</th>\n",
              "      <td>1043</td>\n",
              "      <td>-130</td>\n",
              "      <td>10</td>\n",
              "      <td>10252.74</td>\n",
              "      <td>4</td>\n",
              "      <td>4</td>\n",
              "      <td>4</td>\n",
              "      <td>444</td>\n",
              "      <td>12</td>\n",
              "      <td>Platinum</td>\n",
              "      <td>Giorgi</td>\n",
              "      <td>Hurford</td>\n",
              "      <td>Male</td>\n",
              "      <td>34</td>\n",
              "      <td>1986-10-20</td>\n",
              "      <td>Sales Associate</td>\n",
              "      <td>Financial Services</td>\n",
              "      <td>Mass Customer</td>\n",
              "      <td>N</td>\n",
              "      <td>Yes</td>\n",
              "      <td>16.0</td>\n",
              "      <td>91 Spohn Plaza</td>\n",
              "      <td>4573.0</td>\n",
              "      <td>QLD</td>\n",
              "      <td>Australia</td>\n",
              "      <td>7.0</td>\n",
              "      <td>3804</td>\n",
              "      <td>79</td>\n",
              "      <td>2017-03-20</td>\n",
              "      <td>0.0</td>\n",
              "      <td>Approved</td>\n",
              "      <td>Norco Bicycles</td>\n",
              "      <td>Standard</td>\n",
              "      <td>medium</td>\n",
              "      <td>medium</td>\n",
              "      <td>1555.58</td>\n",
              "      <td>818.01</td>\n",
              "      <td>33429.0</td>\n",
              "      <td>737.57</td>\n",
              "    </tr>\n",
              "    <tr>\n",
              "      <th>2</th>\n",
              "      <td>1043</td>\n",
              "      <td>-130</td>\n",
              "      <td>10</td>\n",
              "      <td>10252.74</td>\n",
              "      <td>4</td>\n",
              "      <td>4</td>\n",
              "      <td>4</td>\n",
              "      <td>444</td>\n",
              "      <td>12</td>\n",
              "      <td>Platinum</td>\n",
              "      <td>Giorgi</td>\n",
              "      <td>Hurford</td>\n",
              "      <td>Male</td>\n",
              "      <td>34</td>\n",
              "      <td>1986-10-20</td>\n",
              "      <td>Sales Associate</td>\n",
              "      <td>Financial Services</td>\n",
              "      <td>Mass Customer</td>\n",
              "      <td>N</td>\n",
              "      <td>Yes</td>\n",
              "      <td>16.0</td>\n",
              "      <td>91 Spohn Plaza</td>\n",
              "      <td>4573.0</td>\n",
              "      <td>QLD</td>\n",
              "      <td>Australia</td>\n",
              "      <td>7.0</td>\n",
              "      <td>10137</td>\n",
              "      <td>65</td>\n",
              "      <td>2017-04-27</td>\n",
              "      <td>0.0</td>\n",
              "      <td>Approved</td>\n",
              "      <td>WeareA2B</td>\n",
              "      <td>Standard</td>\n",
              "      <td>medium</td>\n",
              "      <td>medium</td>\n",
              "      <td>1807.45</td>\n",
              "      <td>778.69</td>\n",
              "      <td>42105.0</td>\n",
              "      <td>1028.76</td>\n",
              "    </tr>\n",
              "    <tr>\n",
              "      <th>3</th>\n",
              "      <td>1043</td>\n",
              "      <td>-130</td>\n",
              "      <td>10</td>\n",
              "      <td>10252.74</td>\n",
              "      <td>4</td>\n",
              "      <td>4</td>\n",
              "      <td>4</td>\n",
              "      <td>444</td>\n",
              "      <td>12</td>\n",
              "      <td>Platinum</td>\n",
              "      <td>Giorgi</td>\n",
              "      <td>Hurford</td>\n",
              "      <td>Male</td>\n",
              "      <td>34</td>\n",
              "      <td>1986-10-20</td>\n",
              "      <td>Sales Associate</td>\n",
              "      <td>Financial Services</td>\n",
              "      <td>Mass Customer</td>\n",
              "      <td>N</td>\n",
              "      <td>Yes</td>\n",
              "      <td>16.0</td>\n",
              "      <td>91 Spohn Plaza</td>\n",
              "      <td>4573.0</td>\n",
              "      <td>QLD</td>\n",
              "      <td>Australia</td>\n",
              "      <td>7.0</td>\n",
              "      <td>10014</td>\n",
              "      <td>63</td>\n",
              "      <td>2017-05-01</td>\n",
              "      <td>1.0</td>\n",
              "      <td>Approved</td>\n",
              "      <td>Solex</td>\n",
              "      <td>Standard</td>\n",
              "      <td>medium</td>\n",
              "      <td>medium</td>\n",
              "      <td>1483.20</td>\n",
              "      <td>99.59</td>\n",
              "      <td>40487.0</td>\n",
              "      <td>1383.61</td>\n",
              "    </tr>\n",
              "    <tr>\n",
              "      <th>4</th>\n",
              "      <td>1043</td>\n",
              "      <td>-130</td>\n",
              "      <td>10</td>\n",
              "      <td>10252.74</td>\n",
              "      <td>4</td>\n",
              "      <td>4</td>\n",
              "      <td>4</td>\n",
              "      <td>444</td>\n",
              "      <td>12</td>\n",
              "      <td>Platinum</td>\n",
              "      <td>Giorgi</td>\n",
              "      <td>Hurford</td>\n",
              "      <td>Male</td>\n",
              "      <td>34</td>\n",
              "      <td>1986-10-20</td>\n",
              "      <td>Sales Associate</td>\n",
              "      <td>Financial Services</td>\n",
              "      <td>Mass Customer</td>\n",
              "      <td>N</td>\n",
              "      <td>Yes</td>\n",
              "      <td>16.0</td>\n",
              "      <td>91 Spohn Plaza</td>\n",
              "      <td>4573.0</td>\n",
              "      <td>QLD</td>\n",
              "      <td>Australia</td>\n",
              "      <td>7.0</td>\n",
              "      <td>19177</td>\n",
              "      <td>0</td>\n",
              "      <td>2017-06-06</td>\n",
              "      <td>0.0</td>\n",
              "      <td>Approved</td>\n",
              "      <td>NaN</td>\n",
              "      <td>NaN</td>\n",
              "      <td>NaN</td>\n",
              "      <td>NaN</td>\n",
              "      <td>2086.07</td>\n",
              "      <td>NaN</td>\n",
              "      <td>NaN</td>\n",
              "      <td>2086.07</td>\n",
              "    </tr>\n",
              "    <tr>\n",
              "      <th>...</th>\n",
              "      <td>...</td>\n",
              "      <td>...</td>\n",
              "      <td>...</td>\n",
              "      <td>...</td>\n",
              "      <td>...</td>\n",
              "      <td>...</td>\n",
              "      <td>...</td>\n",
              "      <td>...</td>\n",
              "      <td>...</td>\n",
              "      <td>...</td>\n",
              "      <td>...</td>\n",
              "      <td>...</td>\n",
              "      <td>...</td>\n",
              "      <td>...</td>\n",
              "      <td>...</td>\n",
              "      <td>...</td>\n",
              "      <td>...</td>\n",
              "      <td>...</td>\n",
              "      <td>...</td>\n",
              "      <td>...</td>\n",
              "      <td>...</td>\n",
              "      <td>...</td>\n",
              "      <td>...</td>\n",
              "      <td>...</td>\n",
              "      <td>...</td>\n",
              "      <td>...</td>\n",
              "      <td>...</td>\n",
              "      <td>...</td>\n",
              "      <td>...</td>\n",
              "      <td>...</td>\n",
              "      <td>...</td>\n",
              "      <td>...</td>\n",
              "      <td>...</td>\n",
              "      <td>...</td>\n",
              "      <td>...</td>\n",
              "      <td>...</td>\n",
              "      <td>...</td>\n",
              "      <td>...</td>\n",
              "      <td>...</td>\n",
              "    </tr>\n",
              "    <tr>\n",
              "      <th>883</th>\n",
              "      <td>394</td>\n",
              "      <td>-45</td>\n",
              "      <td>8</td>\n",
              "      <td>5445.46</td>\n",
              "      <td>3</td>\n",
              "      <td>4</td>\n",
              "      <td>4</td>\n",
              "      <td>344</td>\n",
              "      <td>11</td>\n",
              "      <td>Platinum</td>\n",
              "      <td>Roanne</td>\n",
              "      <td>Cowthard</td>\n",
              "      <td>Female</td>\n",
              "      <td>70</td>\n",
              "      <td>1977-06-06</td>\n",
              "      <td>Legal Assistant</td>\n",
              "      <td>Health</td>\n",
              "      <td>High Net Worth</td>\n",
              "      <td>N</td>\n",
              "      <td>Yes</td>\n",
              "      <td>16.0</td>\n",
              "      <td>7343 Washington Road</td>\n",
              "      <td>2287.0</td>\n",
              "      <td>NSW</td>\n",
              "      <td>Australia</td>\n",
              "      <td>5.0</td>\n",
              "      <td>18546</td>\n",
              "      <td>0</td>\n",
              "      <td>2017-05-08</td>\n",
              "      <td>1.0</td>\n",
              "      <td>Approved</td>\n",
              "      <td>Trek Bicycles</td>\n",
              "      <td>Road</td>\n",
              "      <td>medium</td>\n",
              "      <td>medium</td>\n",
              "      <td>290.62</td>\n",
              "      <td>215.14</td>\n",
              "      <td>35667.0</td>\n",
              "      <td>75.48</td>\n",
              "    </tr>\n",
              "    <tr>\n",
              "      <th>884</th>\n",
              "      <td>394</td>\n",
              "      <td>-45</td>\n",
              "      <td>8</td>\n",
              "      <td>5445.46</td>\n",
              "      <td>3</td>\n",
              "      <td>4</td>\n",
              "      <td>4</td>\n",
              "      <td>344</td>\n",
              "      <td>11</td>\n",
              "      <td>Platinum</td>\n",
              "      <td>Roanne</td>\n",
              "      <td>Cowthard</td>\n",
              "      <td>Female</td>\n",
              "      <td>70</td>\n",
              "      <td>1977-06-06</td>\n",
              "      <td>Legal Assistant</td>\n",
              "      <td>Health</td>\n",
              "      <td>High Net Worth</td>\n",
              "      <td>N</td>\n",
              "      <td>Yes</td>\n",
              "      <td>16.0</td>\n",
              "      <td>7343 Washington Road</td>\n",
              "      <td>2287.0</td>\n",
              "      <td>NSW</td>\n",
              "      <td>Australia</td>\n",
              "      <td>5.0</td>\n",
              "      <td>17920</td>\n",
              "      <td>72</td>\n",
              "      <td>2017-06-14</td>\n",
              "      <td>0.0</td>\n",
              "      <td>Approved</td>\n",
              "      <td>OHM Cycles</td>\n",
              "      <td>Standard</td>\n",
              "      <td>medium</td>\n",
              "      <td>medium</td>\n",
              "      <td>912.52</td>\n",
              "      <td>141.40</td>\n",
              "      <td>34170.0</td>\n",
              "      <td>771.12</td>\n",
              "    </tr>\n",
              "    <tr>\n",
              "      <th>885</th>\n",
              "      <td>394</td>\n",
              "      <td>-45</td>\n",
              "      <td>8</td>\n",
              "      <td>5445.46</td>\n",
              "      <td>3</td>\n",
              "      <td>4</td>\n",
              "      <td>4</td>\n",
              "      <td>344</td>\n",
              "      <td>11</td>\n",
              "      <td>Platinum</td>\n",
              "      <td>Roanne</td>\n",
              "      <td>Cowthard</td>\n",
              "      <td>Female</td>\n",
              "      <td>70</td>\n",
              "      <td>1977-06-06</td>\n",
              "      <td>Legal Assistant</td>\n",
              "      <td>Health</td>\n",
              "      <td>High Net Worth</td>\n",
              "      <td>N</td>\n",
              "      <td>Yes</td>\n",
              "      <td>16.0</td>\n",
              "      <td>7343 Washington Road</td>\n",
              "      <td>2287.0</td>\n",
              "      <td>NSW</td>\n",
              "      <td>Australia</td>\n",
              "      <td>5.0</td>\n",
              "      <td>4564</td>\n",
              "      <td>29</td>\n",
              "      <td>2017-08-21</td>\n",
              "      <td>0.0</td>\n",
              "      <td>Approved</td>\n",
              "      <td>WeareA2B</td>\n",
              "      <td>Standard</td>\n",
              "      <td>medium</td>\n",
              "      <td>medium</td>\n",
              "      <td>1065.03</td>\n",
              "      <td>230.09</td>\n",
              "      <td>38002.0</td>\n",
              "      <td>834.94</td>\n",
              "    </tr>\n",
              "    <tr>\n",
              "      <th>886</th>\n",
              "      <td>394</td>\n",
              "      <td>-45</td>\n",
              "      <td>8</td>\n",
              "      <td>5445.46</td>\n",
              "      <td>3</td>\n",
              "      <td>4</td>\n",
              "      <td>4</td>\n",
              "      <td>344</td>\n",
              "      <td>11</td>\n",
              "      <td>Platinum</td>\n",
              "      <td>Roanne</td>\n",
              "      <td>Cowthard</td>\n",
              "      <td>Female</td>\n",
              "      <td>70</td>\n",
              "      <td>1977-06-06</td>\n",
              "      <td>Legal Assistant</td>\n",
              "      <td>Health</td>\n",
              "      <td>High Net Worth</td>\n",
              "      <td>N</td>\n",
              "      <td>Yes</td>\n",
              "      <td>16.0</td>\n",
              "      <td>7343 Washington Road</td>\n",
              "      <td>2287.0</td>\n",
              "      <td>NSW</td>\n",
              "      <td>Australia</td>\n",
              "      <td>5.0</td>\n",
              "      <td>13396</td>\n",
              "      <td>35</td>\n",
              "      <td>2017-09-14</td>\n",
              "      <td>1.0</td>\n",
              "      <td>Approved</td>\n",
              "      <td>Giant Bicycles</td>\n",
              "      <td>Standard</td>\n",
              "      <td>medium</td>\n",
              "      <td>medium</td>\n",
              "      <td>1403.50</td>\n",
              "      <td>954.82</td>\n",
              "      <td>33549.0</td>\n",
              "      <td>448.68</td>\n",
              "    </tr>\n",
              "    <tr>\n",
              "      <th>887</th>\n",
              "      <td>394</td>\n",
              "      <td>-45</td>\n",
              "      <td>8</td>\n",
              "      <td>5445.46</td>\n",
              "      <td>3</td>\n",
              "      <td>4</td>\n",
              "      <td>4</td>\n",
              "      <td>344</td>\n",
              "      <td>11</td>\n",
              "      <td>Platinum</td>\n",
              "      <td>Roanne</td>\n",
              "      <td>Cowthard</td>\n",
              "      <td>Female</td>\n",
              "      <td>70</td>\n",
              "      <td>1977-06-06</td>\n",
              "      <td>Legal Assistant</td>\n",
              "      <td>Health</td>\n",
              "      <td>High Net Worth</td>\n",
              "      <td>N</td>\n",
              "      <td>Yes</td>\n",
              "      <td>16.0</td>\n",
              "      <td>7343 Washington Road</td>\n",
              "      <td>2287.0</td>\n",
              "      <td>NSW</td>\n",
              "      <td>Australia</td>\n",
              "      <td>5.0</td>\n",
              "      <td>15383</td>\n",
              "      <td>4</td>\n",
              "      <td>2017-11-15</td>\n",
              "      <td>0.0</td>\n",
              "      <td>Approved</td>\n",
              "      <td>Solex</td>\n",
              "      <td>Standard</td>\n",
              "      <td>medium</td>\n",
              "      <td>medium</td>\n",
              "      <td>1483.20</td>\n",
              "      <td>99.59</td>\n",
              "      <td>33879.0</td>\n",
              "      <td>1383.61</td>\n",
              "    </tr>\n",
              "  </tbody>\n",
              "</table>\n",
              "<p>888 rows × 39 columns</p>\n",
              "</div>"
            ],
            "text/plain": [
              "     customer_id  Recency  ...  product_first_sold_date  Profits\n",
              "0           1043     -130  ...                  34996.0  1592.19\n",
              "1           1043     -130  ...                  33429.0   737.57\n",
              "2           1043     -130  ...                  42105.0  1028.76\n",
              "3           1043     -130  ...                  40487.0  1383.61\n",
              "4           1043     -130  ...                      NaN  2086.07\n",
              "..           ...      ...  ...                      ...      ...\n",
              "883          394      -45  ...                  35667.0    75.48\n",
              "884          394      -45  ...                  34170.0   771.12\n",
              "885          394      -45  ...                  38002.0   834.94\n",
              "886          394      -45  ...                  33549.0   448.68\n",
              "887          394      -45  ...                  33879.0  1383.61\n",
              "\n",
              "[888 rows x 39 columns]"
            ]
          },
          "metadata": {
            "tags": []
          },
          "execution_count": 179
        }
      ]
    },
    {
      "cell_type": "markdown",
      "metadata": {
        "id": "BEMe0YQSC51P",
        "colab_type": "text"
      },
      "source": [
        "# Exploration Analysis "
      ]
    },
    {
      "cell_type": "markdown",
      "metadata": {
        "id": "KCHImgEzHZJo",
        "colab_type": "text"
      },
      "source": [
        "### explore tenure"
      ]
    },
    {
      "cell_type": "code",
      "metadata": {
        "id": "9XNcB2l8C5KY",
        "colab_type": "code",
        "colab": {
          "base_uri": "https://localhost:8080/",
          "height": 288
        },
        "outputId": "9a2934b9-f2ed-413b-f039-6942dad3dae7"
      },
      "source": [
        "tenure1=cus_info.groupby(cus_info[\"tenure\"])[\"Profits\"].mean()\n",
        "tenure1=tenure1.reset_index()\n",
        "plt.scatter(x=\"tenure\",y=\"Profits\",data=tenure1)\n"
      ],
      "execution_count": 260,
      "outputs": [
        {
          "output_type": "execute_result",
          "data": {
            "text/plain": [
              "<matplotlib.collections.PathCollection at 0x7fd7bca42668>"
            ]
          },
          "metadata": {
            "tags": []
          },
          "execution_count": 260
        },
        {
          "output_type": "display_data",
          "data": {
            "image/png": "[encoded data removed]",
            "text/plain": [
              "<Figure size 432x288 with 1 Axes>"
            ]
          },
          "metadata": {
            "tags": []
          }
        }
      ]
    },
    {
      "cell_type": "markdown",
      "metadata": {
        "id": "X86gnxCzHcum",
        "colab_type": "text"
      },
      "source": [
        "## explore gender"
      ]
    },
    {
      "cell_type": "code",
      "metadata": {
        "id": "6xYbMfw-Hg14",
        "colab_type": "code",
        "colab": {
          "base_uri": "https://localhost:8080/",
          "height": 302
        },
        "outputId": "313295d8-09bc-44bc-ebe1-357c2e0cab6f"
      },
      "source": [
        "gender1=cus_info.groupby(cus_info[\"gender\"])[\"Profits\"].mean()\n",
        "gender1=gender1.reset_index()\n",
        "gender1\n",
        "sns.barplot(x=\"gender\",y=\"Profits\",data=gender1)\n"
      ],
      "execution_count": 257,
      "outputs": [
        {
          "output_type": "execute_result",
          "data": {
            "text/plain": [
              "<matplotlib.axes._subplots.AxesSubplot at 0x7fd7bc9f4908>"
            ]
          },
          "metadata": {
            "tags": []
          },
          "execution_count": 257
        },
        {
          "output_type": "display_data",
          "data": {
            "image/png": "[encoded data removed]",
            "text/plain": [
              "<Figure size 432x288 with 1 Axes>"
            ]
          },
          "metadata": {
            "tags": []
          }
        }
      ]
    },
    {
      "cell_type": "code",
      "metadata": {
        "id": "reZzOZtDJwTN",
        "colab_type": "code",
        "colab": {
          "base_uri": "https://localhost:8080/",
          "height": 285
        },
        "outputId": "693bcab7-54a5-4ba2-89fd-78a31fa45d46"
      },
      "source": [
        "owns_car1 =cus_info.groupby(cus_info[\"owns_car\"])[\"Profits\"].mean()\n",
        "owns_car1=owns_car1.reset_index()\n",
        "owns_car1\n",
        "sns.barplot(x=\"owns_car\",y=\"Profits\",data=owns_car1);\n"
      ],
      "execution_count": 286,
      "outputs": [
        {
          "output_type": "display_data",
          "data": {
            "image/png": "[encoded data removed]",
            "text/plain": [
              "<Figure size 432x288 with 1 Axes>"
            ]
          },
          "metadata": {
            "tags": []
          }
        }
      ]
    },
    {
      "cell_type": "markdown",
      "metadata": {
        "id": "Hz_YKPFsUbN1",
        "colab_type": "text"
      },
      "source": [
        "### brand"
      ]
    },
    {
      "cell_type": "code",
      "metadata": {
        "id": "LlipOGKbUpWk",
        "colab_type": "code",
        "colab": {
          "base_uri": "https://localhost:8080/",
          "height": 302
        },
        "outputId": "a857769e-a855-48ea-ee2c-123caedb3400"
      },
      "source": [
        "owns_car1 =cus_info.groupby(cus_info[\"brand\"])[\"Profits\"].mean()\n",
        "owns_car1=owns_car1.reset_index()\n",
        "owns_car1\n",
        "sns.barplot(x=\"Profits\",y=\"brand\",data=owns_car1)"
      ],
      "execution_count": 285,
      "outputs": [
        {
          "output_type": "execute_result",
          "data": {
            "text/plain": [
              "<matplotlib.axes._subplots.AxesSubplot at 0x7fd7bc363278>"
            ]
          },
          "metadata": {
            "tags": []
          },
          "execution_count": 285
        },
        {
          "output_type": "display_data",
          "data": {
            "image/png": "[encoded data removed]",
            "text/plain": [
              "<Figure size 432x288 with 1 Axes>"
            ]
          },
          "metadata": {
            "tags": []
          }
        }
      ]
    },
    {
      "cell_type": "markdown",
      "metadata": {
        "id": "yiif_qCpgEyZ",
        "colab_type": "text"
      },
      "source": [
        "### age "
      ]
    },
    {
      "cell_type": "code",
      "metadata": {
        "id": "ClgcweIPiX8Z",
        "colab_type": "code",
        "colab": {}
      },
      "source": [
        "import datetime\n",
        "def from_dob_to_age(born):\n",
        "    today = datetime.date.today()\n",
        "    return today.year - born.year - ((today.month, today.day) < (born.month, born.day))"
      ],
      "execution_count": 289,
      "outputs": []
    },
    {
      "cell_type": "code",
      "metadata": {
        "id": "zf4Jxr5ig1tW",
        "colab_type": "code",
        "colab": {
          "base_uri": "https://localhost:8080/",
          "height": 86
        },
        "outputId": "2cac20d6-ca81-4a65-c1e2-d5cc1e416df2"
      },
      "source": [
        "\n",
        "cus_info['age'] =cus_info['DOB'].apply(from_dob_to_age)\n",
        "cus_info[\"age\"].unique()"
      ],
      "execution_count": 298,
      "outputs": [
        {
          "output_type": "execute_result",
          "data": {
            "text/plain": [
              "array([ 33.,  39.,  43.,  nan,  23.,  60.,  24.,  47.,  63., 176.,  31.,\n",
              "        66.,  42.,  51.,  57.,  52.,  41.,  30.,  55.,  49.,  20.,  48.,\n",
              "        62.,  44.,  32.,  53.,  46.,  35.,  40.,  38.,  19.,  22.,  25.,\n",
              "        64.,  58.,  50.,  21.,  28.,  45.,  61.])"
            ]
          },
          "metadata": {
            "tags": []
          },
          "execution_count": 298
        }
      ]
    },
    {
      "cell_type": "code",
      "metadata": {
        "id": "gPMdjuFoj4b7",
        "colab_type": "code",
        "colab": {
          "base_uri": "https://localhost:8080/",
          "height": 302
        },
        "outputId": "15e61747-c17d-43e6-c121-ff68cf86b829"
      },
      "source": [
        "tenure1=cus_info.groupby(cus_info[\"age\"])[\"list_price\"].mean()\n",
        "tenure1=tenure1.reset_index()\n",
        "plt.scatter(x=\"age\",y=\"list_price\",data=tenure1);\n",
        "plt.xlim([0,80])\n",
        "plt.xlabel(\"age\")\n",
        "plt.ylabel(\"list_price\")"
      ],
      "execution_count": 304,
      "outputs": [
        {
          "output_type": "execute_result",
          "data": {
            "text/plain": [
              "Text(0, 0.5, 'list_price')"
            ]
          },
          "metadata": {
            "tags": []
          },
          "execution_count": 304
        },
        {
          "output_type": "display_data",
          "data": {
            "image/png": "[encoded data removed]",
            "text/plain": [
              "<Figure size 432x288 with 1 Axes>"
            ]
          },
          "metadata": {
            "tags": []
          }
        }
      ]
    },
    {
      "cell_type": "markdown",
      "metadata": {
        "id": "nBfSNg0PoUlH",
        "colab_type": "text"
      },
      "source": [
        "#online order "
      ]
    },
    {
      "cell_type": "code",
      "metadata": {
        "id": "Wa6Tnsr-oUDe",
        "colab_type": "code",
        "colab": {
          "base_uri": "https://localhost:8080/",
          "height": 285
        },
        "outputId": "cfb160e2-bb04-4641-e13f-632168da1045"
      },
      "source": [
        "tenure1=cus_info.groupby(cus_info[\"online_order\"])[\"Profits\"].sum()\n",
        "tenure1=tenure1.reset_index()\n",
        "sns.barplot(x=\"online_order\",y=\"Profits\",data=tenure1);"
      ],
      "execution_count": 312,
      "outputs": [
        {
          "output_type": "display_data",
          "data": {
            "image/png": "[encoded data removed]",
            "text/plain": [
              "<Figure size 432x288 with 1 Axes>"
            ]
          },
          "metadata": {
            "tags": []
          }
        }
      ]
    },
    {
      "cell_type": "markdown",
      "metadata": {
        "id": "uXAMq6wwLJEp",
        "colab_type": "text"
      },
      "source": [
        "# Exploration Analysis of 3 wealth segment \n",
        "\n",
        "\n"
      ]
    },
    {
      "cell_type": "markdown",
      "metadata": {
        "id": "UYRXMKnWJ_6f",
        "colab_type": "text"
      },
      "source": [
        "## Analyse type of customers "
      ]
    },
    {
      "cell_type": "code",
      "metadata": {
        "id": "_ZW9EzFcKHMS",
        "colab_type": "code",
        "colab": {
          "base_uri": "https://localhost:8080/",
          "height": 302
        },
        "outputId": "ebb9bf34-1ba1-4e33-b461-3c38f1238ee0"
      },
      "source": [
        "\n",
        "wealth=cus_info.groupby(\"wealth_segment\")[\"Profits\"].sum()\n",
        "wealth=wealth.reset_index().sort_values(by=\"Profits\",ascending=False)\n",
        "# get color \n",
        "base_color=sns.color_palette()[1]\n",
        "# draw chart\n",
        "sns.barplot(x=\"Profits\",y=\"wealth_segment\",data=wealth,color=base_color)"
      ],
      "execution_count": 180,
      "outputs": [
        {
          "output_type": "execute_result",
          "data": {
            "text/plain": [
              "<matplotlib.axes._subplots.AxesSubplot at 0x7fd7ce42a080>"
            ]
          },
          "metadata": {
            "tags": []
          },
          "execution_count": 180
        },
        {
          "output_type": "display_data",
          "data": {
            "image/png": "[encoded data removed]",
            "text/plain": [
              "<Figure size 432x288 with 1 Axes>"
            ]
          },
          "metadata": {
            "tags": []
          }
        }
      ]
    },
    {
      "cell_type": "markdown",
      "metadata": {
        "id": "PO5JAK7yNmDS",
        "colab_type": "text"
      },
      "source": [
        "## Mass customers\n"
      ]
    },
    {
      "cell_type": "markdown",
      "metadata": {
        "id": "kbVa4enJiYMz",
        "colab_type": "text"
      },
      "source": [
        "### Job industry in Mass customers"
      ]
    },
    {
      "cell_type": "code",
      "metadata": {
        "id": "ISYwLcTOjuUM",
        "colab_type": "code",
        "colab": {
          "base_uri": "https://localhost:8080/",
          "height": 302
        },
        "outputId": "507660c8-abed-4e45-8fd3-124f97e176df"
      },
      "source": [
        "# group by job industry and affluent customers\n",
        "mass=cus_info[cus_info[\"wealth_segment\"]==\"Mass Customer\"]\n",
        "mass=mass.groupby(\"job_industry_category\")[\"Profits\"].sum()\n",
        "mass=mass.reset_index(name=\"profit\").sort_values(by=\"profit\",ascending=False)\n",
        "# get color \n",
        "base_color=sns.color_palette()[1]\n",
        "# draw chart\n",
        "sns.barplot(x=\"profit\",y=\"job_industry_category\",data=mass,color=base_color)"
      ],
      "execution_count": 181,
      "outputs": [
        {
          "output_type": "execute_result",
          "data": {
            "text/plain": [
              "<matplotlib.axes._subplots.AxesSubplot at 0x7fd7cd8fcf28>"
            ]
          },
          "metadata": {
            "tags": []
          },
          "execution_count": 181
        },
        {
          "output_type": "display_data",
          "data": {
            "image/png": "[encoded data removed]",
            "text/plain": [
              "<Figure size 432x288 with 1 Axes>"
            ]
          },
          "metadata": {
            "tags": []
          }
        }
      ]
    },
    {
      "cell_type": "markdown",
      "metadata": {
        "id": "F1t-MP9Nvl2M",
        "colab_type": "text"
      },
      "source": [
        "### Job title Affluent customers "
      ]
    },
    {
      "cell_type": "code",
      "metadata": {
        "id": "SDD4UKfqkNw3",
        "colab_type": "code",
        "colab": {
          "base_uri": "https://localhost:8080/",
          "height": 628
        },
        "outputId": "7425e4ff-b09a-48c8-9b75-0deaef0ed75d"
      },
      "source": [
        "\n",
        "mass=cus_info[cus_info[\"wealth_segment\"]==\"Mass Customer\"]\n",
        "mass=mass.groupby(\"job_title\")[\"Profits\"].sum()\n",
        "mass=mass.reset_index(name=\"profit\").sort_values(by=\"profit\",ascending=False)\n",
        "# get color \n",
        "base_color=sns.color_palette()[1]\n",
        "# draw chart\n",
        "plt.figure(figsize=(10,10))\n",
        "sns.barplot(x=\"profit\",y=\"job_title\",data=mass,color=base_color)\n"
      ],
      "execution_count": 182,
      "outputs": [
        {
          "output_type": "execute_result",
          "data": {
            "text/plain": [
              "<matplotlib.axes._subplots.AxesSubplot at 0x7fd7ce191080>"
            ]
          },
          "metadata": {
            "tags": []
          },
          "execution_count": 182
        },
        {
          "output_type": "display_data",
          "data": {
            "image/png": "[encoded data removed]",
            "text/plain": [
              "<Figure size 720x720 with 1 Axes>"
            ]
          },
          "metadata": {
            "tags": []
          }
        }
      ]
    },
    {
      "cell_type": "markdown",
      "metadata": {
        "id": "KVY3w7Zliq4r",
        "colab_type": "text"
      },
      "source": [
        "### State of mass customers"
      ]
    },
    {
      "cell_type": "code",
      "metadata": {
        "id": "0AjBzxT9kzLw",
        "colab_type": "code",
        "colab": {
          "base_uri": "https://localhost:8080/",
          "height": 302
        },
        "outputId": "5302130b-0c8f-4204-e9a3-d5d2572eb2ae"
      },
      "source": [
        "\n",
        "mass=cus_info[cus_info[\"wealth_segment\"]==\"Mass Customer\"]\n",
        "mass=mass.groupby(\"state\")[\"Profits\"].sum()\n",
        "mass=mass.reset_index(name=\"profit\").sort_values(by=\"profit\",ascending=False)\n",
        "# get color \n",
        "base_color=sns.color_palette()[1]\n",
        "# draw chart\n",
        "sns.barplot(x=\"profit\",y=\"state\",data=mass,color=base_color)"
      ],
      "execution_count": 183,
      "outputs": [
        {
          "output_type": "execute_result",
          "data": {
            "text/plain": [
              "<matplotlib.axes._subplots.AxesSubplot at 0x7fd7c0dc1358>"
            ]
          },
          "metadata": {
            "tags": []
          },
          "execution_count": 183
        },
        {
          "output_type": "display_data",
          "data": {
            "image/png": "[encoded data removed]",
            "text/plain": [
              "<Figure size 432x288 with 1 Axes>"
            ]
          },
          "metadata": {
            "tags": []
          }
        }
      ]
    },
    {
      "cell_type": "markdown",
      "metadata": {
        "id": "XYg88qE7i0Ty",
        "colab_type": "text"
      },
      "source": [
        "### Brand of Mass customers  "
      ]
    },
    {
      "cell_type": "code",
      "metadata": {
        "id": "ZjkSObWImpgV",
        "colab_type": "code",
        "colab": {
          "base_uri": "https://localhost:8080/",
          "height": 302
        },
        "outputId": "8316e124-856d-40d7-8369-aaed5e5366a0"
      },
      "source": [
        "mass=cus_info[cus_info[\"wealth_segment\"]==\"Mass Customer\"]\n",
        "mass=mass.groupby(\"brand\")[\"Profits\"].sum()\n",
        "mass=mass.reset_index(name=\"profit\").sort_values(by=\"profit\",ascending=False)\n",
        "# get color \n",
        "base_color=sns.color_palette()[1]\n",
        "# draw chart\n",
        "sns.barplot(x=\"profit\",y=\"brand\",data=mass,color=base_color)"
      ],
      "execution_count": 184,
      "outputs": [
        {
          "output_type": "execute_result",
          "data": {
            "text/plain": [
              "<matplotlib.axes._subplots.AxesSubplot at 0x7fd7c1227d68>"
            ]
          },
          "metadata": {
            "tags": []
          },
          "execution_count": 184
        },
        {
          "output_type": "display_data",
          "data": {
            "image/png": "[encoded data removed]",
            "text/plain": [
              "<Figure size 432x288 with 1 Axes>"
            ]
          },
          "metadata": {
            "tags": []
          }
        }
      ]
    },
    {
      "cell_type": "markdown",
      "metadata": {
        "id": "9LyK0fQTi0c5",
        "colab_type": "text"
      },
      "source": [
        "### Product line of Mass customers"
      ]
    },
    {
      "cell_type": "code",
      "metadata": {
        "id": "U2At8RNtm_CO",
        "colab_type": "code",
        "colab": {
          "base_uri": "https://localhost:8080/",
          "height": 302
        },
        "outputId": "422374b0-d08b-4f30-9d7c-f9a467c4fdec"
      },
      "source": [
        "mass=cus_info[cus_info[\"wealth_segment\"]==\"Mass Customer\"]\n",
        "mass=mass.groupby(\"product_line\")[\"Profits\"].sum()\n",
        "mass=mass.reset_index(name=\"profit\").sort_values(by=\"profit\",ascending=False)\n",
        "# get color \n",
        "base_color=sns.color_palette()[1]\n",
        "# draw chart\n",
        "sns.barplot(x=\"profit\",y=\"product_line\",data=mass,color=base_color)"
      ],
      "execution_count": 185,
      "outputs": [
        {
          "output_type": "execute_result",
          "data": {
            "text/plain": [
              "<matplotlib.axes._subplots.AxesSubplot at 0x7fd7c11a2cf8>"
            ]
          },
          "metadata": {
            "tags": []
          },
          "execution_count": 185
        },
        {
          "output_type": "display_data",
          "data": {
            "image/png": "[encoded data removed]",
            "text/plain": [
              "<Figure size 432x288 with 1 Axes>"
            ]
          },
          "metadata": {
            "tags": []
          }
        }
      ]
    },
    {
      "cell_type": "markdown",
      "metadata": {
        "id": "LOa6Tlaui0k9",
        "colab_type": "text"
      },
      "source": [
        "### Product size of Mass customers "
      ]
    },
    {
      "cell_type": "code",
      "metadata": {
        "id": "1m6Y3DWrjZ2o",
        "colab_type": "code",
        "colab": {
          "base_uri": "https://localhost:8080/",
          "height": 302
        },
        "outputId": "42981f96-d88b-48ff-d9a3-9a70b1a73d07"
      },
      "source": [
        "mass=cus_info[cus_info[\"wealth_segment\"]==\"Mass Customer\"]\n",
        "mass=mass.groupby(\"product_size\")[\"Profits\"].sum()\n",
        "mass=mass.reset_index(name=\"profit\").sort_values(by=\"profit\",ascending=False)\n",
        "# get color \n",
        "base_color=sns.color_palette()[1]\n",
        "# draw chart\n",
        "sns.barplot(x=\"profit\",y=\"product_size\",data=mass,color=base_color)"
      ],
      "execution_count": 186,
      "outputs": [
        {
          "output_type": "execute_result",
          "data": {
            "text/plain": [
              "<matplotlib.axes._subplots.AxesSubplot at 0x7fd7c12967f0>"
            ]
          },
          "metadata": {
            "tags": []
          },
          "execution_count": 186
        },
        {
          "output_type": "display_data",
          "data": {
            "image/png": "[encoded data removed]",
            "text/plain": [
              "<Figure size 432x288 with 1 Axes>"
            ]
          },
          "metadata": {
            "tags": []
          }
        }
      ]
    },
    {
      "cell_type": "markdown",
      "metadata": {
        "id": "s8Jahe_5jIby",
        "colab_type": "text"
      },
      "source": [
        "### Product class of Mass customers"
      ]
    },
    {
      "cell_type": "code",
      "metadata": {
        "id": "6nccm0GinUp7",
        "colab_type": "code",
        "colab": {
          "base_uri": "https://localhost:8080/",
          "height": 302
        },
        "outputId": "1245a782-b047-4a35-c35d-3c9725a14e96"
      },
      "source": [
        "mass=cus_info[cus_info[\"wealth_segment\"]==\"Mass Customer\"]\n",
        "mass=mass.groupby(\"product_class\")[\"Profits\"].sum()\n",
        "mass=mass.reset_index(name=\"profit\").sort_values(by=\"profit\",ascending=False)\n",
        "# get color \n",
        "base_color=sns.color_palette()[1]\n",
        "# draw chart\n",
        "sns.barplot(x=\"profit\",y=\"product_class\",data=mass,color=base_color)"
      ],
      "execution_count": 187,
      "outputs": [
        {
          "output_type": "execute_result",
          "data": {
            "text/plain": [
              "<matplotlib.axes._subplots.AxesSubplot at 0x7fd7c0dd3cf8>"
            ]
          },
          "metadata": {
            "tags": []
          },
          "execution_count": 187
        },
        {
          "output_type": "display_data",
          "data": {
            "image/png": "[encoded data removed]",
            "text/plain": [
              "<Figure size 432x288 with 1 Axes>"
            ]
          },
          "metadata": {
            "tags": []
          }
        }
      ]
    },
    {
      "cell_type": "markdown",
      "metadata": {
        "id": "7vwvmOEymY9A",
        "colab_type": "text"
      },
      "source": [
        "### Gender of Mass customers who buy bicycle"
      ]
    },
    {
      "cell_type": "code",
      "metadata": {
        "id": "YpbkhgownfBV",
        "colab_type": "code",
        "colab": {
          "base_uri": "https://localhost:8080/",
          "height": 302
        },
        "outputId": "cb5cc5bd-9b63-433c-a484-6fa6243f1ff8"
      },
      "source": [
        "mass=cus_info[cus_info[\"wealth_segment\"]==\"Mass Customer\"]\n",
        "mass=mass.groupby(\"gender\")[\"Profits\"].sum()\n",
        "mass=mass.reset_index(name=\"profit\").sort_values(by=\"profit\",ascending=False)\n",
        "# get color \n",
        "base_color=sns.color_palette()[1]\n",
        "# draw chart\n",
        "sns.barplot(x=\"profit\",y=\"gender\",data=mass,color=base_color)"
      ],
      "execution_count": 188,
      "outputs": [
        {
          "output_type": "execute_result",
          "data": {
            "text/plain": [
              "<matplotlib.axes._subplots.AxesSubplot at 0x7fd7c2f71828>"
            ]
          },
          "metadata": {
            "tags": []
          },
          "execution_count": 188
        },
        {
          "output_type": "display_data",
          "data": {
            "image/png": "[encoded data removed]",
            "text/plain": [
              "<Figure size 432x288 with 1 Axes>"
            ]
          },
          "metadata": {
            "tags": []
          }
        }
      ]
    },
    {
      "cell_type": "markdown",
      "metadata": {
        "id": "_AhH4n3OjPYS",
        "colab_type": "text"
      },
      "source": [
        "### Own car or not"
      ]
    },
    {
      "cell_type": "code",
      "metadata": {
        "id": "jhL9oTKcntpd",
        "colab_type": "code",
        "colab": {
          "base_uri": "https://localhost:8080/",
          "height": 0
        },
        "outputId": "c05372bf-f490-44df-9ebd-e271ab330677"
      },
      "source": [
        "mass=cus_info[cus_info[\"wealth_segment\"]==\"Mass Customer\"]\n",
        "mass=mass.groupby(\"owns_car\")[\"Profits\"].sum()\n",
        "mass=mass.reset_index(name=\"profit\").sort_values(by=\"profit\",ascending=False)\n",
        "# get color \n",
        "base_color=sns.color_palette()[1]\n",
        "# draw chart\n",
        "sns.barplot(x=\"owns_car\",y=\"profit\",data=mass,color=base_color)"
      ],
      "execution_count": 189,
      "outputs": [
        {
          "output_type": "execute_result",
          "data": {
            "text/plain": [
              "<matplotlib.axes._subplots.AxesSubplot at 0x7fd7c2f26978>"
            ]
          },
          "metadata": {
            "tags": []
          },
          "execution_count": 189
        },
        {
          "output_type": "display_data",
          "data": {
            "image/png": "[encoded data removed]",
            "text/plain": [
              "<Figure size 432x288 with 1 Axes>"
            ]
          },
          "metadata": {
            "tags": []
          }
        }
      ]
    },
    {
      "cell_type": "markdown",
      "metadata": {
        "id": "I32TAGAEjVRv",
        "colab_type": "text"
      },
      "source": [
        "### Online or not"
      ]
    },
    {
      "cell_type": "code",
      "metadata": {
        "id": "b9lWp9x2n8dt",
        "colab_type": "code",
        "colab": {
          "base_uri": "https://localhost:8080/",
          "height": 302
        },
        "outputId": "90cde8c0-2a40-4d3e-8d0b-8c93279f81fc"
      },
      "source": [
        "mass=cus_info[cus_info[\"wealth_segment\"]==\"Mass Customer\"]\n",
        "mass=mass.groupby(\"online_order\")[\"Profits\"].sum()\n",
        "mass=mass.reset_index(name=\"profit\").sort_values(by=\"profit\",ascending=False)\n",
        "# get color \n",
        "base_color=sns.color_palette()[1]\n",
        "# draw chart\n",
        "sns.barplot(x=\"online_order\",y=\"profit\",data=mass,color=base_color)"
      ],
      "execution_count": 190,
      "outputs": [
        {
          "output_type": "execute_result",
          "data": {
            "text/plain": [
              "<matplotlib.axes._subplots.AxesSubplot at 0x7fd7c23fcb70>"
            ]
          },
          "metadata": {
            "tags": []
          },
          "execution_count": 190
        },
        {
          "output_type": "display_data",
          "data": {
            "image/png": "[encoded data removed]",
            "text/plain": [
              "<Figure size 432x288 with 1 Axes>"
            ]
          },
          "metadata": {
            "tags": []
          }
        }
      ]
    },
    {
      "cell_type": "code",
      "metadata": {
        "id": "2HJs75cqmo-Z",
        "colab_type": "code",
        "colab": {}
      },
      "source": [
        ""
      ],
      "execution_count": null,
      "outputs": []
    },
    {
      "cell_type": "markdown",
      "metadata": {
        "id": "QMTKP0cCji8W",
        "colab_type": "text"
      },
      "source": [
        "## Affluent customers "
      ]
    },
    {
      "cell_type": "markdown",
      "metadata": {
        "id": "lhvCwvMjUWLp",
        "colab_type": "text"
      },
      "source": [
        "### Job industry in Affluent customers "
      ]
    },
    {
      "cell_type": "code",
      "metadata": {
        "id": "XxF5v5LCLeDh",
        "colab_type": "code",
        "colab": {
          "base_uri": "https://localhost:8080/",
          "height": 302
        },
        "outputId": "0cf947f7-2a3c-4810-c05c-1c85f05a23bf"
      },
      "source": [
        "# group by job industry and affluent customers\n",
        "affluent=cus_info[cus_info[\"wealth_segment\"]==\"Affluent Customer\"]\n",
        "affluent_industry=affluent.groupby(\"job_industry_category\")[\"Profits\"].sum()\n",
        "affluent_industry=affluent_industry.reset_index(name=\"profit\").sort_values(by=\"profit\",ascending=False)\n",
        "# get color \n",
        "base_color=sns.color_palette()[1]\n",
        "# draw chart\n",
        "sns.barplot(x=\"profit\",y=\"job_industry_category\",data=affluent_industry,color=base_color)"
      ],
      "execution_count": 191,
      "outputs": [
        {
          "output_type": "execute_result",
          "data": {
            "text/plain": [
              "<matplotlib.axes._subplots.AxesSubplot at 0x7fd7c24ac828>"
            ]
          },
          "metadata": {
            "tags": []
          },
          "execution_count": 191
        },
        {
          "output_type": "display_data",
          "data": {
            "image/png": "[encoded data removed]",
            "text/plain": [
              "<Figure size 432x288 with 1 Axes>"
            ]
          },
          "metadata": {
            "tags": []
          }
        }
      ]
    },
    {
      "cell_type": "markdown",
      "metadata": {
        "id": "ENy4uyaYHGEh",
        "colab_type": "text"
      },
      "source": [
        "### job title \n"
      ]
    },
    {
      "cell_type": "code",
      "metadata": {
        "id": "FqysH8UsHGL0",
        "colab_type": "code",
        "colab": {
          "base_uri": "https://localhost:8080/",
          "height": 302
        },
        "outputId": "b8559a15-67db-49d6-af45-c23f39f53010"
      },
      "source": [
        "affluent=cus_info[cus_info[\"wealth_segment\"]==\"Affluent Customer\"]\n",
        "affluent=affluent.groupby(\"job_title\")[\"Profits\"].sum()\n",
        "affluent=affluent.reset_index(name=\"profit\").sort_values(by=\"profit\",ascending=False)\n",
        "# get color \n",
        "base_color=sns.color_palette()[1]\n",
        "# draw chart\n",
        "sns.barplot(x=\"profit\",y=\"job_title\",data=affluent,color=base_color)"
      ],
      "execution_count": 192,
      "outputs": [
        {
          "output_type": "execute_result",
          "data": {
            "text/plain": [
              "<matplotlib.axes._subplots.AxesSubplot at 0x7fd7c2986be0>"
            ]
          },
          "metadata": {
            "tags": []
          },
          "execution_count": 192
        },
        {
          "output_type": "display_data",
          "data": {
            "image/png": "[encoded data removed]",
            "text/plain": [
              "<Figure size 432x288 with 1 Axes>"
            ]
          },
          "metadata": {
            "tags": []
          }
        }
      ]
    },
    {
      "cell_type": "markdown",
      "metadata": {
        "id": "0xMPwPTGvwwk",
        "colab_type": "text"
      },
      "source": [
        "### state of Affluent customers "
      ]
    },
    {
      "cell_type": "code",
      "metadata": {
        "id": "5ssZu3Savuvv",
        "colab_type": "code",
        "colab": {
          "base_uri": "https://localhost:8080/",
          "height": 302
        },
        "outputId": "77009587-5323-4c34-861a-870d0f5acead"
      },
      "source": [
        "state_affluent=cus_info[cus_info[\"wealth_segment\"]==\"Affluent Customer\"]\n",
        "state_affluent=state_affluent.groupby(\"state\")[\"Profits\"].sum()\n",
        "state_affluent=state_affluent.reset_index(name=\"profit\").sort_values(by=\"profit\",ascending=False)\n",
        "# get color \n",
        "base_color=sns.color_palette()[1]\n",
        "# draw chart\n",
        "sns.barplot(x=\"profit\",y=\"state\",data=state_affluent,color=base_color)"
      ],
      "execution_count": 193,
      "outputs": [
        {
          "output_type": "execute_result",
          "data": {
            "text/plain": [
              "<matplotlib.axes._subplots.AxesSubplot at 0x7fd7c2af9a20>"
            ]
          },
          "metadata": {
            "tags": []
          },
          "execution_count": 193
        },
        {
          "output_type": "display_data",
          "data": {
            "image/png": "[encoded data removed]",
            "text/plain": [
              "<Figure size 432x288 with 1 Axes>"
            ]
          },
          "metadata": {
            "tags": []
          }
        }
      ]
    },
    {
      "cell_type": "markdown",
      "metadata": {
        "id": "S9SxbzyJxH5R",
        "colab_type": "text"
      },
      "source": [
        "### Brand of Affluent customers  "
      ]
    },
    {
      "cell_type": "code",
      "metadata": {
        "id": "pLzKtWQux4wv",
        "colab_type": "code",
        "colab": {
          "base_uri": "https://localhost:8080/",
          "height": 302
        },
        "outputId": "72efe4cf-e01c-468f-c2cc-c2a8ebfb5a8f"
      },
      "source": [
        "brand_affluent=cus_info[cus_info[\"wealth_segment\"]==\"Affluent Customer\"]\n",
        "brand_affluent=brand_affluent.groupby(\"brand\")[\"Profits\"].sum()\n",
        "brand_affluent=brand_affluent.reset_index(name=\"profit\").sort_values(by=\"profit\",ascending=False)\n",
        "# get color \n",
        "base_color=sns.color_palette()[1]\n",
        "# draw chart\n",
        "sns.barplot(x=\"profit\",y=\"brand\",data=brand_affluent,color=base_color)"
      ],
      "execution_count": 194,
      "outputs": [
        {
          "output_type": "execute_result",
          "data": {
            "text/plain": [
              "<matplotlib.axes._subplots.AxesSubplot at 0x7fd7c2a1c588>"
            ]
          },
          "metadata": {
            "tags": []
          },
          "execution_count": 194
        },
        {
          "output_type": "display_data",
          "data": {
            "image/png": "[encoded data removed]",
            "text/plain": [
              "<Figure size 432x288 with 1 Axes>"
            ]
          },
          "metadata": {
            "tags": []
          }
        }
      ]
    },
    {
      "cell_type": "markdown",
      "metadata": {
        "id": "aoBh6FvK0UT7",
        "colab_type": "text"
      },
      "source": [
        "### gender of Affluent customers who buy bicycle "
      ]
    },
    {
      "cell_type": "code",
      "metadata": {
        "id": "FMR2tLqV0ie0",
        "colab_type": "code",
        "colab": {
          "base_uri": "https://localhost:8080/",
          "height": 302
        },
        "outputId": "1ac4b528-23f8-4f36-98b7-276888b1ffe1"
      },
      "source": [
        "gender_affluent=cus_info[cus_info[\"wealth_segment\"]==\"Affluent Customer\"]\n",
        "gender_affluent=gender_affluent.groupby(\"gender\")[\"Profits\"].sum()\n",
        "gender_affluent=gender_affluent.reset_index(name=\"profit\").sort_values(by=\"profit\",ascending=False)\n",
        "# get color \n",
        "base_color=sns.color_palette()[1]\n",
        "# draw chart\n",
        "sns.barplot(x=\"profit\",y=\"gender\",data=gender_affluent,color=base_color)"
      ],
      "execution_count": 195,
      "outputs": [
        {
          "output_type": "execute_result",
          "data": {
            "text/plain": [
              "<matplotlib.axes._subplots.AxesSubplot at 0x7fd7c2929470>"
            ]
          },
          "metadata": {
            "tags": []
          },
          "execution_count": 195
        },
        {
          "output_type": "display_data",
          "data": {
            "image/png": "[encoded data removed]",
            "text/plain": [
              "<Figure size 432x288 with 1 Axes>"
            ]
          },
          "metadata": {
            "tags": []
          }
        }
      ]
    },
    {
      "cell_type": "markdown",
      "metadata": {
        "id": "-rNPBprT2RJZ",
        "colab_type": "text"
      },
      "source": [
        "### product line of affluent customers "
      ]
    },
    {
      "cell_type": "code",
      "metadata": {
        "id": "h57Nx8wZ2QnT",
        "colab_type": "code",
        "colab": {
          "base_uri": "https://localhost:8080/",
          "height": 302
        },
        "outputId": "1838380f-0265-46d0-f83b-292d056c5029"
      },
      "source": [
        "product_line_affluent=cus_info[cus_info[\"wealth_segment\"]==\"Affluent Customer\"]\n",
        "product_line_affluent=product_line_affluent.groupby(\"product_line\")[\"Profits\"].sum()\n",
        "product_line_affluent=product_line_affluent.reset_index(name=\"profit\").sort_values(by=\"profit\",ascending=False)\n",
        "# get color \n",
        "base_color=sns.color_palette()[1]\n",
        "# draw chart\n",
        "sns.barplot(x=\"profit\",y=\"product_line\",data=product_line_affluent,color=base_color)"
      ],
      "execution_count": 196,
      "outputs": [
        {
          "output_type": "execute_result",
          "data": {
            "text/plain": [
              "<matplotlib.axes._subplots.AxesSubplot at 0x7fd7c2841438>"
            ]
          },
          "metadata": {
            "tags": []
          },
          "execution_count": 196
        },
        {
          "output_type": "display_data",
          "data": {
            "image/png": "[encoded data removed]",
            "text/plain": [
              "<Figure size 432x288 with 1 Axes>"
            ]
          },
          "metadata": {
            "tags": []
          }
        }
      ]
    },
    {
      "cell_type": "markdown",
      "metadata": {
        "id": "yHBDYGV85_OG",
        "colab_type": "text"
      },
      "source": [
        "### product size of affluent customers "
      ]
    },
    {
      "cell_type": "code",
      "metadata": {
        "id": "08om9h_r5-Gm",
        "colab_type": "code",
        "colab": {
          "base_uri": "https://localhost:8080/",
          "height": 302
        },
        "outputId": "2925b293-f90c-4620-c281-4b05ea8d0129"
      },
      "source": [
        "product_size_affluent=cus_info[cus_info[\"wealth_segment\"]==\"Affluent Customer\"]\n",
        "product_size_affluent=product_size_affluent.groupby(\"product_size\")[\"Profits\"].sum()\n",
        "product_size_affluent=product_size_affluent.reset_index(name=\"profit\").sort_values(by=\"profit\",ascending=False)\n",
        "# get color \n",
        "base_color=sns.color_palette()[1]\n",
        "# draw chart\n",
        "sns.barplot(x=\"profit\",y=\"product_size\",data=product_size_affluent,color=base_color)"
      ],
      "execution_count": 197,
      "outputs": [
        {
          "output_type": "execute_result",
          "data": {
            "text/plain": [
              "<matplotlib.axes._subplots.AxesSubplot at 0x7fd7c274ffd0>"
            ]
          },
          "metadata": {
            "tags": []
          },
          "execution_count": 197
        },
        {
          "output_type": "display_data",
          "data": {
            "image/png": "[encoded data removed]",
            "text/plain": [
              "<Figure size 432x288 with 1 Axes>"
            ]
          },
          "metadata": {
            "tags": []
          }
        }
      ]
    },
    {
      "cell_type": "markdown",
      "metadata": {
        "id": "gHAsDgBv4RAp",
        "colab_type": "text"
      },
      "source": [
        "### product class  of affluent customers "
      ]
    },
    {
      "cell_type": "code",
      "metadata": {
        "id": "PT9XZ2EI4d75",
        "colab_type": "code",
        "colab": {
          "base_uri": "https://localhost:8080/",
          "height": 302
        },
        "outputId": "41b3b994-b780-4413-d93e-6e587adfefa9"
      },
      "source": [
        "product_class_affluent=cus_info[cus_info[\"wealth_segment\"]==\"Affluent Customer\"]\n",
        "product_class_affluent=product_class_affluent.groupby(\"product_class\")[\"Profits\"].sum()\n",
        "product_class_affluent=product_class_affluent.reset_index(name=\"profit\").sort_values(by=\"profit\",ascending=False)\n",
        "# get color \n",
        "base_color=sns.color_palette()[1]\n",
        "# draw chart\n",
        "sns.barplot(x=\"profit\",y=\"product_class\",data=product_class_affluent,color=base_color)"
      ],
      "execution_count": 198,
      "outputs": [
        {
          "output_type": "execute_result",
          "data": {
            "text/plain": [
              "<matplotlib.axes._subplots.AxesSubplot at 0x7fd7c27288d0>"
            ]
          },
          "metadata": {
            "tags": []
          },
          "execution_count": 198
        },
        {
          "output_type": "display_data",
          "data": {
            "image/png": "[encoded data removed]",
            "text/plain": [
              "<Figure size 432x288 with 1 Axes>"
            ]
          },
          "metadata": {
            "tags": []
          }
        }
      ]
    },
    {
      "cell_type": "markdown",
      "metadata": {
        "id": "2pmcWrU07O83",
        "colab_type": "text"
      },
      "source": [
        "### own car or not "
      ]
    },
    {
      "cell_type": "code",
      "metadata": {
        "id": "kmN6RO4E7Q0j",
        "colab_type": "code",
        "colab": {
          "base_uri": "https://localhost:8080/",
          "height": 302
        },
        "outputId": "a26d6541-a2d0-4466-c56b-e161dd600598"
      },
      "source": [
        "affluent=cus_info[cus_info[\"wealth_segment\"]==\"Affluent Customer\"]\n",
        "affluent=affluent.groupby(\"owns_car\")[\"Profits\"].sum()\n",
        "affluent=affluent.reset_index(name=\"profit\").sort_values(by=\"profit\",ascending=False)\n",
        "# get color \n",
        "base_color=sns.color_palette()[1]\n",
        "# draw chart\n",
        "sns.barplot(x=\"profit\",y=\"owns_car\",data=affluent,color=base_color)"
      ],
      "execution_count": 199,
      "outputs": [
        {
          "output_type": "execute_result",
          "data": {
            "text/plain": [
              "<matplotlib.axes._subplots.AxesSubplot at 0x7fd7c25af828>"
            ]
          },
          "metadata": {
            "tags": []
          },
          "execution_count": 199
        },
        {
          "output_type": "display_data",
          "data": {
            "image/png": "[encoded data removed]",
            "text/plain": [
              "<Figure size 432x288 with 1 Axes>"
            ]
          },
          "metadata": {
            "tags": []
          }
        }
      ]
    },
    {
      "cell_type": "markdown",
      "metadata": {
        "id": "7IQ39HT_Bg1R",
        "colab_type": "text"
      },
      "source": [
        "### online or not "
      ]
    },
    {
      "cell_type": "code",
      "metadata": {
        "id": "cUggRxQaBgX1",
        "colab_type": "code",
        "colab": {
          "base_uri": "https://localhost:8080/",
          "height": 302
        },
        "outputId": "db62a6e4-0b69-4209-ff31-84897fb99260"
      },
      "source": [
        "affluent=cus_info[cus_info[\"wealth_segment\"]==\"Affluent Customer\"]\n",
        "affluent=affluent.groupby(\"online_order\")[\"Profits\"].sum()\n",
        "affluent=affluent.reset_index(name=\"profit\").sort_values(by=\"profit\",ascending=False)\n",
        "# get color \n",
        "base_color=sns.color_palette()[1]\n",
        "# draw chart\n",
        "sns.barplot(x=\"online_order\",y=\"profit\",data=affluent,color=base_color)"
      ],
      "execution_count": 200,
      "outputs": [
        {
          "output_type": "execute_result",
          "data": {
            "text/plain": [
              "<matplotlib.axes._subplots.AxesSubplot at 0x7fd7c24c14a8>"
            ]
          },
          "metadata": {
            "tags": []
          },
          "execution_count": 200
        },
        {
          "output_type": "display_data",
          "data": {
            "image/png": "[encoded data removed]",
            "text/plain": [
              "<Figure size 432x288 with 1 Axes>"
            ]
          },
          "metadata": {
            "tags": []
          }
        }
      ]
    },
    {
      "cell_type": "markdown",
      "metadata": {
        "id": "VzkFH6Fw7J7i",
        "colab_type": "text"
      },
      "source": [
        ""
      ]
    },
    {
      "cell_type": "markdown",
      "metadata": {
        "id": "4RlQ57lZv02o",
        "colab_type": "text"
      },
      "source": [
        "## Highnetworth"
      ]
    },
    {
      "cell_type": "markdown",
      "metadata": {
        "id": "gQ_GOidEd1Og",
        "colab_type": "text"
      },
      "source": [
        "### Job tittle of high net worth customers\n"
      ]
    },
    {
      "cell_type": "code",
      "metadata": {
        "id": "gOPoV-ksdL65",
        "colab_type": "code",
        "colab": {
          "base_uri": "https://localhost:8080/",
          "height": 302
        },
        "outputId": "7ec78f56-907e-46c2-af38-ff55708cc791"
      },
      "source": [
        "# group by job industry and high networth customers\n",
        "HighNetWorth=cus_info[cus_info[\"wealth_segment\"]==\"High Net Worth\"]\n",
        "HighNetWorth=HighNetWorth.groupby(\"job_title\")[\"Profits\"].sum()\n",
        "HighNetWorth=HighNetWorth.reset_index(name=\"profit\").sort_values(by=\"profit\",ascending=False)\n",
        "# get color \n",
        "base_color=sns.color_palette()[1]\n",
        "# draw chart\n",
        "sns.barplot(x=\"profit\",y=\"job_title\",data=HighNetWorth,color=base_color)"
      ],
      "execution_count": 201,
      "outputs": [
        {
          "output_type": "execute_result",
          "data": {
            "text/plain": [
              "<matplotlib.axes._subplots.AxesSubplot at 0x7fd7c244a6d8>"
            ]
          },
          "metadata": {
            "tags": []
          },
          "execution_count": 201
        },
        {
          "output_type": "display_data",
          "data": {
            "image/png": "[encoded data removed]",
            "text/plain": [
              "<Figure size 432x288 with 1 Axes>"
            ]
          },
          "metadata": {
            "tags": []
          }
        }
      ]
    },
    {
      "cell_type": "markdown",
      "metadata": {
        "id": "YEJ2Tap7Fmyw",
        "colab_type": "text"
      },
      "source": [
        "# job industry  of highnetworth "
      ]
    },
    {
      "cell_type": "code",
      "metadata": {
        "id": "QyvpIePMFm7v",
        "colab_type": "code",
        "colab": {
          "base_uri": "https://localhost:8080/",
          "height": 302
        },
        "outputId": "d6ade3ad-5439-4cad-af54-fad94d917e20"
      },
      "source": [
        "# group by job industry and high networth customers\n",
        "HighNetWorth=cus_info[cus_info[\"wealth_segment\"]==\"High Net Worth\"]\n",
        "HighNetWortht_industry=HighNetWorth.groupby(\"job_industry_category\")[\"Profits\"].sum()\n",
        "HighNetWortht_industry=HighNetWortht_industry.reset_index(name=\"profit\").sort_values(by=\"profit\",ascending=False)\n",
        "# get color \n",
        "base_color=sns.color_palette()[1]\n",
        "# draw chart\n",
        "sns.barplot(x=\"profit\",y=\"job_industry_category\",data=affluent_industry,color=base_color)"
      ],
      "execution_count": 202,
      "outputs": [
        {
          "output_type": "execute_result",
          "data": {
            "text/plain": [
              "<matplotlib.axes._subplots.AxesSubplot at 0x7fd7c2d3dc50>"
            ]
          },
          "metadata": {
            "tags": []
          },
          "execution_count": 202
        },
        {
          "output_type": "display_data",
          "data": {
            "image/png": "[encoded data removed]",
            "text/plain": [
              "<Figure size 432x288 with 1 Axes>"
            ]
          },
          "metadata": {
            "tags": []
          }
        }
      ]
    },
    {
      "cell_type": "markdown",
      "metadata": {
        "id": "8kY9dOdrjpht",
        "colab_type": "text"
      },
      "source": [
        "### state of highnetworth"
      ]
    },
    {
      "cell_type": "code",
      "metadata": {
        "id": "9vcvl3NmfN02",
        "colab_type": "code",
        "colab": {
          "base_uri": "https://localhost:8080/",
          "height": 302
        },
        "outputId": "8a9eeb97-096b-4d4f-a528-ece1327cab3e"
      },
      "source": [
        "state_HighNetWorth=cus_info[cus_info[\"wealth_segment\"]==\"High Net Worth\"]\n",
        "state_HighNetWorth=state_HighNetWorth.groupby(\"state\")[\"Profits\"].sum()\n",
        "state_HighNetWorth=state_HighNetWorth.reset_index(name=\"profit\").sort_values(by=\"profit\",ascending=False)\n",
        "# get color \n",
        "base_color=sns.color_palette()[1]\n",
        "# draw chart\n",
        "sns.barplot(x=\"profit\",y=\"state\",data=state_HighNetWorth,color=base_color)"
      ],
      "execution_count": 203,
      "outputs": [
        {
          "output_type": "execute_result",
          "data": {
            "text/plain": [
              "<matplotlib.axes._subplots.AxesSubplot at 0x7fd7c2d24208>"
            ]
          },
          "metadata": {
            "tags": []
          },
          "execution_count": 203
        },
        {
          "output_type": "display_data",
          "data": {
            "image/png": "[encoded data removed]",
            "text/plain": [
              "<Figure size 432x288 with 1 Axes>"
            ]
          },
          "metadata": {
            "tags": []
          }
        }
      ]
    },
    {
      "cell_type": "markdown",
      "metadata": {
        "id": "CKwff7UrzJVH",
        "colab_type": "text"
      },
      "source": [
        "### brand of highnetworth \n"
      ]
    },
    {
      "cell_type": "code",
      "metadata": {
        "id": "dI0o76m8u3wE",
        "colab_type": "code",
        "colab": {
          "base_uri": "https://localhost:8080/",
          "height": 302
        },
        "outputId": "3af74556-9ffd-4d7b-83d9-007a5d73b51a"
      },
      "source": [
        "brand_HighNetWorth=cus_info[cus_info[\"wealth_segment\"]==\"High Net Worth\"]\n",
        "brand_HighNetWorth=brand_HighNetWorth.groupby(\"brand\")[\"Profits\"].sum()\n",
        "brand_HighNetWorth=brand_HighNetWorth.reset_index(name=\"profit\").sort_values(by=\"profit\",ascending=False)\n",
        "# get color \n",
        "base_color=sns.color_palette()[1]\n",
        "# draw chart\n",
        "sns.barplot(x=\"profit\",y=\"brand\",data=brand_HighNetWorth,color=base_color)"
      ],
      "execution_count": 204,
      "outputs": [
        {
          "output_type": "execute_result",
          "data": {
            "text/plain": [
              "<matplotlib.axes._subplots.AxesSubplot at 0x7fd7c2c7e390>"
            ]
          },
          "metadata": {
            "tags": []
          },
          "execution_count": 204
        },
        {
          "output_type": "display_data",
          "data": {
            "image/png": "[encoded data removed]",
            "text/plain": [
              "<Figure size 432x288 with 1 Axes>"
            ]
          },
          "metadata": {
            "tags": []
          }
        }
      ]
    },
    {
      "cell_type": "markdown",
      "metadata": {
        "id": "XUPwrvxl1UQx",
        "colab_type": "text"
      },
      "source": [
        "### gender of highnetworth "
      ]
    },
    {
      "cell_type": "code",
      "metadata": {
        "id": "FvMC4Fdj1UiO",
        "colab_type": "code",
        "colab": {
          "base_uri": "https://localhost:8080/",
          "height": 302
        },
        "outputId": "953ffeec-8eb5-4f17-bdd9-bd737755b442"
      },
      "source": [
        "gender__HighNetWorth=cus_info[cus_info[\"wealth_segment\"]==\"High Net Worth\"]\n",
        "gender__HighNetWorth=gender__HighNetWorth.groupby(\"gender\")[\"Profits\"].sum()\n",
        "gender__HighNetWorth=gender__HighNetWorth.reset_index(name=\"profit\").sort_values(by=\"profit\",ascending=False)\n",
        "# get color \n",
        "base_color=sns.color_palette()[1]\n",
        "# draw chart\n",
        "sns.barplot(x=\"profit\",y=\"gender\",data=gender__HighNetWorth,color=base_color)"
      ],
      "execution_count": 205,
      "outputs": [
        {
          "output_type": "execute_result",
          "data": {
            "text/plain": [
              "<matplotlib.axes._subplots.AxesSubplot at 0x7fd7c2c68d68>"
            ]
          },
          "metadata": {
            "tags": []
          },
          "execution_count": 205
        },
        {
          "output_type": "display_data",
          "data": {
            "image/png": "[encoded data removed]",
            "text/plain": [
              "<Figure size 432x288 with 1 Axes>"
            ]
          },
          "metadata": {
            "tags": []
          }
        }
      ]
    },
    {
      "cell_type": "markdown",
      "metadata": {
        "id": "isPJsaMe2_Dh",
        "colab_type": "text"
      },
      "source": [
        "### product line of high networthvalue customers \n"
      ]
    },
    {
      "cell_type": "code",
      "metadata": {
        "id": "MOOG7Vm92-QB",
        "colab_type": "code",
        "colab": {
          "base_uri": "https://localhost:8080/",
          "height": 302
        },
        "outputId": "7834151a-7cc1-4cb6-f9b6-7b79db891def"
      },
      "source": [
        "product_line__HighNetWorth=cus_info[cus_info[\"wealth_segment\"]==\"High Net Worth\"]\n",
        "product_line__HighNetWorth=product_line__HighNetWorth.groupby(\"product_line\")[\"Profits\"].sum()\n",
        "product_line__HighNetWorth=product_line__HighNetWorth.reset_index(name=\"profit\").sort_values(by=\"profit\",ascending=False)\n",
        "# get color \n",
        "base_color=sns.color_palette()[1]\n",
        "# draw chart\n",
        "sns.barplot(x=\"profit\",y=\"product_line\",data=product_line__HighNetWorth,color=base_color)"
      ],
      "execution_count": 206,
      "outputs": [
        {
          "output_type": "execute_result",
          "data": {
            "text/plain": [
              "<matplotlib.axes._subplots.AxesSubplot at 0x7fd7c2b8b208>"
            ]
          },
          "metadata": {
            "tags": []
          },
          "execution_count": 206
        },
        {
          "output_type": "display_data",
          "data": {
            "image/png": "[encoded data removed]",
            "text/plain": [
              "<Figure size 432x288 with 1 Axes>"
            ]
          },
          "metadata": {
            "tags": []
          }
        }
      ]
    },
    {
      "cell_type": "markdown",
      "metadata": {
        "id": "iDFz1AkO60ze",
        "colab_type": "text"
      },
      "source": [
        "### product size of highnetworth "
      ]
    },
    {
      "cell_type": "code",
      "metadata": {
        "id": "O_CTY3SM60-g",
        "colab_type": "code",
        "colab": {
          "base_uri": "https://localhost:8080/",
          "height": 302
        },
        "outputId": "79cf78a2-9b1d-482b-dfb0-b32fedb54e77"
      },
      "source": [
        "product_size_affluent=cus_info[cus_info[\"wealth_segment\"]==\"High Net Worth\"]\n",
        "product_size_affluent=product_size_affluent.groupby(\"product_size\")[\"Profits\"].sum()\n",
        "product_size_affluent=product_size_affluent.reset_index(name=\"profit\").sort_values(by=\"profit\",ascending=False)\n",
        "# get color \n",
        "base_color=sns.color_palette()[1]\n",
        "# draw chart\n",
        "sns.barplot(x=\"profit\",y=\"product_size\",data=product_size_affluent,color=base_color)"
      ],
      "execution_count": 207,
      "outputs": [
        {
          "output_type": "execute_result",
          "data": {
            "text/plain": [
              "<matplotlib.axes._subplots.AxesSubplot at 0x7fd7c2ab0470>"
            ]
          },
          "metadata": {
            "tags": []
          },
          "execution_count": 207
        },
        {
          "output_type": "display_data",
          "data": {
            "image/png": "[encoded data removed]",
            "text/plain": [
              "<Figure size 432x288 with 1 Axes>"
            ]
          },
          "metadata": {
            "tags": []
          }
        }
      ]
    },
    {
      "cell_type": "markdown",
      "metadata": {
        "id": "OP18kOK_5IET",
        "colab_type": "text"
      },
      "source": [
        "### products class of high net worth customers \n"
      ]
    },
    {
      "cell_type": "code",
      "metadata": {
        "id": "ML1EJbAk5INM",
        "colab_type": "code",
        "colab": {
          "base_uri": "https://localhost:8080/",
          "height": 302
        },
        "outputId": "472c262a-e2ef-47eb-d801-8d32cc58db5a"
      },
      "source": [
        "product_class_HighNetWorth=cus_info[cus_info[\"wealth_segment\"]==\"High Net Worth\"]\n",
        "product_class_HighNetWorth=product_class_HighNetWorth.groupby(\"product_class\")[\"Profits\"].sum()\n",
        "product_class_HighNetWorth=product_class_HighNetWorth.reset_index(name=\"profit\").sort_values(by=\"profit\",ascending=False)\n",
        "# get color \n",
        "base_color=sns.color_palette()[1]\n",
        "# draw chart\n",
        "sns.barplot(x=\"profit\",y=\"product_class\",data=product_class_HighNetWorth,color=base_color)"
      ],
      "execution_count": 208,
      "outputs": [
        {
          "output_type": "execute_result",
          "data": {
            "text/plain": [
              "<matplotlib.axes._subplots.AxesSubplot at 0x7fd7c2aacd68>"
            ]
          },
          "metadata": {
            "tags": []
          },
          "execution_count": 208
        },
        {
          "output_type": "display_data",
          "data": {
            "image/png": "[encoded data removed]",
            "text/plain": [
              "<Figure size 432x288 with 1 Axes>"
            ]
          },
          "metadata": {
            "tags": []
          }
        }
      ]
    },
    {
      "cell_type": "markdown",
      "metadata": {
        "id": "9wyj3o3QC76o",
        "colab_type": "text"
      },
      "source": [
        "### own cars or not "
      ]
    },
    {
      "cell_type": "code",
      "metadata": {
        "id": "RsOLRzyPEnbn",
        "colab_type": "code",
        "colab": {
          "base_uri": "https://localhost:8080/",
          "height": 302
        },
        "outputId": "56beb472-ac39-4070-d04a-ee24a0637797"
      },
      "source": [
        "HighNetWorth=cus_info[cus_info[\"wealth_segment\"]==\"High Net Worth\"]\n",
        "HighNetWorth=HighNetWorth.groupby(\"owns_car\")[\"Profits\"].sum()\n",
        "HighNetWorth=HighNetWorth.reset_index(name=\"profit\").sort_values(by=\"profit\",ascending=False)\n",
        "# get color \n",
        "base_color=sns.color_palette()[1]\n",
        "# draw chart\n",
        "sns.barplot(x=\"owns_car\",y=\"profit\",data=HighNetWorth,color=base_color)"
      ],
      "execution_count": 209,
      "outputs": [
        {
          "output_type": "execute_result",
          "data": {
            "text/plain": [
              "<matplotlib.axes._subplots.AxesSubplot at 0x7fd7c2a6ccc0>"
            ]
          },
          "metadata": {
            "tags": []
          },
          "execution_count": 209
        },
        {
          "output_type": "display_data",
          "data": {
            "image/png": "[encoded data removed]",
            "text/plain": [
              "<Figure size 432x288 with 1 Axes>"
            ]
          },
          "metadata": {
            "tags": []
          }
        }
      ]
    },
    {
      "cell_type": "markdown",
      "metadata": {
        "id": "LDOUbSp9C8H1",
        "colab_type": "text"
      },
      "source": [
        "### online order or not "
      ]
    },
    {
      "cell_type": "code",
      "metadata": {
        "id": "_zkE3D4-FVLd",
        "colab_type": "code",
        "colab": {
          "base_uri": "https://localhost:8080/",
          "height": 302
        },
        "outputId": "68ba90f6-125d-41cc-c13c-0570a95fcd5b"
      },
      "source": [
        "HighNetWorth=cus_info[cus_info[\"wealth_segment\"]==\"High Net Worth\"]\n",
        "HighNetWorth=HighNetWorth.groupby(\"online_order\")[\"Profits\"].sum()\n",
        "HighNetWorth=HighNetWorth.reset_index(name=\"profit\").sort_values(by=\"profit\",ascending=False)\n",
        "# get color \n",
        "base_color=sns.color_palette()[1]\n",
        "# draw chart\n",
        "sns.barplot(x=\"online_order\",y=\"profit\",data=HighNetWorth,color=base_color)"
      ],
      "execution_count": 210,
      "outputs": [
        {
          "output_type": "execute_result",
          "data": {
            "text/plain": [
              "<matplotlib.axes._subplots.AxesSubplot at 0x7fd7c2943c50>"
            ]
          },
          "metadata": {
            "tags": []
          },
          "execution_count": 210
        },
        {
          "output_type": "display_data",
          "data": {
            "image/png": "[encoded data removed]",
            "text/plain": [
              "<Figure size 432x288 with 1 Axes>"
            ]
          },
          "metadata": {
            "tags": []
          }
        }
      ]
    },
    {
      "cell_type": "markdown",
      "metadata": {
        "id": "ya2U9TvcCIso",
        "colab_type": "text"
      },
      "source": [
        "# Time series \n"
      ]
    },
    {
      "cell_type": "code",
      "metadata": {
        "id": "zD8tYTxCCMcW",
        "colab_type": "code",
        "colab": {
          "base_uri": "https://localhost:8080/",
          "height": 0
        },
        "outputId": "f5bf0a09-1699-4ce3-99a3-a91109a88458"
      },
      "source": [
        "cus_transaction.info()"
      ],
      "execution_count": 211,
      "outputs": [
        {
          "output_type": "stream",
          "text": [
            "<class 'pandas.core.frame.DataFrame'>\n",
            "RangeIndex: 20000 entries, 0 to 19999\n",
            "Data columns (total 14 columns):\n",
            " #   Column                   Non-Null Count  Dtype         \n",
            "---  ------                   --------------  -----         \n",
            " 0   transaction_id           20000 non-null  int64         \n",
            " 1   product_id               20000 non-null  int64         \n",
            " 2   customer_id              20000 non-null  int64         \n",
            " 3   transaction_date         20000 non-null  datetime64[ns]\n",
            " 4   online_order             19640 non-null  float64       \n",
            " 5   order_status             20000 non-null  object        \n",
            " 6   brand                    19803 non-null  object        \n",
            " 7   product_line             19803 non-null  object        \n",
            " 8   product_class            19803 non-null  object        \n",
            " 9   product_size             19803 non-null  object        \n",
            " 10  list_price               20000 non-null  float64       \n",
            " 11  standard_cost            19803 non-null  float64       \n",
            " 12  product_first_sold_date  19803 non-null  float64       \n",
            " 13  Profits                  20000 non-null  float64       \n",
            "dtypes: datetime64[ns](1), float64(5), int64(3), object(5)\n",
            "memory usage: 2.1+ MB\n"
          ],
          "name": "stdout"
        }
      ]
    },
    {
      "cell_type": "code",
      "metadata": {
        "id": "-_Q0gyjrCToE",
        "colab_type": "code",
        "colab": {}
      },
      "source": [
        "cus_transaction.set_index(\"transaction_date\",inplace=True)"
      ],
      "execution_count": 212,
      "outputs": []
    },
    {
      "cell_type": "code",
      "metadata": {
        "id": "GlimWm96DfVr",
        "colab_type": "code",
        "colab": {
          "base_uri": "https://localhost:8080/",
          "height": 0
        },
        "outputId": "89de2f49-9688-46cd-e0d0-481d0a9ac619"
      },
      "source": [
        "profit_dates=cus_transaction[\"Profits\"]\n",
        "profit_dates"
      ],
      "execution_count": 213,
      "outputs": [
        {
          "output_type": "execute_result",
          "data": {
            "text/plain": [
              "transaction_date\n",
              "2017-01-01     509.97\n",
              "2017-01-01    1660.88\n",
              "2017-01-01    1028.76\n",
              "2017-01-01     167.21\n",
              "2017-01-01      45.96\n",
              "               ...   \n",
              "2017-12-30     195.34\n",
              "2017-12-30     110.81\n",
              "2017-12-30     451.65\n",
              "2017-12-30     209.84\n",
              "2017-12-30    1383.61\n",
              "Name: Profits, Length: 20000, dtype: float64"
            ]
          },
          "metadata": {
            "tags": []
          },
          "execution_count": 213
        }
      ]
    },
    {
      "cell_type": "code",
      "metadata": {
        "id": "lRvcuBMKCqj3",
        "colab_type": "code",
        "colab": {
          "base_uri": "https://localhost:8080/",
          "height": 0
        },
        "outputId": "b879d705-159f-4cb4-b0b1-d20a351a7835"
      },
      "source": [
        "profit_dates.resample(rule=\"M\").mean().plot()"
      ],
      "execution_count": 214,
      "outputs": [
        {
          "output_type": "execute_result",
          "data": {
            "text/plain": [
              "<matplotlib.axes._subplots.AxesSubplot at 0x7fd7c1fe5e10>"
            ]
          },
          "metadata": {
            "tags": []
          },
          "execution_count": 214
        },
        {
          "output_type": "display_data",
          "data": {
            "image/png": "[encoded data removed]",
            "text/plain": [
              "<Figure size 432x288 with 1 Axes>"
            ]
          },
          "metadata": {
            "tags": []
          }
        }
      ]
    },
    {
      "cell_type": "markdown",
      "metadata": {
        "id": "XduGqccwFUmS",
        "colab_type": "text"
      },
      "source": [
        "### there is a dramastical drop on february and sep \n",
        "### sale peak in Novembers"
      ]
    },
    {
      "cell_type": "markdown",
      "metadata": {
        "id": "rWSAstnWKQbN",
        "colab_type": "text"
      },
      "source": [
        "# Hypothesis testing\n",
        "**we want to know if the new page is better than the old page so .** People who own cars will buy more bicycle \n",
        "$$H_0: M_{car}-M_{nocar} <=0$$\n",
        "$$H_1: M_{car}-M_{nocar} > 0$$\n",
        "    "
      ]
    },
    {
      "cell_type": "markdown",
      "metadata": {
        "id": "Yl0GaBT6Plpu",
        "colab_type": "text"
      },
      "source": [
        "\n",
        "> Test whether having a car or not affect customers behaviors on buying a bicylce or not"
      ]
    },
    {
      "cell_type": "markdown",
      "metadata": {
        "id": "j-8E_ZUymwZt",
        "colab_type": "text"
      },
      "source": [
        "### split data into train and split test "
      ]
    },
    {
      "cell_type": "code",
      "metadata": {
        "id": "8TlVwSLxpovJ",
        "colab_type": "code",
        "colab": {}
      },
      "source": [
        "X = cus_info[\"owns_car\"]\n",
        "y = cus_info[\"Profits\"]"
      ],
      "execution_count": 215,
      "outputs": []
    },
    {
      "cell_type": "code",
      "metadata": {
        "id": "mSVka_82mw9q",
        "colab_type": "code",
        "colab": {}
      },
      "source": [
        "from sklearn.model_selection import train_test_split\n",
        "ownscar_treatment,ownscar_control,Profits_treatment,Profits_control= train_test_split(X, y, test_size = 0.2, random_state = 1)"
      ],
      "execution_count": 216,
      "outputs": []
    },
    {
      "cell_type": "code",
      "metadata": {
        "id": "oObL3LWdUI8V",
        "colab_type": "code",
        "colab": {}
      },
      "source": [
        "df1=pd.concat([ownscar_treatment,Profits_treatment],join=\"outer\", axis=1 )\n",
        "df2=pd.concat([ownscar_control,Profits_control],join=\"outer\", axis=1)\n"
      ],
      "execution_count": 217,
      "outputs": []
    },
    {
      "cell_type": "code",
      "metadata": {
        "id": "WzDCNgLncLVa",
        "colab_type": "code",
        "colab": {
          "base_uri": "https://localhost:8080/",
          "height": 419
        },
        "outputId": "d8b7ae07-f007-483a-d222-33f787366076"
      },
      "source": [
        "df1.rename(columns={ \"owns_car\": \"owns_car_treatment\",\"Profits\":\"Profits_treatment\" })\n",
        "df1[\"treatment\"]=\"treatment\"\n",
        "df1"
      ],
      "execution_count": 218,
      "outputs": [
        {
          "output_type": "execute_result",
          "data": {
            "text/html": [
              "<div>\n",
              "<style scoped>\n",
              "    .dataframe tbody tr th:only-of-type {\n",
              "        vertical-align: middle;\n",
              "    }\n",
              "\n",
              "    .dataframe tbody tr th {\n",
              "        vertical-align: top;\n",
              "    }\n",
              "\n",
              "    .dataframe thead th {\n",
              "        text-align: right;\n",
              "    }\n",
              "</style>\n",
              "<table border=\"1\" class=\"dataframe\">\n",
              "  <thead>\n",
              "    <tr style=\"text-align: right;\">\n",
              "      <th></th>\n",
              "      <th>owns_car</th>\n",
              "      <th>Profits</th>\n",
              "      <th>treatment</th>\n",
              "    </tr>\n",
              "  </thead>\n",
              "  <tbody>\n",
              "    <tr>\n",
              "      <th>277</th>\n",
              "      <td>Yes</td>\n",
              "      <td>64.93</td>\n",
              "      <td>treatment</td>\n",
              "    </tr>\n",
              "    <tr>\n",
              "      <th>727</th>\n",
              "      <td>No</td>\n",
              "      <td>903.11</td>\n",
              "      <td>treatment</td>\n",
              "    </tr>\n",
              "    <tr>\n",
              "      <th>483</th>\n",
              "      <td>No</td>\n",
              "      <td>641.64</td>\n",
              "      <td>treatment</td>\n",
              "    </tr>\n",
              "    <tr>\n",
              "      <th>836</th>\n",
              "      <td>No</td>\n",
              "      <td>957.02</td>\n",
              "      <td>treatment</td>\n",
              "    </tr>\n",
              "    <tr>\n",
              "      <th>218</th>\n",
              "      <td>Yes</td>\n",
              "      <td>1592.19</td>\n",
              "      <td>treatment</td>\n",
              "    </tr>\n",
              "    <tr>\n",
              "      <th>...</th>\n",
              "      <td>...</td>\n",
              "      <td>...</td>\n",
              "      <td>...</td>\n",
              "    </tr>\n",
              "    <tr>\n",
              "      <th>715</th>\n",
              "      <td>Yes</td>\n",
              "      <td>133.38</td>\n",
              "      <td>treatment</td>\n",
              "    </tr>\n",
              "    <tr>\n",
              "      <th>767</th>\n",
              "      <td>No</td>\n",
              "      <td>64.51</td>\n",
              "      <td>treatment</td>\n",
              "    </tr>\n",
              "    <tr>\n",
              "      <th>72</th>\n",
              "      <td>Yes</td>\n",
              "      <td>1544.61</td>\n",
              "      <td>treatment</td>\n",
              "    </tr>\n",
              "    <tr>\n",
              "      <th>235</th>\n",
              "      <td>No</td>\n",
              "      <td>45.96</td>\n",
              "      <td>treatment</td>\n",
              "    </tr>\n",
              "    <tr>\n",
              "      <th>37</th>\n",
              "      <td>Yes</td>\n",
              "      <td>1571.83</td>\n",
              "      <td>treatment</td>\n",
              "    </tr>\n",
              "  </tbody>\n",
              "</table>\n",
              "<p>710 rows × 3 columns</p>\n",
              "</div>"
            ],
            "text/plain": [
              "    owns_car  Profits  treatment\n",
              "277      Yes    64.93  treatment\n",
              "727       No   903.11  treatment\n",
              "483       No   641.64  treatment\n",
              "836       No   957.02  treatment\n",
              "218      Yes  1592.19  treatment\n",
              "..       ...      ...        ...\n",
              "715      Yes   133.38  treatment\n",
              "767       No    64.51  treatment\n",
              "72       Yes  1544.61  treatment\n",
              "235       No    45.96  treatment\n",
              "37       Yes  1571.83  treatment\n",
              "\n",
              "[710 rows x 3 columns]"
            ]
          },
          "metadata": {
            "tags": []
          },
          "execution_count": 218
        }
      ]
    },
    {
      "cell_type": "code",
      "metadata": {
        "id": "ysOUNeSOc2wD",
        "colab_type": "code",
        "colab": {
          "base_uri": "https://localhost:8080/",
          "height": 419
        },
        "outputId": "054533a3-63e8-4a72-a53f-8a356b21e73b"
      },
      "source": [
        "df2.rename(columns={ \"owns_car\": \"owns_car_control\",\"Profits\":\"Profits_control\" })\n",
        "df2[\"control\"]=\"control\"\n",
        "df2"
      ],
      "execution_count": 219,
      "outputs": [
        {
          "output_type": "execute_result",
          "data": {
            "text/html": [
              "<div>\n",
              "<style scoped>\n",
              "    .dataframe tbody tr th:only-of-type {\n",
              "        vertical-align: middle;\n",
              "    }\n",
              "\n",
              "    .dataframe tbody tr th {\n",
              "        vertical-align: top;\n",
              "    }\n",
              "\n",
              "    .dataframe thead th {\n",
              "        text-align: right;\n",
              "    }\n",
              "</style>\n",
              "<table border=\"1\" class=\"dataframe\">\n",
              "  <thead>\n",
              "    <tr style=\"text-align: right;\">\n",
              "      <th></th>\n",
              "      <th>owns_car</th>\n",
              "      <th>Profits</th>\n",
              "      <th>control</th>\n",
              "    </tr>\n",
              "  </thead>\n",
              "  <tbody>\n",
              "    <tr>\n",
              "      <th>523</th>\n",
              "      <td>No</td>\n",
              "      <td>167.21</td>\n",
              "      <td>control</td>\n",
              "    </tr>\n",
              "    <tr>\n",
              "      <th>314</th>\n",
              "      <td>No</td>\n",
              "      <td>1660.88</td>\n",
              "      <td>control</td>\n",
              "    </tr>\n",
              "    <tr>\n",
              "      <th>769</th>\n",
              "      <td>No</td>\n",
              "      <td>812.44</td>\n",
              "      <td>control</td>\n",
              "    </tr>\n",
              "    <tr>\n",
              "      <th>320</th>\n",
              "      <td>No</td>\n",
              "      <td>1069.55</td>\n",
              "      <td>control</td>\n",
              "    </tr>\n",
              "    <tr>\n",
              "      <th>810</th>\n",
              "      <td>Yes</td>\n",
              "      <td>1383.61</td>\n",
              "      <td>control</td>\n",
              "    </tr>\n",
              "    <tr>\n",
              "      <th>...</th>\n",
              "      <td>...</td>\n",
              "      <td>...</td>\n",
              "      <td>...</td>\n",
              "    </tr>\n",
              "    <tr>\n",
              "      <th>865</th>\n",
              "      <td>No</td>\n",
              "      <td>1612.25</td>\n",
              "      <td>control</td>\n",
              "    </tr>\n",
              "    <tr>\n",
              "      <th>721</th>\n",
              "      <td>Yes</td>\n",
              "      <td>1702.55</td>\n",
              "      <td>control</td>\n",
              "    </tr>\n",
              "    <tr>\n",
              "      <th>472</th>\n",
              "      <td>No</td>\n",
              "      <td>1612.25</td>\n",
              "      <td>control</td>\n",
              "    </tr>\n",
              "    <tr>\n",
              "      <th>563</th>\n",
              "      <td>No</td>\n",
              "      <td>75.48</td>\n",
              "      <td>control</td>\n",
              "    </tr>\n",
              "    <tr>\n",
              "      <th>120</th>\n",
              "      <td>Yes</td>\n",
              "      <td>64.51</td>\n",
              "      <td>control</td>\n",
              "    </tr>\n",
              "  </tbody>\n",
              "</table>\n",
              "<p>178 rows × 3 columns</p>\n",
              "</div>"
            ],
            "text/plain": [
              "    owns_car  Profits  control\n",
              "523       No   167.21  control\n",
              "314       No  1660.88  control\n",
              "769       No   812.44  control\n",
              "320       No  1069.55  control\n",
              "810      Yes  1383.61  control\n",
              "..       ...      ...      ...\n",
              "865       No  1612.25  control\n",
              "721      Yes  1702.55  control\n",
              "472       No  1612.25  control\n",
              "563       No    75.48  control\n",
              "120      Yes    64.51  control\n",
              "\n",
              "[178 rows x 3 columns]"
            ]
          },
          "metadata": {
            "tags": []
          },
          "execution_count": 219
        }
      ]
    },
    {
      "cell_type": "code",
      "metadata": {
        "id": "tA_sNjx1dCVi",
        "colab_type": "code",
        "colab": {}
      },
      "source": [
        "df=pd.concat([df1,df2],join=\"outer\")\n"
      ],
      "execution_count": 220,
      "outputs": []
    },
    {
      "cell_type": "code",
      "metadata": {
        "id": "QFB9qRGvdZ_G",
        "colab_type": "code",
        "colab": {
          "base_uri": "https://localhost:8080/",
          "height": 419
        },
        "outputId": "dda702e7-a208-41ef-9eb1-62e48bc930bd"
      },
      "source": [
        "df"
      ],
      "execution_count": 221,
      "outputs": [
        {
          "output_type": "execute_result",
          "data": {
            "text/html": [
              "<div>\n",
              "<style scoped>\n",
              "    .dataframe tbody tr th:only-of-type {\n",
              "        vertical-align: middle;\n",
              "    }\n",
              "\n",
              "    .dataframe tbody tr th {\n",
              "        vertical-align: top;\n",
              "    }\n",
              "\n",
              "    .dataframe thead th {\n",
              "        text-align: right;\n",
              "    }\n",
              "</style>\n",
              "<table border=\"1\" class=\"dataframe\">\n",
              "  <thead>\n",
              "    <tr style=\"text-align: right;\">\n",
              "      <th></th>\n",
              "      <th>owns_car</th>\n",
              "      <th>Profits</th>\n",
              "      <th>treatment</th>\n",
              "      <th>control</th>\n",
              "    </tr>\n",
              "  </thead>\n",
              "  <tbody>\n",
              "    <tr>\n",
              "      <th>277</th>\n",
              "      <td>Yes</td>\n",
              "      <td>64.93</td>\n",
              "      <td>treatment</td>\n",
              "      <td>NaN</td>\n",
              "    </tr>\n",
              "    <tr>\n",
              "      <th>727</th>\n",
              "      <td>No</td>\n",
              "      <td>903.11</td>\n",
              "      <td>treatment</td>\n",
              "      <td>NaN</td>\n",
              "    </tr>\n",
              "    <tr>\n",
              "      <th>483</th>\n",
              "      <td>No</td>\n",
              "      <td>641.64</td>\n",
              "      <td>treatment</td>\n",
              "      <td>NaN</td>\n",
              "    </tr>\n",
              "    <tr>\n",
              "      <th>836</th>\n",
              "      <td>No</td>\n",
              "      <td>957.02</td>\n",
              "      <td>treatment</td>\n",
              "      <td>NaN</td>\n",
              "    </tr>\n",
              "    <tr>\n",
              "      <th>218</th>\n",
              "      <td>Yes</td>\n",
              "      <td>1592.19</td>\n",
              "      <td>treatment</td>\n",
              "      <td>NaN</td>\n",
              "    </tr>\n",
              "    <tr>\n",
              "      <th>...</th>\n",
              "      <td>...</td>\n",
              "      <td>...</td>\n",
              "      <td>...</td>\n",
              "      <td>...</td>\n",
              "    </tr>\n",
              "    <tr>\n",
              "      <th>865</th>\n",
              "      <td>No</td>\n",
              "      <td>1612.25</td>\n",
              "      <td>NaN</td>\n",
              "      <td>control</td>\n",
              "    </tr>\n",
              "    <tr>\n",
              "      <th>721</th>\n",
              "      <td>Yes</td>\n",
              "      <td>1702.55</td>\n",
              "      <td>NaN</td>\n",
              "      <td>control</td>\n",
              "    </tr>\n",
              "    <tr>\n",
              "      <th>472</th>\n",
              "      <td>No</td>\n",
              "      <td>1612.25</td>\n",
              "      <td>NaN</td>\n",
              "      <td>control</td>\n",
              "    </tr>\n",
              "    <tr>\n",
              "      <th>563</th>\n",
              "      <td>No</td>\n",
              "      <td>75.48</td>\n",
              "      <td>NaN</td>\n",
              "      <td>control</td>\n",
              "    </tr>\n",
              "    <tr>\n",
              "      <th>120</th>\n",
              "      <td>Yes</td>\n",
              "      <td>64.51</td>\n",
              "      <td>NaN</td>\n",
              "      <td>control</td>\n",
              "    </tr>\n",
              "  </tbody>\n",
              "</table>\n",
              "<p>888 rows × 4 columns</p>\n",
              "</div>"
            ],
            "text/plain": [
              "    owns_car  Profits  treatment  control\n",
              "277      Yes    64.93  treatment      NaN\n",
              "727       No   903.11  treatment      NaN\n",
              "483       No   641.64  treatment      NaN\n",
              "836       No   957.02  treatment      NaN\n",
              "218      Yes  1592.19  treatment      NaN\n",
              "..       ...      ...        ...      ...\n",
              "865       No  1612.25        NaN  control\n",
              "721      Yes  1702.55        NaN  control\n",
              "472       No  1612.25        NaN  control\n",
              "563       No    75.48        NaN  control\n",
              "120      Yes    64.51        NaN  control\n",
              "\n",
              "[888 rows x 4 columns]"
            ]
          },
          "metadata": {
            "tags": []
          },
          "execution_count": 221
        }
      ]
    },
    {
      "cell_type": "code",
      "metadata": {
        "id": "wImYJW0V_2pz",
        "colab_type": "code",
        "colab": {
          "base_uri": "https://localhost:8080/",
          "height": 34
        },
        "outputId": "f36790a3-2dad-47b8-d86e-34aea0d7db3d"
      },
      "source": [
        "profit_car=df1[df1[\"owns_car\"]==\"Yes\"][\"Profits\"].mean()\n",
        "profit_nocar=df1[df1[\"owns_car\"]==\"No\"][\"Profits\"].mean()\n",
        "profit_treatment=profit_car-profit_nocar\n",
        "profit_treatment\n"
      ],
      "execution_count": 222,
      "outputs": [
        {
          "output_type": "execute_result",
          "data": {
            "text/plain": [
              "12.403661971830047"
            ]
          },
          "metadata": {
            "tags": []
          },
          "execution_count": 222
        }
      ]
    },
    {
      "cell_type": "code",
      "metadata": {
        "id": "HF141jveH3vT",
        "colab_type": "code",
        "colab": {
          "base_uri": "https://localhost:8080/",
          "height": 34
        },
        "outputId": "9f358dd8-2b77-4108-97c5-95ee28d41cd7"
      },
      "source": [
        "profit_car=df2[df2[\"owns_car\"]==\"Yes\"][\"Profits\"].mean()\n",
        "profit_nocar=df2[df2[\"owns_car\"]==\"No\"][\"Profits\"].mean()\n",
        "profit_control=profit_car-profit_nocar\n",
        "profit_control "
      ],
      "execution_count": 223,
      "outputs": [
        {
          "output_type": "execute_result",
          "data": {
            "text/plain": [
              "74.47649533307708"
            ]
          },
          "metadata": {
            "tags": []
          },
          "execution_count": 223
        }
      ]
    },
    {
      "cell_type": "code",
      "metadata": {
        "id": "ElwSDX9W2not",
        "colab_type": "code",
        "colab": {
          "base_uri": "https://localhost:8080/",
          "height": 34
        },
        "outputId": "2d29da8f-dc56-43b1-c349-5c6401de1e71"
      },
      "source": [
        "# compute observed difference in classroom time\n",
        "obs_diff = profit_treatment - profit_control\n",
        "obs_diff\n"
      ],
      "execution_count": 224,
      "outputs": [
        {
          "output_type": "execute_result",
          "data": {
            "text/plain": [
              "-62.072833361247035"
            ]
          },
          "metadata": {
            "tags": []
          },
          "execution_count": 224
        }
      ]
    },
    {
      "cell_type": "code",
      "metadata": {
        "id": "6MCfpIkB2zAw",
        "colab_type": "code",
        "colab": {}
      },
      "source": [
        "# create sampling distribution of difference in average classroom times\n",
        "# with boostrapping\n",
        "diffs = []\n",
        "size = df.shape[0]\n",
        "for _ in range(10000):\n",
        "    b1_samp = df1.sample(size, replace=True)\n",
        "    b2_samp = df2.sample(size,replace=True )\n",
        "    profit_car=b1_samp[b1_samp[\"owns_car\"]==\"Yes\"][\"Profits\"].mean()\n",
        "    profit_nocar=b1_samp[b1_samp[\"owns_car\"]==\"No\"][\"Profits\"].mean()\n",
        "    profit_treatment=profit_car-profit_nocar\n",
        "    profit_car=b2_samp[b2_samp[\"owns_car\"]==\"Yes\"][\"Profits\"].mean()\n",
        "    profit_nocar=b2_samp[b2_samp[\"owns_car\"]==\"No\"][\"Profits\"].mean()\n",
        "    profit_control=profit_car-profit_nocar\n",
        "    diffs.append(profit_treatment  - profit_control)"
      ],
      "execution_count": 225,
      "outputs": []
    },
    {
      "cell_type": "code",
      "metadata": {
        "id": "zb6US56W3i-a",
        "colab_type": "code",
        "colab": {}
      },
      "source": [
        " # convert to numpy array\n",
        "diffs = np.array(diffs)  "
      ],
      "execution_count": 226,
      "outputs": []
    },
    {
      "cell_type": "code",
      "metadata": {
        "id": "CdMixvok3mmP",
        "colab_type": "code",
        "colab": {
          "base_uri": "https://localhost:8080/",
          "height": 268
        },
        "outputId": "d87b56c4-6c4f-4fcc-9a88-3aaa8c3d77ec"
      },
      "source": [
        " \n",
        "# plot sampling distribution\n",
        "plt.hist(diffs);"
      ],
      "execution_count": 227,
      "outputs": [
        {
          "output_type": "display_data",
          "data": {
            "image/png": "[encoded data removed]",
            "text/plain": [
              "<Figure size 432x288 with 1 Axes>"
            ]
          },
          "metadata": {
            "tags": []
          }
        }
      ]
    },
    {
      "cell_type": "code",
      "metadata": {
        "id": "PitDDvZw3qTl",
        "colab_type": "code",
        "colab": {
          "base_uri": "https://localhost:8080/",
          "height": 285
        },
        "outputId": "3eeb1683-b2c5-43be-bdc7-3f64b80cd32e"
      },
      "source": [
        "\n",
        "# simulate distribution under the null hypothesis\n",
        "null_vals = np.random.normal(0, diffs.std(), diffs.size)\n",
        "# plot null distribution\n",
        "plt.hist(null_vals)\n",
        "# plot line for observed statistic\n",
        "plt.axvline(obs_diff, c='red')"
      ],
      "execution_count": 228,
      "outputs": [
        {
          "output_type": "execute_result",
          "data": {
            "text/plain": [
              "<matplotlib.lines.Line2D at 0x7fd7c261ec18>"
            ]
          },
          "metadata": {
            "tags": []
          },
          "execution_count": 228
        },
        {
          "output_type": "display_data",
          "data": {
            "image/png": "[encoded data removed]",
            "text/plain": [
              "<Figure size 432x288 with 1 Axes>"
            ]
          },
          "metadata": {
            "tags": []
          }
        }
      ]
    },
    {
      "cell_type": "code",
      "metadata": {
        "id": "b9Gaz3Ud36rz",
        "colab_type": "code",
        "colab": {
          "base_uri": "https://localhost:8080/",
          "height": 34
        },
        "outputId": "d3871fed-29a6-4383-e455-641d948fc4cc"
      },
      "source": [
        "# compute p value\n",
        "(null_vals > obs_diff).mean()"
      ],
      "execution_count": 229,
      "outputs": [
        {
          "output_type": "execute_result",
          "data": {
            "text/plain": [
              "0.8792"
            ]
          },
          "metadata": {
            "tags": []
          },
          "execution_count": 229
        }
      ]
    },
    {
      "cell_type": "markdown",
      "metadata": {
        "id": "v_kfGZHsUyc2",
        "colab_type": "text"
      },
      "source": [
        "**p value > 0.05 => accept the null hypothesis that people who has no car make more profit than people have car in the group 100 bringing most profit to the companies**"
      ]
    },
    {
      "cell_type": "markdown",
      "metadata": {
        "id": "XOcvfKm3Jt6u",
        "colab_type": "text"
      },
      "source": [
        "# export 100 customers "
      ]
    },
    {
      "cell_type": "code",
      "metadata": {
        "id": "4e4R3tvAFQ-s",
        "colab_type": "code",
        "colab": {}
      },
      "source": [
        "#writer = pd.ExcelWriter('KPMG_result.xlsx',engine='xlsxwriter')\n",
        "#Write each dataframe to a different worksheet.\n",
        "#cus_info.to_excel(writer, sheet_name='RFM_model')\n",
        "#writer.save()"
      ],
      "execution_count": 230,
      "outputs": []
    },
    {
      "cell_type": "markdown",
      "metadata": {
        "id": "yjMMPsZBJCyq",
        "colab_type": "text"
      },
      "source": [
        "# conclusion "
      ]
    },
    {
      "cell_type": "markdown",
      "metadata": {
        "id": "7bD8x6mIJaG3",
        "colab_type": "text"
      },
      "source": [
        "### Mass customers(average customers)\n",
        "even they don't pay alot for each products. Howevere, they are they ones in total contribute the most compared to Affluent and High Net Worth customers.\n",
        "The people from Mass segmentation are mostly from  business level including Financial Services , Manufacturing, Retail. They are Project Manager, Analysist, manager, web developer, coach, nurse. They are from New South Wales. The products which are famous are solex and WeareA2B and medium types of bicycle. Female has more intention to buy bicycle. The special figture in this mass segment people who own cars are likely to buy more bicycle than who has no cars and people like to buy online. "
      ]
    },
    {
      "cell_type": "markdown",
      "metadata": {
        "id": "VkuzM3hFQSVR",
        "colab_type": "text"
      },
      "source": [
        "## Affluent customers ( rich customers)\n",
        "Affuent customers in the list of 100 customers should be retained ,most of them who contribute the most to the profits of the companies come from 1) manufacturing industry, retail , health care. So when making a marketing stratergy, this companies should target to those 3 main industry. People from Victory buy more bicycle than others. WeareA2B is the best_seller, next is solex and trek bicycle, people prefer standards bike with medium and large size , touring and road account for small amount, mountain bicycle c is not significant. median class are more saught_after .This this affluenct section , female is more dominant compared to Male customers=> Therefore , should customize more option for woman. Most of people who buy cars don't have cars. People prefer to buy cars on the spots. "
      ]
    },
    {
      "cell_type": "markdown",
      "metadata": {
        "id": "mlU-gUHCb91V",
        "colab_type": "text"
      },
      "source": [
        "## High Net Worth (a rich person who has at least $1 million available to make investments with)\n",
        "The highest ranking of job industry category segmetn is Health.The people in this segment who buy bicycle the most seems really care about health because customers who came from health segment is 2.6 times than the 2nd one. Who live mostly in New South Wales (NSW) state. \n",
        "The bicycle WeareA2B is till the best seller in this segment. Product size, product class and product line are mostly profitable in standard and medium bicycles  . There is no difference between male and female purchase in High Net Worth. In contrary with affluent customers, the online order is slightly higher than offline, and the ratio of own cars is not so different. "
      ]
    },
    {
      "cell_type": "markdown",
      "metadata": {
        "id": "Xhy4qSggVY9H",
        "colab_type": "text"
      },
      "source": [
        "# Hypothesis test \n",
        "p value > 0.05 => accept the null hypothesis that people who has no car make more profit than people have car in the group 100 bringing most profit to the companies"
      ]
    }
  ]
}